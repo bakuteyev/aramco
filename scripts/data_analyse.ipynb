{
 "cells": [
  {
   "cell_type": "code",
   "execution_count": 173,
   "metadata": {},
   "outputs": [],
   "source": [
    "import pandas as pd\n",
    "import numpy as np\n",
    "from matplotlib import pyplot as plt\n",
    "import sklearn as sk\n",
    "from sklearn import model_selection"
   ]
  },
  {
   "cell_type": "code",
   "execution_count": 524,
   "metadata": {},
   "outputs": [],
   "source": [
    "pd.set_option('display.max_columns', 500)"
   ]
  },
  {
   "cell_type": "code",
   "execution_count": 525,
   "metadata": {},
   "outputs": [],
   "source": [
    "df = pd.read_csv('./aramco/data/CNS_gas_train.csv')\n",
    "df_test = pd.read_csv('./aramco/data/CNS_gas_test.csv')"
   ]
  },
  {
   "cell_type": "code",
   "execution_count": 526,
   "metadata": {},
   "outputs": [],
   "source": [
    "descr = df.iloc[0]\n",
    "df = df.iloc[1:]"
   ]
  },
  {
   "cell_type": "code",
   "execution_count": 527,
   "metadata": {
    "scrolled": true
   },
   "outputs": [
    {
     "data": {
      "text/plain": [
       "Country                                        NaN\n",
       "WELL_NAME                                Well name\n",
       "OGA Well Name                            Well name\n",
       "WH_SITETYPE                              Site type\n",
       "WH_FIELD                                Field name\n",
       "WH_BLOCK                                Block name\n",
       "WH_LAT                                    Latitude\n",
       "WH_LONG                                  Longitude\n",
       "WH_COORD_SYS                          Location CRS\n",
       "WH_OPERATOR                               Operator\n",
       "WH_SPUD_DATE                             Spud date\n",
       "WH_SPUD_YEAR                             Spud year\n",
       "WH_COMP_DATE                       Completion date\n",
       "WH_TD_M                           Target depth (m)\n",
       "WH_DR_ELEV_M           Derrick floor elevation (m)\n",
       "WH_DEPTH_REF                       Depth reference\n",
       "WH_WATER_DEPTH_M                   Water depth (m)\n",
       "SAMPLE_ID                              Sample code\n",
       "SH_DEPTH_TOP_FT                  Top depth in feet\n",
       "SH_DEPTH_BOT_FT                 Base depth in feet\n",
       "SH_SAMPLE_TYPE                         Sample type\n",
       "SH_SAMPLE_SUB_TYPE          Sample origin/sub-type\n",
       "SH_ORIG                              Sample origin\n",
       "SH_ORIG_DESC             Sample origin description\n",
       "SH_TREATMENT                      Sample treatment\n",
       "SH_TREATMENT_DESC     Sample treatment description\n",
       "SH_LITH                           Sample lithology\n",
       "SH_AGE                            Sample age (top)\n",
       "SH_AGE_BOT                     Sample age (bottom)\n",
       "SH_FORM                            Formation (top)\n",
       "                                  ...             \n",
       "GAS_HE                            HE air free Mol%\n",
       "GAS_N2                      Nitrogen air free Mol%\n",
       "D_G_METHOD                             Method used\n",
       "D_G_LAB                                 Laboratory\n",
       "D_G_DATA_TYPE                            Data type\n",
       "D_G_ACQ_DATE                      Acquisition date\n",
       "CSIA_CONC_C1                               vol% C1\n",
       "CSIA_NC1                                  dC13 nC1\n",
       "CSIA_NC2                                  dC13 nC2\n",
       "CSIA_NC3                                  dC13 nC3\n",
       "CSIA_IC4                                  dC13 iC4\n",
       "CSIA_NC4                                  dC13 nC4\n",
       "CSIA_NEOC5                         dC13 neopentane\n",
       "CSIA_IC5                                  dC13 iC5\n",
       "CSIA_NC5                                  dC13 nC5\n",
       "CSIA_ETHENE                                 ethene\n",
       "CSIA_PROPENE                               propene\n",
       "DC_G_CO2                                  dC13 CO2\n",
       "DO_G_CO2                                  dO18 CO2\n",
       "DS_G_H2S                                  dS34 H2S\n",
       "DD_G_H2                           dDeuterium on H2\n",
       "DN_G_N2                                    dN15 N2\n",
       "DD_G_GAS                     dDeuterium  total GAS\n",
       "DD_G_NC1                            dDeuterium nC1\n",
       "DD_G_NC2                            dDeuterium nC2\n",
       "DD_G_NC3                            dDeuterium nC3\n",
       "DD_G_IC4                            dDeuterium iC4\n",
       "DD_G_NC4                            dDeuterium nC4\n",
       "DD_G_IC5                            dDeuterium iC5\n",
       "DD_G_NC5                            dDeuterium nC5\n",
       "Name: 0, Length: 91, dtype: object"
      ]
     },
     "execution_count": 527,
     "metadata": {},
     "output_type": "execute_result"
    }
   ],
   "source": [
    "descr"
   ]
  },
  {
   "cell_type": "code",
   "execution_count": 528,
   "metadata": {
    "scrolled": true
   },
   "outputs": [
    {
     "data": {
      "text/plain": [
       "Index(['Country', 'WELL_NAME', 'OGA Well Name', 'WH_SITETYPE', 'WH_FIELD',\n",
       "       'WH_BLOCK', 'WH_LAT', 'WH_LONG', 'WH_COORD_SYS', 'WH_OPERATOR',\n",
       "       'WH_SPUD_DATE', 'WH_SPUD_YEAR', 'WH_COMP_DATE', 'WH_TD_M',\n",
       "       'WH_DR_ELEV_M', 'WH_DEPTH_REF', 'WH_WATER_DEPTH_M', 'SAMPLE_ID',\n",
       "       'SH_DEPTH_TOP_FT', 'SH_DEPTH_BOT_FT', 'SH_SAMPLE_TYPE',\n",
       "       'SH_SAMPLE_SUB_TYPE', 'SH_ORIG', 'SH_ORIG_DESC', 'SH_TREATMENT',\n",
       "       'SH_TREATMENT_DESC', 'SH_LITH', 'SH_AGE', 'SH_AGE_BOT', 'SH_FORM',\n",
       "       'SH_FORM_BOT', 'SH_CDATE', 'SH_COMMENT', 'SAMPLE_ID_GM',\n",
       "       'SAMPLE_ID_GDB', 'SAMPLE_ID_SAM', 'EXT_SAMPLE_VENDOR', 'SAMPLE_ID_EXT',\n",
       "       'GAS_METHOD', 'GAS_LAB', 'GAS_ACQ_DATE', 'GAS_TOTAL_CONCENTRATION',\n",
       "       'GAS_AIR', 'GAS_C1', 'GAS_C2', 'C2_UNSAT', 'GAS_C3', 'C3_UNSAT',\n",
       "       'GAS_IC4', 'GAS_NC4', 'C4_UNSAT', 'GAS_NEOC5', 'GAS_IC5', 'GAS_NC5',\n",
       "       'C5_UNSAT', 'GAS_NC5_PLUS', 'GAS_C6PLUS', 'GAS_O2', 'GAS_CO2', 'GAS_H2',\n",
       "       'GAS_H2S', 'GAS_HE', 'GAS_N2', 'D_G_METHOD', 'D_G_LAB', 'D_G_DATA_TYPE',\n",
       "       'D_G_ACQ_DATE', 'CSIA_CONC_C1', 'CSIA_NC1', 'CSIA_NC2', 'CSIA_NC3',\n",
       "       'CSIA_IC4', 'CSIA_NC4', 'CSIA_NEOC5', 'CSIA_IC5', 'CSIA_NC5',\n",
       "       'CSIA_ETHENE', 'CSIA_PROPENE', 'DC_G_CO2', 'DO_G_CO2', 'DS_G_H2S',\n",
       "       'DD_G_H2', 'DN_G_N2', 'DD_G_GAS', 'DD_G_NC1', 'DD_G_NC2', 'DD_G_NC3',\n",
       "       'DD_G_IC4', 'DD_G_NC4', 'DD_G_IC5', 'DD_G_NC5'],\n",
       "      dtype='object')"
      ]
     },
     "execution_count": 528,
     "metadata": {},
     "output_type": "execute_result"
    }
   ],
   "source": [
    "df.columns"
   ]
  },
  {
   "cell_type": "code",
   "execution_count": 529,
   "metadata": {
    "scrolled": true
   },
   "outputs": [
    {
     "data": {
      "image/png": "[encoded data removed]",
      "text/plain": [
       "<Figure size 1440x360 with 1 Axes>"
      ]
     },
     "metadata": {
      "needs_background": "light"
     },
     "output_type": "display_data"
    },
    {
     "data": {
      "image/png": "[encoded data removed]",
      "text/plain": [
       "<Figure size 1440x360 with 1 Axes>"
      ]
     },
     "metadata": {
      "needs_background": "light"
     },
     "output_type": "display_data"
    },
    {
     "data": {
      "image/png": "[encoded data removed]",
      "text/plain": [
       "<Figure size 1440x360 with 1 Axes>"
      ]
     },
     "metadata": {
      "needs_background": "light"
     },
     "output_type": "display_data"
    },
    {
     "data": {
      "image/png": "[encoded data removed]",
      "text/plain": [
       "<Figure size 1440x360 with 1 Axes>"
      ]
     },
     "metadata": {
      "needs_background": "light"
     },
     "output_type": "display_data"
    },
    {
     "data": {
      "image/png": "[encoded data removed]",
      "text/plain": [
       "<Figure size 1440x360 with 1 Axes>"
      ]
     },
     "metadata": {
      "needs_background": "light"
     },
     "output_type": "display_data"
    },
    {
     "data": {
      "image/png": "[encoded data removed]",
      "text/plain": [
       "<Figure size 1440x360 with 1 Axes>"
      ]
     },
     "metadata": {
      "needs_background": "light"
     },
     "output_type": "display_data"
    },
    {
     "data": {
      "image/png": "[encoded data removed]",
      "text/plain": [
       "<Figure size 1440x360 with 1 Axes>"
      ]
     },
     "metadata": {
      "needs_background": "light"
     },
     "output_type": "display_data"
    },
    {
     "data": {
      "image/png": "[encoded data removed]",
      "text/plain": [
       "<Figure size 1440x360 with 1 Axes>"
      ]
     },
     "metadata": {
      "needs_background": "light"
     },
     "output_type": "display_data"
    },
    {
     "data": {
      "image/png": "[encoded data removed]",
      "text/plain": [
       "<Figure size 1440x360 with 1 Axes>"
      ]
     },
     "metadata": {
      "needs_background": "light"
     },
     "output_type": "display_data"
    },
    {
     "data": {
      "image/png": "[encoded data removed]",
      "text/plain": [
       "<Figure size 1440x360 with 1 Axes>"
      ]
     },
     "metadata": {
      "needs_background": "light"
     },
     "output_type": "display_data"
    }
   ],
   "source": [
    "for name in df['WELL_NAME'].value_counts()[:10].index:\n",
    "    plt.figure(figsize=(20, 5))\n",
    "    plt.title(name)\n",
    "    for y in y_cols:\n",
    "        well = df[df['WELL_NAME'] == name].copy()\n",
    "        well = well[~well['SH_CDATE'].isnull()]\n",
    "        well['SH_CDATE'] = pd.to_datetime(well['SH_CDATE'])\n",
    "        well = well.set_index('SH_CDATE')\n",
    "        well[y].astype(float).plot()\n",
    "        plt.legend()"
   ]
  },
  {
   "cell_type": "code",
   "execution_count": null,
   "metadata": {},
   "outputs": [],
   "source": []
  },
  {
   "cell_type": "code",
   "execution_count": null,
   "metadata": {},
   "outputs": [],
   "source": []
  },
  {
   "cell_type": "code",
   "execution_count": null,
   "metadata": {},
   "outputs": [],
   "source": []
  },
  {
   "cell_type": "code",
   "execution_count": null,
   "metadata": {},
   "outputs": [],
   "source": []
  },
  {
   "cell_type": "code",
   "execution_count": null,
   "metadata": {},
   "outputs": [],
   "source": []
  },
  {
   "cell_type": "code",
   "execution_count": null,
   "metadata": {},
   "outputs": [],
   "source": []
  },
  {
   "cell_type": "code",
   "execution_count": null,
   "metadata": {},
   "outputs": [],
   "source": []
  },
  {
   "cell_type": "code",
   "execution_count": 530,
   "metadata": {},
   "outputs": [],
   "source": [
    "first_cols = ['SAMPLE_ID', 'C2_UNSAT', 'C3_UNSAT', 'WH_TD_M', 'SH_DEPTH_TOP_FT', 'SH_DEPTH_BOT_FT',\n",
    "              'SH_SAMPLE_SUB_TYPE', 'GAS_METHOD', 'WH_LAT', 'WH_LONG', 'WH_SITETYPE', 'SH_ORIG']\n",
    "['GAS_CO2', 'SH_CDATE', 'WH_SPUD_DATE', 'WH_COMP_DATE', 'SH_FORM']\n",
    "y_cols = ['GAS_C1', 'GAS_C2', 'GAS_C3', 'GAS_IC4', 'GAS_NC4', 'GAS_IC5', 'GAS_NC5']"
   ]
  },
  {
   "cell_type": "raw",
   "metadata": {},
   "source": [
    "df_train[df_train['SAMPLE_ID'] == 'EXPRO_21124']"
   ]
  },
  {
   "cell_type": "code",
   "execution_count": 531,
   "metadata": {},
   "outputs": [],
   "source": [
    "df = df[~df['SAMPLE_ID'].duplicated()]\n",
    "\n",
    "df = df[~(df['WH_LONG'] == 'World Geodetic System 1984')]\n",
    "\n",
    "\n",
    "df_train = df[first_cols]\n",
    "# df_train = df_train[~df_train['SAMPLE_ID'].duplicated()]"
   ]
  },
  {
   "cell_type": "code",
   "execution_count": 532,
   "metadata": {},
   "outputs": [
    {
     "data": {
      "text/plain": [
       "((1654, 91), (1654, 12))"
      ]
     },
     "execution_count": 532,
     "metadata": {},
     "output_type": "execute_result"
    }
   ],
   "source": [
    "df.shape, df_train.shape"
   ]
  },
  {
   "cell_type": "code",
   "execution_count": 533,
   "metadata": {
    "scrolled": true
   },
   "outputs": [
    {
     "data": {
      "text/plain": [
       "0.05804111245465538"
      ]
     },
     "execution_count": 533,
     "metadata": {},
     "output_type": "execute_result"
    }
   ],
   "source": [
    "df_train[['SH_ORIG']].isnull().any(axis=1).mean()"
   ]
  },
  {
   "cell_type": "code",
   "execution_count": 534,
   "metadata": {
    "scrolled": true
   },
   "outputs": [
    {
     "data": {
      "text/plain": [
       "ISOT    1342\n",
       "ANUL     100\n",
       "UNKN      79\n",
       "SEPR      22\n",
       "DST        6\n",
       "ROV        3\n",
       "MDT        3\n",
       "HEAD       2\n",
       "Anul       1\n",
       "Name: SH_ORIG, dtype: int64"
      ]
     },
     "execution_count": 534,
     "metadata": {},
     "output_type": "execute_result"
    }
   ],
   "source": [
    "df_train['SH_ORIG'].value_counts()"
   ]
  },
  {
   "cell_type": "code",
   "execution_count": 535,
   "metadata": {},
   "outputs": [],
   "source": [
    "df_train = pd.concat([df_train, pd.get_dummies(df_train['GAS_METHOD'], prefix='GAS_METHOD')],\n",
    "                     axis=1).drop(columns=['GAS_METHOD'])\n",
    "df_train = pd.concat([df_train, pd.get_dummies(df_train['SH_SAMPLE_SUB_TYPE'], prefix='SUB_TYPE')],\n",
    "                     axis=1).drop(columns=['SUB_TYPE_Unspecified', 'SH_SAMPLE_SUB_TYPE'])\n",
    "df_train = pd.concat([df_train, pd.get_dummies(df_train['WH_SITETYPE'])],\n",
    "                     axis=1).drop(columns=['WH_SITETYPE', 'FIELD'])\n",
    "df_train = pd.concat([df_train, pd.get_dummies(df_train['SH_ORIG'])],\n",
    "                     axis=1).drop(columns=['SH_ORIG'])"
   ]
  },
  {
   "cell_type": "code",
   "execution_count": 536,
   "metadata": {
    "scrolled": true
   },
   "outputs": [
    {
     "data": {
      "text/plain": [
       "SAMPLE_ID                       0.000000\n",
       "C2_UNSAT                        0.290206\n",
       "C3_UNSAT                        0.330109\n",
       "WH_TD_M                         0.232164\n",
       "SH_DEPTH_TOP_FT                 0.000000\n",
       "SH_DEPTH_BOT_FT                 0.000000\n",
       "WH_LAT                          0.017533\n",
       "WH_LONG                         0.017533\n",
       "GAS_METHOD_Air corrected        0.000000\n",
       "GAS_METHOD_Not Air corrected    0.000000\n",
       "GAS_METHOD_Not air corrected    0.000000\n",
       "GAS_METHOD_Not corrected        0.000000\n",
       "GAS_METHOD_UNKNOWN              0.000000\n",
       "SUB_TYPE_Headspace              0.000000\n",
       "SUB_TYPE_Mudgas                 0.000000\n",
       "SUB_TYPE_Subsurface             0.000000\n",
       "SUB_TYPE_Surface                0.000000\n",
       "WELL                            0.000000\n",
       "ANUL                            0.000000\n",
       "Anul                            0.000000\n",
       "DST                             0.000000\n",
       "HEAD                            0.000000\n",
       "ISOT                            0.000000\n",
       "MDT                             0.000000\n",
       "ROV                             0.000000\n",
       "SEPR                            0.000000\n",
       "UNKN                            0.000000\n",
       "dtype: float64"
      ]
     },
     "execution_count": 536,
     "metadata": {},
     "output_type": "execute_result"
    }
   ],
   "source": [
    "df_train.isnull().mean()"
   ]
  },
  {
   "cell_type": "code",
   "execution_count": 537,
   "metadata": {
    "scrolled": false
   },
   "outputs": [],
   "source": [
    "df_train = df_train[~(df_train['WH_LONG'] == 'World Geodetic System 1984')]"
   ]
  },
  {
   "cell_type": "code",
   "execution_count": 538,
   "metadata": {},
   "outputs": [],
   "source": [
    "df_train['WH_LAT'] = df_train['WH_LAT'].fillna(df_train['WH_LAT'].astype(float).mean()).astype(float)\n",
    "df_train['WH_LONG'] = df_train['WH_LONG'].fillna(df_train['WH_LONG'].astype(float).mean()).astype(float)\n",
    "df_train['C2_UNSAT'] = df_train['C2_UNSAT'].fillna(df_train['C2_UNSAT'].astype(float).mean()).astype(float)\n",
    "df_train['C2_UNSAT'] = df_train['C2_UNSAT'].fillna(df_train['C2_UNSAT'].astype(float).mean()).astype(float)\n",
    "df_train['C3_UNSAT'] = df_train['C3_UNSAT'].fillna(df_train['C3_UNSAT'].astype(float).mean()).astype(float)\n",
    "df_train['WH_TD_M'] = df_train['WH_TD_M'].fillna(df_train['WH_TD_M'].astype(float).mean()).astype(float)"
   ]
  },
  {
   "cell_type": "code",
   "execution_count": 539,
   "metadata": {},
   "outputs": [],
   "source": [
    "df_train = df_train.drop(columns=['SAMPLE_ID'])"
   ]
  },
  {
   "cell_type": "code",
   "execution_count": 540,
   "metadata": {},
   "outputs": [
    {
     "data": {
      "text/plain": [
       "0.0"
      ]
     },
     "execution_count": 540,
     "metadata": {},
     "output_type": "execute_result"
    }
   ],
   "source": [
    "df_train.isnull().any(axis=1).mean()"
   ]
  },
  {
   "cell_type": "code",
   "execution_count": 541,
   "metadata": {},
   "outputs": [],
   "source": [
    "# X_train, X_test, y_train, y_test = model_selection.train_test_split(df_train, df[y_cols[0]], test_size=0.2)\n",
    "X_train_, y_train = df_train.astype(float), df[y_cols[0]].astype(float)"
   ]
  },
  {
   "cell_type": "markdown",
   "metadata": {},
   "source": [
    "## scaler"
   ]
  },
  {
   "cell_type": "code",
   "execution_count": 348,
   "metadata": {},
   "outputs": [],
   "source": [
    "from sklearn.preprocessing import StandardScaler"
   ]
  },
  {
   "cell_type": "code",
   "execution_count": 349,
   "metadata": {},
   "outputs": [],
   "source": [
    "scaler = StandardScaler()\n",
    "X_train = scaler.fit_transform(X_train_)"
   ]
  },
  {
   "cell_type": "markdown",
   "metadata": {},
   "source": [
    "## elastic net"
   ]
  },
  {
   "cell_type": "code",
   "execution_count": 489,
   "metadata": {},
   "outputs": [],
   "source": [
    "from sklearn.linear_model import ElasticNet\n",
    "from sklearn.model_selection import GridSearchCV, cross_val_score, LeaveOneOut\n",
    "from sklearn.metrics import mean_absolute_error"
   ]
  },
  {
   "cell_type": "code",
   "execution_count": 490,
   "metadata": {},
   "outputs": [
    {
     "name": "stdout",
     "output_type": "stream",
     "text": [
      "Fitting 5 folds for each of 100 candidates, totalling 500 fits\n"
     ]
    },
    {
     "name": "stderr",
     "output_type": "stream",
     "text": [
      "[Parallel(n_jobs=1)]: Using backend SequentialBackend with 1 concurrent workers.\n"
     ]
    },
    {
     "name": "stdout",
     "output_type": "stream",
     "text": [
      "[CV] alpha=0.001, l1_ratio=0.0 .......................................\n"
     ]
    },
    {
     "name": "stderr",
     "output_type": "stream",
     "text": [
      "D:\\Anaconda\\lib\\site-packages\\sklearn\\linear_model\\coordinate_descent.py:492: ConvergenceWarning: Objective did not converge. You might want to increase the number of iterations. Fitting data with very small alpha may cause precision problems.\n",
      "  ConvergenceWarning)\n"
     ]
    },
    {
     "name": "stdout",
     "output_type": "stream",
     "text": [
      "[CV]  alpha=0.001, l1_ratio=0.0, score=-8.716667185582534, total=   0.0s\n"
     ]
    },
    {
     "name": "stderr",
     "output_type": "stream",
     "text": [
      "[Parallel(n_jobs=1)]: Done   1 out of   1 | elapsed:    0.0s remaining:    0.0s\n"
     ]
    },
    {
     "name": "stdout",
     "output_type": "stream",
     "text": [
      "[CV] alpha=0.001, l1_ratio=0.0 .......................................\n"
     ]
    },
    {
     "name": "stderr",
     "output_type": "stream",
     "text": [
      "D:\\Anaconda\\lib\\site-packages\\sklearn\\linear_model\\coordinate_descent.py:492: ConvergenceWarning: Objective did not converge. You might want to increase the number of iterations. Fitting data with very small alpha may cause precision problems.\n",
      "  ConvergenceWarning)\n"
     ]
    },
    {
     "name": "stdout",
     "output_type": "stream",
     "text": [
      "[CV]  alpha=0.001, l1_ratio=0.0, score=-10.975504062152115, total=   0.0s\n"
     ]
    },
    {
     "name": "stderr",
     "output_type": "stream",
     "text": [
      "[Parallel(n_jobs=1)]: Done   2 out of   2 | elapsed:    0.0s remaining:    0.0s\n"
     ]
    },
    {
     "name": "stdout",
     "output_type": "stream",
     "text": [
      "[CV] alpha=0.001, l1_ratio=0.0 .......................................\n"
     ]
    },
    {
     "name": "stderr",
     "output_type": "stream",
     "text": [
      "D:\\Anaconda\\lib\\site-packages\\sklearn\\linear_model\\coordinate_descent.py:492: ConvergenceWarning: Objective did not converge. You might want to increase the number of iterations. Fitting data with very small alpha may cause precision problems.\n",
      "  ConvergenceWarning)\n"
     ]
    },
    {
     "name": "stdout",
     "output_type": "stream",
     "text": [
      "[CV]  alpha=0.001, l1_ratio=0.0, score=-8.919518604455805, total=   0.0s\n"
     ]
    },
    {
     "name": "stderr",
     "output_type": "stream",
     "text": [
      "[Parallel(n_jobs=1)]: Done   3 out of   3 | elapsed:    0.1s remaining:    0.0s\n"
     ]
    },
    {
     "name": "stdout",
     "output_type": "stream",
     "text": [
      "[CV] alpha=0.001, l1_ratio=0.0 .......................................\n"
     ]
    },
    {
     "name": "stderr",
     "output_type": "stream",
     "text": [
      "D:\\Anaconda\\lib\\site-packages\\sklearn\\linear_model\\coordinate_descent.py:492: ConvergenceWarning: Objective did not converge. You might want to increase the number of iterations. Fitting data with very small alpha may cause precision problems.\n",
      "  ConvergenceWarning)\n"
     ]
    },
    {
     "name": "stdout",
     "output_type": "stream",
     "text": [
      "[CV]  alpha=0.001, l1_ratio=0.0, score=-7.245830348972745, total=   0.0s\n"
     ]
    },
    {
     "name": "stderr",
     "output_type": "stream",
     "text": [
      "[Parallel(n_jobs=1)]: Done   4 out of   4 | elapsed:    0.1s remaining:    0.0s\n"
     ]
    },
    {
     "name": "stdout",
     "output_type": "stream",
     "text": [
      "[CV] alpha=0.001, l1_ratio=0.0 .......................................\n"
     ]
    },
    {
     "name": "stderr",
     "output_type": "stream",
     "text": [
      "D:\\Anaconda\\lib\\site-packages\\sklearn\\linear_model\\coordinate_descent.py:492: ConvergenceWarning: Objective did not converge. You might want to increase the number of iterations. Fitting data with very small alpha may cause precision problems.\n",
      "  ConvergenceWarning)\n"
     ]
    },
    {
     "name": "stdout",
     "output_type": "stream",
     "text": [
      "[CV]  alpha=0.001, l1_ratio=0.0, score=-10.991368540147803, total=   0.0s\n",
      "[CV] alpha=0.001, l1_ratio=0.25 ......................................\n"
     ]
    },
    {
     "name": "stderr",
     "output_type": "stream",
     "text": [
      "D:\\Anaconda\\lib\\site-packages\\sklearn\\linear_model\\coordinate_descent.py:492: ConvergenceWarning: Objective did not converge. You might want to increase the number of iterations. Fitting data with very small alpha may cause precision problems.\n",
      "  ConvergenceWarning)\n"
     ]
    },
    {
     "name": "stdout",
     "output_type": "stream",
     "text": [
      "[CV]  alpha=0.001, l1_ratio=0.25, score=-8.71663982864756, total=   0.0s\n",
      "[CV] alpha=0.001, l1_ratio=0.25 ......................................\n"
     ]
    },
    {
     "name": "stderr",
     "output_type": "stream",
     "text": [
      "D:\\Anaconda\\lib\\site-packages\\sklearn\\linear_model\\coordinate_descent.py:492: ConvergenceWarning: Objective did not converge. You might want to increase the number of iterations. Fitting data with very small alpha may cause precision problems.\n",
      "  ConvergenceWarning)\n"
     ]
    },
    {
     "name": "stdout",
     "output_type": "stream",
     "text": [
      "[CV]  alpha=0.001, l1_ratio=0.25, score=-10.974882532618352, total=   0.0s\n",
      "[CV] alpha=0.001, l1_ratio=0.25 ......................................\n",
      "[CV]  alpha=0.001, l1_ratio=0.25, score=-8.921292656493291, total=   0.0s\n",
      "[CV] alpha=0.001, l1_ratio=0.25 ......................................\n"
     ]
    },
    {
     "name": "stderr",
     "output_type": "stream",
     "text": [
      "D:\\Anaconda\\lib\\site-packages\\sklearn\\linear_model\\coordinate_descent.py:492: ConvergenceWarning: Objective did not converge. You might want to increase the number of iterations. Fitting data with very small alpha may cause precision problems.\n",
      "  ConvergenceWarning)\n"
     ]
    },
    {
     "name": "stdout",
     "output_type": "stream",
     "text": [
      "[CV]  alpha=0.001, l1_ratio=0.25, score=-7.24123599031547, total=   0.0s\n",
      "[CV] alpha=0.001, l1_ratio=0.25 ......................................\n"
     ]
    },
    {
     "name": "stderr",
     "output_type": "stream",
     "text": [
      "D:\\Anaconda\\lib\\site-packages\\sklearn\\linear_model\\coordinate_descent.py:492: ConvergenceWarning: Objective did not converge. You might want to increase the number of iterations. Fitting data with very small alpha may cause precision problems.\n",
      "  ConvergenceWarning)\n"
     ]
    },
    {
     "name": "stdout",
     "output_type": "stream",
     "text": [
      "[CV]  alpha=0.001, l1_ratio=0.25, score=-10.995461124833746, total=   0.0s\n",
      "[CV] alpha=0.001, l1_ratio=0.5 .......................................\n"
     ]
    },
    {
     "name": "stderr",
     "output_type": "stream",
     "text": [
      "D:\\Anaconda\\lib\\site-packages\\sklearn\\linear_model\\coordinate_descent.py:492: ConvergenceWarning: Objective did not converge. You might want to increase the number of iterations. Fitting data with very small alpha may cause precision problems.\n",
      "  ConvergenceWarning)\n"
     ]
    },
    {
     "name": "stdout",
     "output_type": "stream",
     "text": [
      "[CV]  alpha=0.001, l1_ratio=0.5, score=-8.716345867380056, total=   0.0s\n",
      "[CV] alpha=0.001, l1_ratio=0.5 .......................................\n"
     ]
    },
    {
     "name": "stderr",
     "output_type": "stream",
     "text": [
      "D:\\Anaconda\\lib\\site-packages\\sklearn\\linear_model\\coordinate_descent.py:492: ConvergenceWarning: Objective did not converge. You might want to increase the number of iterations. Fitting data with very small alpha may cause precision problems.\n",
      "  ConvergenceWarning)\n"
     ]
    },
    {
     "name": "stdout",
     "output_type": "stream",
     "text": [
      "[CV]  alpha=0.001, l1_ratio=0.5, score=-10.974294945314254, total=   0.0s\n",
      "[CV] alpha=0.001, l1_ratio=0.5 .......................................\n",
      "[CV]  alpha=0.001, l1_ratio=0.5, score=-8.923286152616338, total=   0.0s\n",
      "[CV] alpha=0.001, l1_ratio=0.5 .......................................\n"
     ]
    },
    {
     "name": "stderr",
     "output_type": "stream",
     "text": [
      "D:\\Anaconda\\lib\\site-packages\\sklearn\\linear_model\\coordinate_descent.py:492: ConvergenceWarning: Objective did not converge. You might want to increase the number of iterations. Fitting data with very small alpha may cause precision problems.\n",
      "  ConvergenceWarning)\n"
     ]
    },
    {
     "name": "stdout",
     "output_type": "stream",
     "text": [
      "[CV]  alpha=0.001, l1_ratio=0.5, score=-7.236079724078592, total=   0.0s\n",
      "[CV] alpha=0.001, l1_ratio=0.5 .......................................\n"
     ]
    },
    {
     "name": "stderr",
     "output_type": "stream",
     "text": [
      "D:\\Anaconda\\lib\\site-packages\\sklearn\\linear_model\\coordinate_descent.py:492: ConvergenceWarning: Objective did not converge. You might want to increase the number of iterations. Fitting data with very small alpha may cause precision problems.\n",
      "  ConvergenceWarning)\n"
     ]
    },
    {
     "name": "stdout",
     "output_type": "stream",
     "text": [
      "[CV]  alpha=0.001, l1_ratio=0.5, score=-10.999652177979119, total=   0.0s\n",
      "[CV] alpha=0.001, l1_ratio=0.75 ......................................\n"
     ]
    },
    {
     "name": "stderr",
     "output_type": "stream",
     "text": [
      "D:\\Anaconda\\lib\\site-packages\\sklearn\\linear_model\\coordinate_descent.py:492: ConvergenceWarning: Objective did not converge. You might want to increase the number of iterations. Fitting data with very small alpha may cause precision problems.\n",
      "  ConvergenceWarning)\n"
     ]
    },
    {
     "name": "stdout",
     "output_type": "stream",
     "text": [
      "[CV]  alpha=0.001, l1_ratio=0.75, score=-8.71581093651085, total=   0.0s\n",
      "[CV] alpha=0.001, l1_ratio=0.75 ......................................\n"
     ]
    },
    {
     "name": "stderr",
     "output_type": "stream",
     "text": [
      "D:\\Anaconda\\lib\\site-packages\\sklearn\\linear_model\\coordinate_descent.py:492: ConvergenceWarning: Objective did not converge. You might want to increase the number of iterations. Fitting data with very small alpha may cause precision problems.\n",
      "  ConvergenceWarning)\n"
     ]
    },
    {
     "name": "stdout",
     "output_type": "stream",
     "text": [
      "[CV]  alpha=0.001, l1_ratio=0.75, score=-10.973755803575525, total=   0.0s\n",
      "[CV] alpha=0.001, l1_ratio=0.75 ......................................\n",
      "[CV]  alpha=0.001, l1_ratio=0.75, score=-8.926508464097227, total=   0.0s\n",
      "[CV] alpha=0.001, l1_ratio=0.75 ......................................\n"
     ]
    },
    {
     "name": "stderr",
     "output_type": "stream",
     "text": [
      "D:\\Anaconda\\lib\\site-packages\\sklearn\\linear_model\\coordinate_descent.py:492: ConvergenceWarning: Objective did not converge. You might want to increase the number of iterations. Fitting data with very small alpha may cause precision problems.\n",
      "  ConvergenceWarning)\n"
     ]
    },
    {
     "name": "stdout",
     "output_type": "stream",
     "text": [
      "[CV]  alpha=0.001, l1_ratio=0.75, score=-7.230036052216682, total=   0.0s\n",
      "[CV] alpha=0.001, l1_ratio=0.75 ......................................\n"
     ]
    },
    {
     "name": "stderr",
     "output_type": "stream",
     "text": [
      "D:\\Anaconda\\lib\\site-packages\\sklearn\\linear_model\\coordinate_descent.py:492: ConvergenceWarning: Objective did not converge. You might want to increase the number of iterations. Fitting data with very small alpha may cause precision problems.\n",
      "  ConvergenceWarning)\n"
     ]
    },
    {
     "name": "stdout",
     "output_type": "stream",
     "text": [
      "[CV]  alpha=0.001, l1_ratio=0.75, score=-11.004036056877656, total=   0.0s\n",
      "[CV] alpha=0.001, l1_ratio=1.0 .......................................\n"
     ]
    },
    {
     "name": "stderr",
     "output_type": "stream",
     "text": [
      "D:\\Anaconda\\lib\\site-packages\\sklearn\\linear_model\\coordinate_descent.py:492: ConvergenceWarning: Objective did not converge. You might want to increase the number of iterations. Fitting data with very small alpha may cause precision problems.\n",
      "  ConvergenceWarning)\n"
     ]
    },
    {
     "name": "stdout",
     "output_type": "stream",
     "text": [
      "[CV]  alpha=0.001, l1_ratio=1.0, score=-8.714960366247825, total=   0.0s\n",
      "[CV] alpha=0.001, l1_ratio=1.0 .......................................\n"
     ]
    },
    {
     "name": "stderr",
     "output_type": "stream",
     "text": [
      "D:\\Anaconda\\lib\\site-packages\\sklearn\\linear_model\\coordinate_descent.py:492: ConvergenceWarning: Objective did not converge. You might want to increase the number of iterations. Fitting data with very small alpha may cause precision problems.\n",
      "  ConvergenceWarning)\n"
     ]
    },
    {
     "name": "stdout",
     "output_type": "stream",
     "text": [
      "[CV]  alpha=0.001, l1_ratio=1.0, score=-10.973241135709548, total=   0.0s\n",
      "[CV] alpha=0.001, l1_ratio=1.0 .......................................\n",
      "[CV]  alpha=0.001, l1_ratio=1.0, score=-8.928309578329225, total=   0.0s\n",
      "[CV] alpha=0.001, l1_ratio=1.0 .......................................\n"
     ]
    },
    {
     "name": "stderr",
     "output_type": "stream",
     "text": [
      "D:\\Anaconda\\lib\\site-packages\\sklearn\\linear_model\\coordinate_descent.py:492: ConvergenceWarning: Objective did not converge. You might want to increase the number of iterations. Fitting data with very small alpha may cause precision problems.\n",
      "  ConvergenceWarning)\n"
     ]
    },
    {
     "name": "stdout",
     "output_type": "stream",
     "text": [
      "[CV]  alpha=0.001, l1_ratio=1.0, score=-7.223916862038834, total=   0.0s\n",
      "[CV] alpha=0.001, l1_ratio=1.0 .......................................\n"
     ]
    },
    {
     "name": "stderr",
     "output_type": "stream",
     "text": [
      "D:\\Anaconda\\lib\\site-packages\\sklearn\\linear_model\\coordinate_descent.py:492: ConvergenceWarning: Objective did not converge. You might want to increase the number of iterations. Fitting data with very small alpha may cause precision problems.\n",
      "  ConvergenceWarning)\n"
     ]
    },
    {
     "name": "stdout",
     "output_type": "stream",
     "text": [
      "[CV]  alpha=0.001, l1_ratio=1.0, score=-11.008663448027152, total=   0.0s\n",
      "[CV] alpha=0.0014384498882876629, l1_ratio=0.0 .......................\n"
     ]
    },
    {
     "name": "stderr",
     "output_type": "stream",
     "text": [
      "D:\\Anaconda\\lib\\site-packages\\sklearn\\linear_model\\coordinate_descent.py:492: ConvergenceWarning: Objective did not converge. You might want to increase the number of iterations. Fitting data with very small alpha may cause precision problems.\n",
      "  ConvergenceWarning)\n"
     ]
    },
    {
     "name": "stdout",
     "output_type": "stream",
     "text": [
      "[CV]  alpha=0.0014384498882876629, l1_ratio=0.0, score=-8.71472300853469, total=   0.0s\n",
      "[CV] alpha=0.0014384498882876629, l1_ratio=0.0 .......................\n"
     ]
    },
    {
     "name": "stderr",
     "output_type": "stream",
     "text": [
      "D:\\Anaconda\\lib\\site-packages\\sklearn\\linear_model\\coordinate_descent.py:492: ConvergenceWarning: Objective did not converge. You might want to increase the number of iterations. Fitting data with very small alpha may cause precision problems.\n",
      "  ConvergenceWarning)\n"
     ]
    },
    {
     "name": "stdout",
     "output_type": "stream",
     "text": [
      "[CV]  alpha=0.0014384498882876629, l1_ratio=0.0, score=-10.975789266818985, total=   0.0s\n",
      "[CV] alpha=0.0014384498882876629, l1_ratio=0.0 .......................\n"
     ]
    },
    {
     "name": "stderr",
     "output_type": "stream",
     "text": [
      "D:\\Anaconda\\lib\\site-packages\\sklearn\\linear_model\\coordinate_descent.py:492: ConvergenceWarning: Objective did not converge. You might want to increase the number of iterations. Fitting data with very small alpha may cause precision problems.\n",
      "  ConvergenceWarning)\n"
     ]
    },
    {
     "name": "stdout",
     "output_type": "stream",
     "text": [
      "[CV]  alpha=0.0014384498882876629, l1_ratio=0.0, score=-8.917054609037486, total=   0.0s\n",
      "[CV] alpha=0.0014384498882876629, l1_ratio=0.0 .......................\n"
     ]
    },
    {
     "name": "stderr",
     "output_type": "stream",
     "text": [
      "D:\\Anaconda\\lib\\site-packages\\sklearn\\linear_model\\coordinate_descent.py:492: ConvergenceWarning: Objective did not converge. You might want to increase the number of iterations. Fitting data with very small alpha may cause precision problems.\n",
      "  ConvergenceWarning)\n"
     ]
    },
    {
     "name": "stdout",
     "output_type": "stream",
     "text": [
      "[CV]  alpha=0.0014384498882876629, l1_ratio=0.0, score=-7.255905796146766, total=   0.0s\n",
      "[CV] alpha=0.0014384498882876629, l1_ratio=0.0 .......................\n"
     ]
    },
    {
     "name": "stderr",
     "output_type": "stream",
     "text": [
      "D:\\Anaconda\\lib\\site-packages\\sklearn\\linear_model\\coordinate_descent.py:492: ConvergenceWarning: Objective did not converge. You might want to increase the number of iterations. Fitting data with very small alpha may cause precision problems.\n",
      "  ConvergenceWarning)\n"
     ]
    },
    {
     "name": "stdout",
     "output_type": "stream",
     "text": [
      "[CV]  alpha=0.0014384498882876629, l1_ratio=0.0, score=-10.979641072100073, total=   0.0s\n",
      "[CV] alpha=0.0014384498882876629, l1_ratio=0.25 ......................\n"
     ]
    },
    {
     "name": "stderr",
     "output_type": "stream",
     "text": [
      "D:\\Anaconda\\lib\\site-packages\\sklearn\\linear_model\\coordinate_descent.py:492: ConvergenceWarning: Objective did not converge. You might want to increase the number of iterations. Fitting data with very small alpha may cause precision problems.\n",
      "  ConvergenceWarning)\n"
     ]
    },
    {
     "name": "stdout",
     "output_type": "stream",
     "text": [
      "[CV]  alpha=0.0014384498882876629, l1_ratio=0.25, score=-8.7152691183614, total=   0.0s\n",
      "[CV] alpha=0.0014384498882876629, l1_ratio=0.25 ......................\n"
     ]
    },
    {
     "name": "stderr",
     "output_type": "stream",
     "text": [
      "D:\\Anaconda\\lib\\site-packages\\sklearn\\linear_model\\coordinate_descent.py:492: ConvergenceWarning: Objective did not converge. You might want to increase the number of iterations. Fitting data with very small alpha may cause precision problems.\n",
      "  ConvergenceWarning)\n"
     ]
    },
    {
     "name": "stdout",
     "output_type": "stream",
     "text": [
      "[CV]  alpha=0.0014384498882876629, l1_ratio=0.25, score=-10.97450203144009, total=   0.0s\n",
      "[CV] alpha=0.0014384498882876629, l1_ratio=0.25 ......................\n",
      "[CV]  alpha=0.0014384498882876629, l1_ratio=0.25, score=-8.919168924834649, total=   0.0s\n",
      "[CV] alpha=0.0014384498882876629, l1_ratio=0.25 ......................\n"
     ]
    },
    {
     "name": "stderr",
     "output_type": "stream",
     "text": [
      "D:\\Anaconda\\lib\\site-packages\\sklearn\\linear_model\\coordinate_descent.py:492: ConvergenceWarning: Objective did not converge. You might want to increase the number of iterations. Fitting data with very small alpha may cause precision problems.\n",
      "  ConvergenceWarning)\n"
     ]
    },
    {
     "name": "stdout",
     "output_type": "stream",
     "text": [
      "[CV]  alpha=0.0014384498882876629, l1_ratio=0.25, score=-7.250095131531263, total=   0.0s\n",
      "[CV] alpha=0.0014384498882876629, l1_ratio=0.25 ......................\n"
     ]
    },
    {
     "name": "stderr",
     "output_type": "stream",
     "text": [
      "D:\\Anaconda\\lib\\site-packages\\sklearn\\linear_model\\coordinate_descent.py:492: ConvergenceWarning: Objective did not converge. You might want to increase the number of iterations. Fitting data with very small alpha may cause precision problems.\n",
      "  ConvergenceWarning)\n"
     ]
    },
    {
     "name": "stdout",
     "output_type": "stream",
     "text": [
      "[CV]  alpha=0.0014384498882876629, l1_ratio=0.25, score=-10.98520914100969, total=   0.0s\n",
      "[CV] alpha=0.0014384498882876629, l1_ratio=0.5 .......................\n"
     ]
    },
    {
     "name": "stderr",
     "output_type": "stream",
     "text": [
      "D:\\Anaconda\\lib\\site-packages\\sklearn\\linear_model\\coordinate_descent.py:492: ConvergenceWarning: Objective did not converge. You might want to increase the number of iterations. Fitting data with very small alpha may cause precision problems.\n",
      "  ConvergenceWarning)\n"
     ]
    },
    {
     "name": "stdout",
     "output_type": "stream",
     "text": [
      "[CV]  alpha=0.0014384498882876629, l1_ratio=0.5, score=-8.7154735764486, total=   0.0s\n",
      "[CV] alpha=0.0014384498882876629, l1_ratio=0.5 .......................\n"
     ]
    },
    {
     "name": "stderr",
     "output_type": "stream",
     "text": [
      "D:\\Anaconda\\lib\\site-packages\\sklearn\\linear_model\\coordinate_descent.py:492: ConvergenceWarning: Objective did not converge. You might want to increase the number of iterations. Fitting data with very small alpha may cause precision problems.\n",
      "  ConvergenceWarning)\n"
     ]
    },
    {
     "name": "stdout",
     "output_type": "stream",
     "text": [
      "[CV]  alpha=0.0014384498882876629, l1_ratio=0.5, score=-10.973642691804468, total=   0.0s\n",
      "[CV] alpha=0.0014384498882876629, l1_ratio=0.5 .......................\n",
      "[CV]  alpha=0.0014384498882876629, l1_ratio=0.5, score=-8.920652189987155, total=   0.0s\n",
      "[CV] alpha=0.0014384498882876629, l1_ratio=0.5 .......................\n"
     ]
    },
    {
     "name": "stderr",
     "output_type": "stream",
     "text": [
      "D:\\Anaconda\\lib\\site-packages\\sklearn\\linear_model\\coordinate_descent.py:492: ConvergenceWarning: Objective did not converge. You might want to increase the number of iterations. Fitting data with very small alpha may cause precision problems.\n",
      "  ConvergenceWarning)\n"
     ]
    },
    {
     "name": "stdout",
     "output_type": "stream",
     "text": [
      "[CV]  alpha=0.0014384498882876629, l1_ratio=0.5, score=-7.243228110620689, total=   0.0s\n",
      "[CV] alpha=0.0014384498882876629, l1_ratio=0.5 .......................\n"
     ]
    },
    {
     "name": "stderr",
     "output_type": "stream",
     "text": [
      "D:\\Anaconda\\lib\\site-packages\\sklearn\\linear_model\\coordinate_descent.py:492: ConvergenceWarning: Objective did not converge. You might want to increase the number of iterations. Fitting data with very small alpha may cause precision problems.\n",
      "  ConvergenceWarning)\n"
     ]
    },
    {
     "name": "stdout",
     "output_type": "stream",
     "text": [
      "[CV]  alpha=0.0014384498882876629, l1_ratio=0.5, score=-10.990912452072175, total=   0.0s\n",
      "[CV] alpha=0.0014384498882876629, l1_ratio=0.75 ......................\n"
     ]
    },
    {
     "name": "stderr",
     "output_type": "stream",
     "text": [
      "D:\\Anaconda\\lib\\site-packages\\sklearn\\linear_model\\coordinate_descent.py:492: ConvergenceWarning: Objective did not converge. You might want to increase the number of iterations. Fitting data with very small alpha may cause precision problems.\n",
      "  ConvergenceWarning)\n"
     ]
    },
    {
     "name": "stdout",
     "output_type": "stream",
     "text": [
      "[CV]  alpha=0.0014384498882876629, l1_ratio=0.75, score=-8.715323479101292, total=   0.0s\n",
      "[CV] alpha=0.0014384498882876629, l1_ratio=0.75 ......................\n"
     ]
    },
    {
     "name": "stderr",
     "output_type": "stream",
     "text": [
      "D:\\Anaconda\\lib\\site-packages\\sklearn\\linear_model\\coordinate_descent.py:492: ConvergenceWarning: Objective did not converge. You might want to increase the number of iterations. Fitting data with very small alpha may cause precision problems.\n",
      "  ConvergenceWarning)\n"
     ]
    },
    {
     "name": "stdout",
     "output_type": "stream",
     "text": [
      "[CV]  alpha=0.0014384498882876629, l1_ratio=0.75, score=-10.972837220142962, total=   0.0s\n",
      "[CV] alpha=0.0014384498882876629, l1_ratio=0.75 ......................\n",
      "[CV]  alpha=0.0014384498882876629, l1_ratio=0.75, score=-8.923600775608193, total=   0.0s\n",
      "[CV] alpha=0.0014384498882876629, l1_ratio=0.75 ......................\n"
     ]
    },
    {
     "name": "stderr",
     "output_type": "stream",
     "text": [
      "D:\\Anaconda\\lib\\site-packages\\sklearn\\linear_model\\coordinate_descent.py:492: ConvergenceWarning: Objective did not converge. You might want to increase the number of iterations. Fitting data with very small alpha may cause precision problems.\n",
      "  ConvergenceWarning)\n"
     ]
    },
    {
     "name": "stdout",
     "output_type": "stream",
     "text": [
      "[CV]  alpha=0.0014384498882876629, l1_ratio=0.75, score=-7.23601418917226, total=   0.0s\n",
      "[CV] alpha=0.0014384498882876629, l1_ratio=0.75 ......................\n"
     ]
    },
    {
     "name": "stderr",
     "output_type": "stream",
     "text": [
      "D:\\Anaconda\\lib\\site-packages\\sklearn\\linear_model\\coordinate_descent.py:492: ConvergenceWarning: Objective did not converge. You might want to increase the number of iterations. Fitting data with very small alpha may cause precision problems.\n",
      "  ConvergenceWarning)\n"
     ]
    },
    {
     "name": "stdout",
     "output_type": "stream",
     "text": [
      "[CV]  alpha=0.0014384498882876629, l1_ratio=0.75, score=-10.996916785483815, total=   0.0s\n",
      "[CV] alpha=0.0014384498882876629, l1_ratio=1.0 .......................\n"
     ]
    },
    {
     "name": "stderr",
     "output_type": "stream",
     "text": [
      "D:\\Anaconda\\lib\\site-packages\\sklearn\\linear_model\\coordinate_descent.py:492: ConvergenceWarning: Objective did not converge. You might want to increase the number of iterations. Fitting data with very small alpha may cause precision problems.\n",
      "  ConvergenceWarning)\n"
     ]
    },
    {
     "name": "stdout",
     "output_type": "stream",
     "text": [
      "[CV]  alpha=0.0014384498882876629, l1_ratio=1.0, score=-8.714421766141605, total=   0.0s\n",
      "[CV] alpha=0.0014384498882876629, l1_ratio=1.0 .......................\n"
     ]
    },
    {
     "name": "stderr",
     "output_type": "stream",
     "text": [
      "D:\\Anaconda\\lib\\site-packages\\sklearn\\linear_model\\coordinate_descent.py:492: ConvergenceWarning: Objective did not converge. You might want to increase the number of iterations. Fitting data with very small alpha may cause precision problems.\n",
      "  ConvergenceWarning)\n"
     ]
    },
    {
     "name": "stdout",
     "output_type": "stream",
     "text": [
      "[CV]  alpha=0.0014384498882876629, l1_ratio=1.0, score=-10.97208658703037, total=   0.0s\n",
      "[CV] alpha=0.0014384498882876629, l1_ratio=1.0 .......................\n",
      "[CV]  alpha=0.0014384498882876629, l1_ratio=1.0, score=-8.927110251575835, total=   0.0s\n",
      "[CV] alpha=0.0014384498882876629, l1_ratio=1.0 .......................\n"
     ]
    },
    {
     "name": "stderr",
     "output_type": "stream",
     "text": [
      "D:\\Anaconda\\lib\\site-packages\\sklearn\\linear_model\\coordinate_descent.py:492: ConvergenceWarning: Objective did not converge. You might want to increase the number of iterations. Fitting data with very small alpha may cause precision problems.\n",
      "  ConvergenceWarning)\n"
     ]
    },
    {
     "name": "stdout",
     "output_type": "stream",
     "text": [
      "[CV]  alpha=0.0014384498882876629, l1_ratio=1.0, score=-7.229280771787279, total=   0.0s\n",
      "[CV] alpha=0.0014384498882876629, l1_ratio=1.0 .......................\n"
     ]
    },
    {
     "name": "stderr",
     "output_type": "stream",
     "text": [
      "D:\\Anaconda\\lib\\site-packages\\sklearn\\linear_model\\coordinate_descent.py:492: ConvergenceWarning: Objective did not converge. You might want to increase the number of iterations. Fitting data with very small alpha may cause precision problems.\n",
      "  ConvergenceWarning)\n"
     ]
    },
    {
     "name": "stdout",
     "output_type": "stream",
     "text": [
      "[CV]  alpha=0.0014384498882876629, l1_ratio=1.0, score=-11.00333879867574, total=   0.0s\n",
      "[CV] alpha=0.00206913808111479, l1_ratio=0.0 .........................\n"
     ]
    },
    {
     "name": "stderr",
     "output_type": "stream",
     "text": [
      "D:\\Anaconda\\lib\\site-packages\\sklearn\\linear_model\\coordinate_descent.py:492: ConvergenceWarning: Objective did not converge. You might want to increase the number of iterations. Fitting data with very small alpha may cause precision problems.\n",
      "  ConvergenceWarning)\n"
     ]
    },
    {
     "name": "stdout",
     "output_type": "stream",
     "text": [
      "[CV]  alpha=0.00206913808111479, l1_ratio=0.0, score=-8.710890982585372, total=   0.0s\n",
      "[CV] alpha=0.00206913808111479, l1_ratio=0.0 .........................\n"
     ]
    },
    {
     "name": "stderr",
     "output_type": "stream",
     "text": [
      "D:\\Anaconda\\lib\\site-packages\\sklearn\\linear_model\\coordinate_descent.py:492: ConvergenceWarning: Objective did not converge. You might want to increase the number of iterations. Fitting data with very small alpha may cause precision problems.\n",
      "  ConvergenceWarning)\n"
     ]
    },
    {
     "name": "stdout",
     "output_type": "stream",
     "text": [
      "[CV]  alpha=0.00206913808111479, l1_ratio=0.0, score=-10.97684475156357, total=   0.0s\n",
      "[CV] alpha=0.00206913808111479, l1_ratio=0.0 .........................\n"
     ]
    },
    {
     "name": "stderr",
     "output_type": "stream",
     "text": [
      "D:\\Anaconda\\lib\\site-packages\\sklearn\\linear_model\\coordinate_descent.py:492: ConvergenceWarning: Objective did not converge. You might want to increase the number of iterations. Fitting data with very small alpha may cause precision problems.\n",
      "  ConvergenceWarning)\n"
     ]
    },
    {
     "name": "stdout",
     "output_type": "stream",
     "text": [
      "[CV]  alpha=0.00206913808111479, l1_ratio=0.0, score=-8.914311491069101, total=   0.0s\n",
      "[CV] alpha=0.00206913808111479, l1_ratio=0.0 .........................\n"
     ]
    },
    {
     "name": "stderr",
     "output_type": "stream",
     "text": [
      "D:\\Anaconda\\lib\\site-packages\\sklearn\\linear_model\\coordinate_descent.py:492: ConvergenceWarning: Objective did not converge. You might want to increase the number of iterations. Fitting data with very small alpha may cause precision problems.\n",
      "  ConvergenceWarning)\n"
     ]
    },
    {
     "name": "stdout",
     "output_type": "stream",
     "text": [
      "[CV]  alpha=0.00206913808111479, l1_ratio=0.0, score=-7.269114651152195, total=   0.0s\n",
      "[CV] alpha=0.00206913808111479, l1_ratio=0.0 .........................\n"
     ]
    },
    {
     "name": "stderr",
     "output_type": "stream",
     "text": [
      "D:\\Anaconda\\lib\\site-packages\\sklearn\\linear_model\\coordinate_descent.py:492: ConvergenceWarning: Objective did not converge. You might want to increase the number of iterations. Fitting data with very small alpha may cause precision problems.\n",
      "  ConvergenceWarning)\n"
     ]
    },
    {
     "name": "stdout",
     "output_type": "stream",
     "text": [
      "[CV]  alpha=0.00206913808111479, l1_ratio=0.0, score=-10.963502117085275, total=   0.0s\n",
      "[CV] alpha=0.00206913808111479, l1_ratio=0.25 ........................\n"
     ]
    },
    {
     "name": "stderr",
     "output_type": "stream",
     "text": [
      "D:\\Anaconda\\lib\\site-packages\\sklearn\\linear_model\\coordinate_descent.py:492: ConvergenceWarning: Objective did not converge. You might want to increase the number of iterations. Fitting data with very small alpha may cause precision problems.\n",
      "  ConvergenceWarning)\n"
     ]
    },
    {
     "name": "stdout",
     "output_type": "stream",
     "text": [
      "[CV]  alpha=0.00206913808111479, l1_ratio=0.25, score=-8.712324704312877, total=   0.0s\n",
      "[CV] alpha=0.00206913808111479, l1_ratio=0.25 ........................\n"
     ]
    },
    {
     "name": "stderr",
     "output_type": "stream",
     "text": [
      "D:\\Anaconda\\lib\\site-packages\\sklearn\\linear_model\\coordinate_descent.py:492: ConvergenceWarning: Objective did not converge. You might want to increase the number of iterations. Fitting data with very small alpha may cause precision problems.\n",
      "  ConvergenceWarning)\n"
     ]
    },
    {
     "name": "stdout",
     "output_type": "stream",
     "text": [
      "[CV]  alpha=0.00206913808111479, l1_ratio=0.25, score=-10.97486389177397, total=   0.0s\n",
      "[CV] alpha=0.00206913808111479, l1_ratio=0.25 ........................\n",
      "[CV]  alpha=0.00206913808111479, l1_ratio=0.25, score=-8.916305255463488, total=   0.0s\n",
      "[CV] alpha=0.00206913808111479, l1_ratio=0.25 ........................\n"
     ]
    },
    {
     "name": "stderr",
     "output_type": "stream",
     "text": [
      "D:\\Anaconda\\lib\\site-packages\\sklearn\\linear_model\\coordinate_descent.py:492: ConvergenceWarning: Objective did not converge. You might want to increase the number of iterations. Fitting data with very small alpha may cause precision problems.\n",
      "  ConvergenceWarning)\n"
     ]
    },
    {
     "name": "stdout",
     "output_type": "stream",
     "text": [
      "[CV]  alpha=0.00206913808111479, l1_ratio=0.25, score=-7.262078119575703, total=   0.0s\n",
      "[CV] alpha=0.00206913808111479, l1_ratio=0.25 ........................\n"
     ]
    },
    {
     "name": "stderr",
     "output_type": "stream",
     "text": [
      "D:\\Anaconda\\lib\\site-packages\\sklearn\\linear_model\\coordinate_descent.py:492: ConvergenceWarning: Objective did not converge. You might want to increase the number of iterations. Fitting data with very small alpha may cause precision problems.\n",
      "  ConvergenceWarning)\n"
     ]
    },
    {
     "name": "stdout",
     "output_type": "stream",
     "text": [
      "[CV]  alpha=0.00206913808111479, l1_ratio=0.25, score=-10.971169575610295, total=   0.0s\n",
      "[CV] alpha=0.00206913808111479, l1_ratio=0.5 .........................\n"
     ]
    },
    {
     "name": "stderr",
     "output_type": "stream",
     "text": [
      "D:\\Anaconda\\lib\\site-packages\\sklearn\\linear_model\\coordinate_descent.py:492: ConvergenceWarning: Objective did not converge. You might want to increase the number of iterations. Fitting data with very small alpha may cause precision problems.\n",
      "  ConvergenceWarning)\n"
     ]
    },
    {
     "name": "stdout",
     "output_type": "stream",
     "text": [
      "[CV]  alpha=0.00206913808111479, l1_ratio=0.5, score=-8.713465973512694, total=   0.0s\n",
      "[CV] alpha=0.00206913808111479, l1_ratio=0.5 .........................\n"
     ]
    },
    {
     "name": "stderr",
     "output_type": "stream",
     "text": [
      "D:\\Anaconda\\lib\\site-packages\\sklearn\\linear_model\\coordinate_descent.py:492: ConvergenceWarning: Objective did not converge. You might want to increase the number of iterations. Fitting data with very small alpha may cause precision problems.\n",
      "  ConvergenceWarning)\n"
     ]
    },
    {
     "name": "stdout",
     "output_type": "stream",
     "text": [
      "[CV]  alpha=0.00206913808111479, l1_ratio=0.5, score=-10.972996052410737, total=   0.0s\n",
      "[CV] alpha=0.00206913808111479, l1_ratio=0.5 .........................\n",
      "[CV]  alpha=0.00206913808111479, l1_ratio=0.5, score=-8.917817491273627, total=   0.0s\n",
      "[CV] alpha=0.00206913808111479, l1_ratio=0.5 .........................\n"
     ]
    },
    {
     "name": "stderr",
     "output_type": "stream",
     "text": [
      "D:\\Anaconda\\lib\\site-packages\\sklearn\\linear_model\\coordinate_descent.py:492: ConvergenceWarning: Objective did not converge. You might want to increase the number of iterations. Fitting data with very small alpha may cause precision problems.\n",
      "  ConvergenceWarning)\n"
     ]
    },
    {
     "name": "stdout",
     "output_type": "stream",
     "text": [
      "[CV]  alpha=0.00206913808111479, l1_ratio=0.5, score=-7.25347524242159, total=   0.0s\n",
      "[CV] alpha=0.00206913808111479, l1_ratio=0.5 .........................\n"
     ]
    },
    {
     "name": "stderr",
     "output_type": "stream",
     "text": [
      "D:\\Anaconda\\lib\\site-packages\\sklearn\\linear_model\\coordinate_descent.py:492: ConvergenceWarning: Objective did not converge. You might want to increase the number of iterations. Fitting data with very small alpha may cause precision problems.\n",
      "  ConvergenceWarning)\n"
     ]
    },
    {
     "name": "stdout",
     "output_type": "stream",
     "text": [
      "[CV]  alpha=0.00206913808111479, l1_ratio=0.5, score=-10.978846896225235, total=   0.0s\n",
      "[CV] alpha=0.00206913808111479, l1_ratio=0.75 ........................\n"
     ]
    },
    {
     "name": "stderr",
     "output_type": "stream",
     "text": [
      "D:\\Anaconda\\lib\\site-packages\\sklearn\\linear_model\\coordinate_descent.py:492: ConvergenceWarning: Objective did not converge. You might want to increase the number of iterations. Fitting data with very small alpha may cause precision problems.\n",
      "  ConvergenceWarning)\n"
     ]
    },
    {
     "name": "stdout",
     "output_type": "stream",
     "text": [
      "[CV]  alpha=0.00206913808111479, l1_ratio=0.75, score=-8.714214199135228, total=   0.0s\n",
      "[CV] alpha=0.00206913808111479, l1_ratio=0.75 ........................\n"
     ]
    },
    {
     "name": "stderr",
     "output_type": "stream",
     "text": [
      "D:\\Anaconda\\lib\\site-packages\\sklearn\\linear_model\\coordinate_descent.py:492: ConvergenceWarning: Objective did not converge. You might want to increase the number of iterations. Fitting data with very small alpha may cause precision problems.\n",
      "  ConvergenceWarning)\n"
     ]
    },
    {
     "name": "stdout",
     "output_type": "stream",
     "text": [
      "[CV]  alpha=0.00206913808111479, l1_ratio=0.75, score=-10.97153549404761, total=   0.0s\n",
      "[CV] alpha=0.00206913808111479, l1_ratio=0.75 ........................\n",
      "[CV]  alpha=0.00206913808111479, l1_ratio=0.75, score=-8.92043233003358, total=   0.0s\n",
      "[CV] alpha=0.00206913808111479, l1_ratio=0.75 ........................\n"
     ]
    },
    {
     "name": "stderr",
     "output_type": "stream",
     "text": [
      "D:\\Anaconda\\lib\\site-packages\\sklearn\\linear_model\\coordinate_descent.py:492: ConvergenceWarning: Objective did not converge. You might want to increase the number of iterations. Fitting data with very small alpha may cause precision problems.\n",
      "  ConvergenceWarning)\n"
     ]
    },
    {
     "name": "stdout",
     "output_type": "stream",
     "text": [
      "[CV]  alpha=0.00206913808111479, l1_ratio=0.75, score=-7.246131087351676, total=   0.0s\n",
      "[CV] alpha=0.00206913808111479, l1_ratio=0.75 ........................\n"
     ]
    },
    {
     "name": "stderr",
     "output_type": "stream",
     "text": [
      "D:\\Anaconda\\lib\\site-packages\\sklearn\\linear_model\\coordinate_descent.py:492: ConvergenceWarning: Objective did not converge. You might want to increase the number of iterations. Fitting data with very small alpha may cause precision problems.\n",
      "  ConvergenceWarning)\n"
     ]
    },
    {
     "name": "stdout",
     "output_type": "stream",
     "text": [
      "[CV]  alpha=0.00206913808111479, l1_ratio=0.75, score=-10.986881530626961, total=   0.0s\n",
      "[CV] alpha=0.00206913808111479, l1_ratio=1.0 .........................\n"
     ]
    },
    {
     "name": "stderr",
     "output_type": "stream",
     "text": [
      "D:\\Anaconda\\lib\\site-packages\\sklearn\\linear_model\\coordinate_descent.py:492: ConvergenceWarning: Objective did not converge. You might want to increase the number of iterations. Fitting data with very small alpha may cause precision problems.\n",
      "  ConvergenceWarning)\n"
     ]
    },
    {
     "name": "stdout",
     "output_type": "stream",
     "text": [
      "[CV]  alpha=0.00206913808111479, l1_ratio=1.0, score=-8.713647016877667, total=   0.0s\n",
      "[CV] alpha=0.00206913808111479, l1_ratio=1.0 .........................\n"
     ]
    },
    {
     "name": "stderr",
     "output_type": "stream",
     "text": [
      "D:\\Anaconda\\lib\\site-packages\\sklearn\\linear_model\\coordinate_descent.py:492: ConvergenceWarning: Objective did not converge. You might want to increase the number of iterations. Fitting data with very small alpha may cause precision problems.\n",
      "  ConvergenceWarning)\n"
     ]
    },
    {
     "name": "stdout",
     "output_type": "stream",
     "text": [
      "[CV]  alpha=0.00206913808111479, l1_ratio=1.0, score=-10.97043743411731, total=   0.0s\n",
      "[CV] alpha=0.00206913808111479, l1_ratio=1.0 .........................\n",
      "[CV]  alpha=0.00206913808111479, l1_ratio=1.0, score=-8.925385813916131, total=   0.0s\n",
      "[CV] alpha=0.00206913808111479, l1_ratio=1.0 .........................\n"
     ]
    },
    {
     "name": "stderr",
     "output_type": "stream",
     "text": [
      "D:\\Anaconda\\lib\\site-packages\\sklearn\\linear_model\\coordinate_descent.py:492: ConvergenceWarning: Objective did not converge. You might want to increase the number of iterations. Fitting data with very small alpha may cause precision problems.\n",
      "  ConvergenceWarning)\n"
     ]
    },
    {
     "name": "stdout",
     "output_type": "stream",
     "text": [
      "[CV]  alpha=0.00206913808111479, l1_ratio=1.0, score=-7.237268321689298, total=   0.0s\n",
      "[CV] alpha=0.00206913808111479, l1_ratio=1.0 .........................\n"
     ]
    },
    {
     "name": "stderr",
     "output_type": "stream",
     "text": [
      "D:\\Anaconda\\lib\\site-packages\\sklearn\\linear_model\\coordinate_descent.py:492: ConvergenceWarning: Objective did not converge. You might want to increase the number of iterations. Fitting data with very small alpha may cause precision problems.\n",
      "  ConvergenceWarning)\n"
     ]
    },
    {
     "name": "stdout",
     "output_type": "stream",
     "text": [
      "[CV]  alpha=0.00206913808111479, l1_ratio=1.0, score=-10.99567973833343, total=   0.0s\n",
      "[CV] alpha=0.002976351441631319, l1_ratio=0.0 ........................\n"
     ]
    },
    {
     "name": "stderr",
     "output_type": "stream",
     "text": [
      "D:\\Anaconda\\lib\\site-packages\\sklearn\\linear_model\\coordinate_descent.py:492: ConvergenceWarning: Objective did not converge. You might want to increase the number of iterations. Fitting data with very small alpha may cause precision problems.\n",
      "  ConvergenceWarning)\n"
     ]
    },
    {
     "name": "stdout",
     "output_type": "stream",
     "text": [
      "[CV]  alpha=0.002976351441631319, l1_ratio=0.0, score=-8.704699251599392, total=   0.0s\n",
      "[CV] alpha=0.002976351441631319, l1_ratio=0.0 ........................\n"
     ]
    },
    {
     "name": "stderr",
     "output_type": "stream",
     "text": [
      "D:\\Anaconda\\lib\\site-packages\\sklearn\\linear_model\\coordinate_descent.py:492: ConvergenceWarning: Objective did not converge. You might want to increase the number of iterations. Fitting data with very small alpha may cause precision problems.\n",
      "  ConvergenceWarning)\n"
     ]
    },
    {
     "name": "stdout",
     "output_type": "stream",
     "text": [
      "[CV]  alpha=0.002976351441631319, l1_ratio=0.0, score=-10.978409095112355, total=   0.0s\n",
      "[CV] alpha=0.002976351441631319, l1_ratio=0.0 ........................\n"
     ]
    },
    {
     "name": "stderr",
     "output_type": "stream",
     "text": [
      "D:\\Anaconda\\lib\\site-packages\\sklearn\\linear_model\\coordinate_descent.py:492: ConvergenceWarning: Objective did not converge. You might want to increase the number of iterations. Fitting data with very small alpha may cause precision problems.\n",
      "  ConvergenceWarning)\n"
     ]
    },
    {
     "name": "stdout",
     "output_type": "stream",
     "text": [
      "[CV]  alpha=0.002976351441631319, l1_ratio=0.0, score=-8.911007843788724, total=   0.0s\n",
      "[CV] alpha=0.002976351441631319, l1_ratio=0.0 ........................\n"
     ]
    },
    {
     "name": "stderr",
     "output_type": "stream",
     "text": [
      "D:\\Anaconda\\lib\\site-packages\\sklearn\\linear_model\\coordinate_descent.py:492: ConvergenceWarning: Objective did not converge. You might want to increase the number of iterations. Fitting data with very small alpha may cause precision problems.\n",
      "  ConvergenceWarning)\n"
     ]
    },
    {
     "name": "stdout",
     "output_type": "stream",
     "text": [
      "[CV]  alpha=0.002976351441631319, l1_ratio=0.0, score=-7.286497457900091, total=   0.0s\n",
      "[CV] alpha=0.002976351441631319, l1_ratio=0.0 ........................\n"
     ]
    },
    {
     "name": "stderr",
     "output_type": "stream",
     "text": [
      "D:\\Anaconda\\lib\\site-packages\\sklearn\\linear_model\\coordinate_descent.py:492: ConvergenceWarning: Objective did not converge. You might want to increase the number of iterations. Fitting data with very small alpha may cause precision problems.\n",
      "  ConvergenceWarning)\n"
     ]
    },
    {
     "name": "stdout",
     "output_type": "stream",
     "text": [
      "[CV]  alpha=0.002976351441631319, l1_ratio=0.0, score=-10.9412341144478, total=   0.0s\n",
      "[CV] alpha=0.002976351441631319, l1_ratio=0.25 .......................\n"
     ]
    },
    {
     "name": "stderr",
     "output_type": "stream",
     "text": [
      "D:\\Anaconda\\lib\\site-packages\\sklearn\\linear_model\\coordinate_descent.py:492: ConvergenceWarning: Objective did not converge. You might want to increase the number of iterations. Fitting data with very small alpha may cause precision problems.\n",
      "  ConvergenceWarning)\n"
     ]
    },
    {
     "name": "stdout",
     "output_type": "stream",
     "text": [
      "[CV]  alpha=0.002976351441631319, l1_ratio=0.25, score=-8.707248823252211, total=   0.0s\n",
      "[CV] alpha=0.002976351441631319, l1_ratio=0.25 .......................\n"
     ]
    },
    {
     "name": "stderr",
     "output_type": "stream",
     "text": [
      "D:\\Anaconda\\lib\\site-packages\\sklearn\\linear_model\\coordinate_descent.py:492: ConvergenceWarning: Objective did not converge. You might want to increase the number of iterations. Fitting data with very small alpha may cause precision problems.\n",
      "  ConvergenceWarning)\n"
     ]
    },
    {
     "name": "stdout",
     "output_type": "stream",
     "text": [
      "[CV]  alpha=0.002976351441631319, l1_ratio=0.25, score=-10.975515769169538, total=   0.0s\n",
      "[CV] alpha=0.002976351441631319, l1_ratio=0.25 .......................\n",
      "[CV]  alpha=0.002976351441631319, l1_ratio=0.25, score=-8.912836882353806, total=   0.0s\n",
      "[CV] alpha=0.002976351441631319, l1_ratio=0.25 .......................\n"
     ]
    },
    {
     "name": "stderr",
     "output_type": "stream",
     "text": [
      "D:\\Anaconda\\lib\\site-packages\\sklearn\\linear_model\\coordinate_descent.py:492: ConvergenceWarning: Objective did not converge. You might want to increase the number of iterations. Fitting data with very small alpha may cause precision problems.\n",
      "  ConvergenceWarning)\n"
     ]
    },
    {
     "name": "stdout",
     "output_type": "stream",
     "text": [
      "[CV]  alpha=0.002976351441631319, l1_ratio=0.25, score=-7.2781151715064185, total=   0.0s\n",
      "[CV] alpha=0.002976351441631319, l1_ratio=0.25 .......................\n"
     ]
    },
    {
     "name": "stderr",
     "output_type": "stream",
     "text": [
      "D:\\Anaconda\\lib\\site-packages\\sklearn\\linear_model\\coordinate_descent.py:492: ConvergenceWarning: Objective did not converge. You might want to increase the number of iterations. Fitting data with very small alpha may cause precision problems.\n",
      "  ConvergenceWarning)\n"
     ]
    },
    {
     "name": "stdout",
     "output_type": "stream",
     "text": [
      "[CV]  alpha=0.002976351441631319, l1_ratio=0.25, score=-10.95157599297773, total=   0.0s\n",
      "[CV] alpha=0.002976351441631319, l1_ratio=0.5 ........................\n"
     ]
    },
    {
     "name": "stderr",
     "output_type": "stream",
     "text": [
      "D:\\Anaconda\\lib\\site-packages\\sklearn\\linear_model\\coordinate_descent.py:492: ConvergenceWarning: Objective did not converge. You might want to increase the number of iterations. Fitting data with very small alpha may cause precision problems.\n",
      "  ConvergenceWarning)\n"
     ]
    },
    {
     "name": "stdout",
     "output_type": "stream",
     "text": [
      "[CV]  alpha=0.002976351441631319, l1_ratio=0.5, score=-8.709620223534086, total=   0.0s\n",
      "[CV] alpha=0.002976351441631319, l1_ratio=0.5 ........................\n"
     ]
    },
    {
     "name": "stderr",
     "output_type": "stream",
     "text": [
      "D:\\Anaconda\\lib\\site-packages\\sklearn\\linear_model\\coordinate_descent.py:492: ConvergenceWarning: Objective did not converge. You might want to increase the number of iterations. Fitting data with very small alpha may cause precision problems.\n",
      "  ConvergenceWarning)\n"
     ]
    },
    {
     "name": "stdout",
     "output_type": "stream",
     "text": [
      "[CV]  alpha=0.002976351441631319, l1_ratio=0.5, score=-10.972822370985735, total=   0.0s\n",
      "[CV] alpha=0.002976351441631319, l1_ratio=0.5 ........................\n",
      "[CV]  alpha=0.002976351441631319, l1_ratio=0.5, score=-8.914285756504087, total=   0.0s\n",
      "[CV] alpha=0.002976351441631319, l1_ratio=0.5 ........................\n"
     ]
    },
    {
     "name": "stderr",
     "output_type": "stream",
     "text": [
      "D:\\Anaconda\\lib\\site-packages\\sklearn\\linear_model\\coordinate_descent.py:492: ConvergenceWarning: Objective did not converge. You might want to increase the number of iterations. Fitting data with very small alpha may cause precision problems.\n",
      "  ConvergenceWarning)\n"
     ]
    },
    {
     "name": "stdout",
     "output_type": "stream",
     "text": [
      "[CV]  alpha=0.002976351441631319, l1_ratio=0.5, score=-7.268425142156399, total=   0.0s\n",
      "[CV] alpha=0.002976351441631319, l1_ratio=0.5 ........................\n"
     ]
    },
    {
     "name": "stderr",
     "output_type": "stream",
     "text": [
      "D:\\Anaconda\\lib\\site-packages\\sklearn\\linear_model\\coordinate_descent.py:492: ConvergenceWarning: Objective did not converge. You might want to increase the number of iterations. Fitting data with very small alpha may cause precision problems.\n",
      "  ConvergenceWarning)\n"
     ]
    },
    {
     "name": "stdout",
     "output_type": "stream",
     "text": [
      "[CV]  alpha=0.002976351441631319, l1_ratio=0.5, score=-10.962279135299772, total=   0.0s\n",
      "[CV] alpha=0.002976351441631319, l1_ratio=0.75 .......................\n"
     ]
    },
    {
     "name": "stderr",
     "output_type": "stream",
     "text": [
      "D:\\Anaconda\\lib\\site-packages\\sklearn\\linear_model\\coordinate_descent.py:492: ConvergenceWarning: Objective did not converge. You might want to increase the number of iterations. Fitting data with very small alpha may cause precision problems.\n",
      "  ConvergenceWarning)\n"
     ]
    },
    {
     "name": "stdout",
     "output_type": "stream",
     "text": [
      "[CV]  alpha=0.002976351441631319, l1_ratio=0.75, score=-8.711940105304992, total=   0.0s\n",
      "[CV] alpha=0.002976351441631319, l1_ratio=0.75 .......................\n"
     ]
    },
    {
     "name": "stderr",
     "output_type": "stream",
     "text": [
      "D:\\Anaconda\\lib\\site-packages\\sklearn\\linear_model\\coordinate_descent.py:492: ConvergenceWarning: Objective did not converge. You might want to increase the number of iterations. Fitting data with very small alpha may cause precision problems.\n",
      "  ConvergenceWarning)\n"
     ]
    },
    {
     "name": "stdout",
     "output_type": "stream",
     "text": [
      "[CV]  alpha=0.002976351441631319, l1_ratio=0.75, score=-10.970147563557699, total=   0.0s\n",
      "[CV] alpha=0.002976351441631319, l1_ratio=0.75 .......................\n",
      "[CV]  alpha=0.002976351441631319, l1_ratio=0.75, score=-8.916910789848865, total=   0.0s\n",
      "[CV] alpha=0.002976351441631319, l1_ratio=0.75 .......................\n"
     ]
    },
    {
     "name": "stderr",
     "output_type": "stream",
     "text": [
      "D:\\Anaconda\\lib\\site-packages\\sklearn\\linear_model\\coordinate_descent.py:492: ConvergenceWarning: Objective did not converge. You might want to increase the number of iterations. Fitting data with very small alpha may cause precision problems.\n",
      "  ConvergenceWarning)\n"
     ]
    },
    {
     "name": "stdout",
     "output_type": "stream",
     "text": [
      "[CV]  alpha=0.002976351441631319, l1_ratio=0.75, score=-7.259850792073409, total=   0.0s\n",
      "[CV] alpha=0.002976351441631319, l1_ratio=0.75 .......................\n"
     ]
    },
    {
     "name": "stderr",
     "output_type": "stream",
     "text": [
      "D:\\Anaconda\\lib\\site-packages\\sklearn\\linear_model\\coordinate_descent.py:492: ConvergenceWarning: Objective did not converge. You might want to increase the number of iterations. Fitting data with very small alpha may cause precision problems.\n",
      "  ConvergenceWarning)\n"
     ]
    },
    {
     "name": "stdout",
     "output_type": "stream",
     "text": [
      "[CV]  alpha=0.002976351441631319, l1_ratio=0.75, score=-10.973194026880387, total=   0.0s\n",
      "[CV] alpha=0.002976351441631319, l1_ratio=1.0 ........................\n"
     ]
    },
    {
     "name": "stderr",
     "output_type": "stream",
     "text": [
      "D:\\Anaconda\\lib\\site-packages\\sklearn\\linear_model\\coordinate_descent.py:492: ConvergenceWarning: Objective did not converge. You might want to increase the number of iterations. Fitting data with very small alpha may cause precision problems.\n",
      "  ConvergenceWarning)\n"
     ]
    },
    {
     "name": "stdout",
     "output_type": "stream",
     "text": [
      "[CV]  alpha=0.002976351441631319, l1_ratio=1.0, score=-8.71254911894563, total=   0.0s\n",
      "[CV] alpha=0.002976351441631319, l1_ratio=1.0 ........................\n"
     ]
    },
    {
     "name": "stderr",
     "output_type": "stream",
     "text": [
      "D:\\Anaconda\\lib\\site-packages\\sklearn\\linear_model\\coordinate_descent.py:492: ConvergenceWarning: Objective did not converge. You might want to increase the number of iterations. Fitting data with very small alpha may cause precision problems.\n",
      "  ConvergenceWarning)\n"
     ]
    },
    {
     "name": "stdout",
     "output_type": "stream",
     "text": [
      "[CV]  alpha=0.002976351441631319, l1_ratio=1.0, score=-10.96806520909287, total=   0.0s\n",
      "[CV] alpha=0.002976351441631319, l1_ratio=1.0 ........................\n",
      "[CV]  alpha=0.002976351441631319, l1_ratio=1.0, score=-8.923261039159136, total=   0.0s\n",
      "[CV] alpha=0.002976351441631319, l1_ratio=1.0 ........................\n"
     ]
    },
    {
     "name": "stderr",
     "output_type": "stream",
     "text": [
      "D:\\Anaconda\\lib\\site-packages\\sklearn\\linear_model\\coordinate_descent.py:492: ConvergenceWarning: Objective did not converge. You might want to increase the number of iterations. Fitting data with very small alpha may cause precision problems.\n",
      "  ConvergenceWarning)\n"
     ]
    },
    {
     "name": "stdout",
     "output_type": "stream",
     "text": [
      "[CV]  alpha=0.002976351441631319, l1_ratio=1.0, score=-7.248954049210611, total=   0.0s\n",
      "[CV] alpha=0.002976351441631319, l1_ratio=1.0 ........................\n"
     ]
    },
    {
     "name": "stderr",
     "output_type": "stream",
     "text": [
      "D:\\Anaconda\\lib\\site-packages\\sklearn\\linear_model\\coordinate_descent.py:492: ConvergenceWarning: Objective did not converge. You might want to increase the number of iterations. Fitting data with very small alpha may cause precision problems.\n",
      "  ConvergenceWarning)\n"
     ]
    },
    {
     "name": "stdout",
     "output_type": "stream",
     "text": [
      "[CV]  alpha=0.002976351441631319, l1_ratio=1.0, score=-10.984663341389323, total=   0.0s\n",
      "[CV] alpha=0.004281332398719396, l1_ratio=0.0 ........................\n"
     ]
    },
    {
     "name": "stderr",
     "output_type": "stream",
     "text": [
      "D:\\Anaconda\\lib\\site-packages\\sklearn\\linear_model\\coordinate_descent.py:492: ConvergenceWarning: Objective did not converge. You might want to increase the number of iterations. Fitting data with very small alpha may cause precision problems.\n",
      "  ConvergenceWarning)\n"
     ]
    },
    {
     "name": "stdout",
     "output_type": "stream",
     "text": [
      "[CV]  alpha=0.004281332398719396, l1_ratio=0.0, score=-8.694977158610362, total=   0.0s\n",
      "[CV] alpha=0.004281332398719396, l1_ratio=0.0 ........................\n"
     ]
    },
    {
     "name": "stderr",
     "output_type": "stream",
     "text": [
      "D:\\Anaconda\\lib\\site-packages\\sklearn\\linear_model\\coordinate_descent.py:492: ConvergenceWarning: Objective did not converge. You might want to increase the number of iterations. Fitting data with very small alpha may cause precision problems.\n",
      "  ConvergenceWarning)\n"
     ]
    },
    {
     "name": "stdout",
     "output_type": "stream",
     "text": [
      "[CV]  alpha=0.004281332398719396, l1_ratio=0.0, score=-10.980782974150788, total=   0.0s\n",
      "[CV] alpha=0.004281332398719396, l1_ratio=0.0 ........................\n"
     ]
    },
    {
     "name": "stderr",
     "output_type": "stream",
     "text": [
      "D:\\Anaconda\\lib\\site-packages\\sklearn\\linear_model\\coordinate_descent.py:492: ConvergenceWarning: Objective did not converge. You might want to increase the number of iterations. Fitting data with very small alpha may cause precision problems.\n",
      "  ConvergenceWarning)\n"
     ]
    },
    {
     "name": "stdout",
     "output_type": "stream",
     "text": [
      "[CV]  alpha=0.004281332398719396, l1_ratio=0.0, score=-8.906703557538172, total=   0.0s\n",
      "[CV] alpha=0.004281332398719396, l1_ratio=0.0 ........................\n"
     ]
    },
    {
     "name": "stderr",
     "output_type": "stream",
     "text": [
      "D:\\Anaconda\\lib\\site-packages\\sklearn\\linear_model\\coordinate_descent.py:492: ConvergenceWarning: Objective did not converge. You might want to increase the number of iterations. Fitting data with very small alpha may cause precision problems.\n",
      "  ConvergenceWarning)\n"
     ]
    },
    {
     "name": "stdout",
     "output_type": "stream",
     "text": [
      "[CV]  alpha=0.004281332398719396, l1_ratio=0.0, score=-7.308344717387639, total=   0.0s\n",
      "[CV] alpha=0.004281332398719396, l1_ratio=0.0 ........................\n"
     ]
    },
    {
     "name": "stderr",
     "output_type": "stream",
     "text": [
      "D:\\Anaconda\\lib\\site-packages\\sklearn\\linear_model\\coordinate_descent.py:492: ConvergenceWarning: Objective did not converge. You might want to increase the number of iterations. Fitting data with very small alpha may cause precision problems.\n",
      "  ConvergenceWarning)\n"
     ]
    },
    {
     "name": "stdout",
     "output_type": "stream",
     "text": [
      "[CV]  alpha=0.004281332398719396, l1_ratio=0.0, score=-10.910443169219738, total=   0.0s\n",
      "[CV] alpha=0.004281332398719396, l1_ratio=0.25 .......................\n",
      "[CV]  alpha=0.004281332398719396, l1_ratio=0.25, score=-8.699042402765393, total=   0.0s\n",
      "[CV] alpha=0.004281332398719396, l1_ratio=0.25 .......................\n",
      "[CV]  alpha=0.004281332398719396, l1_ratio=0.25, score=-10.976652874065708, total=   0.0s\n",
      "[CV] alpha=0.004281332398719396, l1_ratio=0.25 .......................\n",
      "[CV]  alpha=0.004281332398719396, l1_ratio=0.25, score=-8.908398706409097, total=   0.0s\n",
      "[CV] alpha=0.004281332398719396, l1_ratio=0.25 .......................\n"
     ]
    },
    {
     "name": "stderr",
     "output_type": "stream",
     "text": [
      "D:\\Anaconda\\lib\\site-packages\\sklearn\\linear_model\\coordinate_descent.py:492: ConvergenceWarning: Objective did not converge. You might want to increase the number of iterations. Fitting data with very small alpha may cause precision problems.\n",
      "  ConvergenceWarning)\n"
     ]
    },
    {
     "name": "stdout",
     "output_type": "stream",
     "text": [
      "[CV]  alpha=0.004281332398719396, l1_ratio=0.25, score=-7.298979493253766, total=   0.0s\n",
      "[CV] alpha=0.004281332398719396, l1_ratio=0.25 .......................\n",
      "[CV]  alpha=0.004281332398719396, l1_ratio=0.25, score=-10.923336715554887, total=   0.0s\n",
      "[CV] alpha=0.004281332398719396, l1_ratio=0.5 ........................\n"
     ]
    },
    {
     "name": "stderr",
     "output_type": "stream",
     "text": [
      "D:\\Anaconda\\lib\\site-packages\\sklearn\\linear_model\\coordinate_descent.py:492: ConvergenceWarning: Objective did not converge. You might want to increase the number of iterations. Fitting data with very small alpha may cause precision problems.\n",
      "  ConvergenceWarning)\n"
     ]
    },
    {
     "name": "stdout",
     "output_type": "stream",
     "text": [
      "[CV]  alpha=0.004281332398719396, l1_ratio=0.5, score=-8.703242364050556, total=   0.0s\n",
      "[CV] alpha=0.004281332398719396, l1_ratio=0.5 ........................\n"
     ]
    },
    {
     "name": "stderr",
     "output_type": "stream",
     "text": [
      "D:\\Anaconda\\lib\\site-packages\\sklearn\\linear_model\\coordinate_descent.py:492: ConvergenceWarning: Objective did not converge. You might want to increase the number of iterations. Fitting data with very small alpha may cause precision problems.\n",
      "  ConvergenceWarning)\n"
     ]
    },
    {
     "name": "stdout",
     "output_type": "stream",
     "text": [
      "[CV]  alpha=0.004281332398719396, l1_ratio=0.5, score=-10.972628203612496, total=   0.0s\n",
      "[CV] alpha=0.004281332398719396, l1_ratio=0.5 ........................\n",
      "[CV]  alpha=0.004281332398719396, l1_ratio=0.5, score=-8.909870777050443, total=   0.0s\n",
      "[CV] alpha=0.004281332398719396, l1_ratio=0.5 ........................\n"
     ]
    },
    {
     "name": "stderr",
     "output_type": "stream",
     "text": [
      "D:\\Anaconda\\lib\\site-packages\\sklearn\\linear_model\\coordinate_descent.py:492: ConvergenceWarning: Objective did not converge. You might want to increase the number of iterations. Fitting data with very small alpha may cause precision problems.\n",
      "  ConvergenceWarning)\n"
     ]
    },
    {
     "name": "stdout",
     "output_type": "stream",
     "text": [
      "[CV]  alpha=0.004281332398719396, l1_ratio=0.5, score=-7.288476046343607, total=   0.0s\n",
      "[CV] alpha=0.004281332398719396, l1_ratio=0.5 ........................\n"
     ]
    },
    {
     "name": "stderr",
     "output_type": "stream",
     "text": [
      "D:\\Anaconda\\lib\\site-packages\\sklearn\\linear_model\\coordinate_descent.py:492: ConvergenceWarning: Objective did not converge. You might want to increase the number of iterations. Fitting data with very small alpha may cause precision problems.\n",
      "  ConvergenceWarning)\n"
     ]
    },
    {
     "name": "stdout",
     "output_type": "stream",
     "text": [
      "[CV]  alpha=0.004281332398719396, l1_ratio=0.5, score=-10.938986206022795, total=   0.0s\n",
      "[CV] alpha=0.004281332398719396, l1_ratio=0.75 .......................\n"
     ]
    },
    {
     "name": "stderr",
     "output_type": "stream",
     "text": [
      "D:\\Anaconda\\lib\\site-packages\\sklearn\\linear_model\\coordinate_descent.py:492: ConvergenceWarning: Objective did not converge. You might want to increase the number of iterations. Fitting data with very small alpha may cause precision problems.\n",
      "  ConvergenceWarning)\n"
     ]
    },
    {
     "name": "stdout",
     "output_type": "stream",
     "text": [
      "[CV]  alpha=0.004281332398719396, l1_ratio=0.75, score=-8.707885536476487, total=   0.0s\n",
      "[CV] alpha=0.004281332398719396, l1_ratio=0.75 .......................\n"
     ]
    },
    {
     "name": "stderr",
     "output_type": "stream",
     "text": [
      "D:\\Anaconda\\lib\\site-packages\\sklearn\\linear_model\\coordinate_descent.py:492: ConvergenceWarning: Objective did not converge. You might want to increase the number of iterations. Fitting data with very small alpha may cause precision problems.\n",
      "  ConvergenceWarning)\n"
     ]
    },
    {
     "name": "stdout",
     "output_type": "stream",
     "text": [
      "[CV]  alpha=0.004281332398719396, l1_ratio=0.75, score=-10.96870844636087, total=   0.0s\n",
      "[CV] alpha=0.004281332398719396, l1_ratio=0.75 .......................\n",
      "[CV]  alpha=0.004281332398719396, l1_ratio=0.75, score=-8.912420238860811, total=   0.0s\n",
      "[CV] alpha=0.004281332398719396, l1_ratio=0.75 .......................\n"
     ]
    },
    {
     "name": "stderr",
     "output_type": "stream",
     "text": [
      "D:\\Anaconda\\lib\\site-packages\\sklearn\\linear_model\\coordinate_descent.py:492: ConvergenceWarning: Objective did not converge. You might want to increase the number of iterations. Fitting data with very small alpha may cause precision problems.\n",
      "  ConvergenceWarning)\n"
     ]
    },
    {
     "name": "stdout",
     "output_type": "stream",
     "text": [
      "[CV]  alpha=0.004281332398719396, l1_ratio=0.75, score=-7.278595764355291, total=   0.0s\n",
      "[CV] alpha=0.004281332398719396, l1_ratio=0.75 .......................\n"
     ]
    },
    {
     "name": "stderr",
     "output_type": "stream",
     "text": [
      "D:\\Anaconda\\lib\\site-packages\\sklearn\\linear_model\\coordinate_descent.py:492: ConvergenceWarning: Objective did not converge. You might want to increase the number of iterations. Fitting data with very small alpha may cause precision problems.\n",
      "  ConvergenceWarning)\n"
     ]
    },
    {
     "name": "stdout",
     "output_type": "stream",
     "text": [
      "[CV]  alpha=0.004281332398719396, l1_ratio=0.75, score=-10.954096196377508, total=   0.0s\n",
      "[CV] alpha=0.004281332398719396, l1_ratio=1.0 ........................\n"
     ]
    },
    {
     "name": "stderr",
     "output_type": "stream",
     "text": [
      "D:\\Anaconda\\lib\\site-packages\\sklearn\\linear_model\\coordinate_descent.py:492: ConvergenceWarning: Objective did not converge. You might want to increase the number of iterations. Fitting data with very small alpha may cause precision problems.\n",
      "  ConvergenceWarning)\n"
     ]
    },
    {
     "name": "stdout",
     "output_type": "stream",
     "text": [
      "[CV]  alpha=0.004281332398719396, l1_ratio=1.0, score=-8.711252653379558, total=   0.0s\n",
      "[CV] alpha=0.004281332398719396, l1_ratio=1.0 ........................\n"
     ]
    },
    {
     "name": "stderr",
     "output_type": "stream",
     "text": [
      "D:\\Anaconda\\lib\\site-packages\\sklearn\\linear_model\\coordinate_descent.py:492: ConvergenceWarning: Objective did not converge. You might want to increase the number of iterations. Fitting data with very small alpha may cause precision problems.\n",
      "  ConvergenceWarning)\n"
     ]
    },
    {
     "name": "stdout",
     "output_type": "stream",
     "text": [
      "[CV]  alpha=0.004281332398719396, l1_ratio=1.0, score=-10.965041250424354, total=   0.0s\n",
      "[CV] alpha=0.004281332398719396, l1_ratio=1.0 ........................\n",
      "[CV]  alpha=0.004281332398719396, l1_ratio=1.0, score=-8.920243734965661, total=   0.0s\n",
      "[CV] alpha=0.004281332398719396, l1_ratio=1.0 ........................\n"
     ]
    },
    {
     "name": "stderr",
     "output_type": "stream",
     "text": [
      "D:\\Anaconda\\lib\\site-packages\\sklearn\\linear_model\\coordinate_descent.py:492: ConvergenceWarning: Objective did not converge. You might want to increase the number of iterations. Fitting data with very small alpha may cause precision problems.\n",
      "  ConvergenceWarning)\n"
     ]
    },
    {
     "name": "stdout",
     "output_type": "stream",
     "text": [
      "[CV]  alpha=0.004281332398719396, l1_ratio=1.0, score=-7.265847590073659, total=   0.0s\n",
      "[CV] alpha=0.004281332398719396, l1_ratio=1.0 ........................\n"
     ]
    },
    {
     "name": "stderr",
     "output_type": "stream",
     "text": [
      "D:\\Anaconda\\lib\\site-packages\\sklearn\\linear_model\\coordinate_descent.py:492: ConvergenceWarning: Objective did not converge. You might want to increase the number of iterations. Fitting data with very small alpha may cause precision problems.\n",
      "  ConvergenceWarning)\n"
     ]
    },
    {
     "name": "stdout",
     "output_type": "stream",
     "text": [
      "[CV]  alpha=0.004281332398719396, l1_ratio=1.0, score=-10.969529357928886, total=   0.0s\n",
      "[CV] alpha=0.006158482110660267, l1_ratio=0.0 ........................\n"
     ]
    },
    {
     "name": "stderr",
     "output_type": "stream",
     "text": [
      "D:\\Anaconda\\lib\\site-packages\\sklearn\\linear_model\\coordinate_descent.py:492: ConvergenceWarning: Objective did not converge. You might want to increase the number of iterations. Fitting data with very small alpha may cause precision problems.\n",
      "  ConvergenceWarning)\n"
     ]
    },
    {
     "name": "stdout",
     "output_type": "stream",
     "text": [
      "[CV]  alpha=0.006158482110660267, l1_ratio=0.0, score=-8.68105339716512, total=   0.0s\n",
      "[CV] alpha=0.006158482110660267, l1_ratio=0.0 ........................\n"
     ]
    },
    {
     "name": "stderr",
     "output_type": "stream",
     "text": [
      "D:\\Anaconda\\lib\\site-packages\\sklearn\\linear_model\\coordinate_descent.py:492: ConvergenceWarning: Objective did not converge. You might want to increase the number of iterations. Fitting data with very small alpha may cause precision problems.\n",
      "  ConvergenceWarning)\n"
     ]
    },
    {
     "name": "stdout",
     "output_type": "stream",
     "text": [
      "[CV]  alpha=0.006158482110660267, l1_ratio=0.0, score=-10.983806852402095, total=   0.0s\n",
      "[CV] alpha=0.006158482110660267, l1_ratio=0.0 ........................\n"
     ]
    },
    {
     "name": "stderr",
     "output_type": "stream",
     "text": [
      "D:\\Anaconda\\lib\\site-packages\\sklearn\\linear_model\\coordinate_descent.py:492: ConvergenceWarning: Objective did not converge. You might want to increase the number of iterations. Fitting data with very small alpha may cause precision problems.\n",
      "  ConvergenceWarning)\n"
     ]
    },
    {
     "name": "stdout",
     "output_type": "stream",
     "text": [
      "[CV]  alpha=0.006158482110660267, l1_ratio=0.0, score=-8.90086726539226, total=   0.0s\n",
      "[CV] alpha=0.006158482110660267, l1_ratio=0.0 ........................\n"
     ]
    },
    {
     "name": "stderr",
     "output_type": "stream",
     "text": [
      "D:\\Anaconda\\lib\\site-packages\\sklearn\\linear_model\\coordinate_descent.py:492: ConvergenceWarning: Objective did not converge. You might want to increase the number of iterations. Fitting data with very small alpha may cause precision problems.\n",
      "  ConvergenceWarning)\n"
     ]
    },
    {
     "name": "stdout",
     "output_type": "stream",
     "text": [
      "[CV]  alpha=0.006158482110660267, l1_ratio=0.0, score=-7.334875794126166, total=   0.0s\n",
      "[CV] alpha=0.006158482110660267, l1_ratio=0.0 ........................\n"
     ]
    },
    {
     "name": "stderr",
     "output_type": "stream",
     "text": [
      "D:\\Anaconda\\lib\\site-packages\\sklearn\\linear_model\\coordinate_descent.py:492: ConvergenceWarning: Objective did not converge. You might want to increase the number of iterations. Fitting data with very small alpha may cause precision problems.\n",
      "  ConvergenceWarning)\n"
     ]
    },
    {
     "name": "stdout",
     "output_type": "stream",
     "text": [
      "[CV]  alpha=0.006158482110660267, l1_ratio=0.0, score=-10.868101119152008, total=   0.0s\n",
      "[CV] alpha=0.006158482110660267, l1_ratio=0.25 .......................\n",
      "[CV]  alpha=0.006158482110660267, l1_ratio=0.25, score=-8.686191384432746, total=   0.0s\n",
      "[CV] alpha=0.006158482110660267, l1_ratio=0.25 .......................\n",
      "[CV]  alpha=0.006158482110660267, l1_ratio=0.25, score=-10.978434214012411, total=   0.0s\n",
      "[CV] alpha=0.006158482110660267, l1_ratio=0.25 .......................\n",
      "[CV]  alpha=0.006158482110660267, l1_ratio=0.25, score=-8.902496299500623, total=   0.0s\n",
      "[CV] alpha=0.006158482110660267, l1_ratio=0.25 .......................\n",
      "[CV]  alpha=0.006158482110660267, l1_ratio=0.25, score=-7.324983367137318, total=   0.0s\n",
      "[CV] alpha=0.006158482110660267, l1_ratio=0.25 .......................\n",
      "[CV]  alpha=0.006158482110660267, l1_ratio=0.25, score=-10.885010967265188, total=   0.0s\n",
      "[CV] alpha=0.006158482110660267, l1_ratio=0.5 ........................\n",
      "[CV]  alpha=0.006158482110660267, l1_ratio=0.5, score=-8.692435390389313, total=   0.0s\n",
      "[CV] alpha=0.006158482110660267, l1_ratio=0.5 ........................\n",
      "[CV]  alpha=0.006158482110660267, l1_ratio=0.5, score=-10.97263881088799, total=   0.0s\n",
      "[CV] alpha=0.006158482110660267, l1_ratio=0.5 ........................\n",
      "[CV]  alpha=0.006158482110660267, l1_ratio=0.5, score=-8.904088857022598, total=   0.0s\n",
      "[CV] alpha=0.006158482110660267, l1_ratio=0.5 ........................\n",
      "[CV]  alpha=0.006158482110660267, l1_ratio=0.5, score=-7.313987770554463, total=   0.0s\n",
      "[CV] alpha=0.006158482110660267, l1_ratio=0.5 ........................\n",
      "[CV]  alpha=0.006158482110660267, l1_ratio=0.5, score=-10.904471457085721, total=   0.0s\n",
      "[CV] alpha=0.006158482110660267, l1_ratio=0.75 .......................\n",
      "[CV]  alpha=0.006158482110660267, l1_ratio=0.75, score=-8.700057075676344, total=   0.0s\n",
      "[CV] alpha=0.006158482110660267, l1_ratio=0.75 .......................\n"
     ]
    },
    {
     "name": "stderr",
     "output_type": "stream",
     "text": [
      "D:\\Anaconda\\lib\\site-packages\\sklearn\\linear_model\\coordinate_descent.py:492: ConvergenceWarning: Objective did not converge. You might want to increase the number of iterations. Fitting data with very small alpha may cause precision problems.\n",
      "  ConvergenceWarning)\n"
     ]
    },
    {
     "name": "stdout",
     "output_type": "stream",
     "text": [
      "[CV]  alpha=0.006158482110660267, l1_ratio=0.75, score=-10.966842896617468, total=   0.0s\n",
      "[CV] alpha=0.006158482110660267, l1_ratio=0.75 .......................\n",
      "[CV]  alpha=0.006158482110660267, l1_ratio=0.75, score=-8.906586422391289, total=   0.0s\n",
      "[CV] alpha=0.006158482110660267, l1_ratio=0.75 .......................\n"
     ]
    },
    {
     "name": "stderr",
     "output_type": "stream",
     "text": [
      "D:\\Anaconda\\lib\\site-packages\\sklearn\\linear_model\\coordinate_descent.py:492: ConvergenceWarning: Objective did not converge. You might want to increase the number of iterations. Fitting data with very small alpha may cause precision problems.\n",
      "  ConvergenceWarning)\n"
     ]
    },
    {
     "name": "stdout",
     "output_type": "stream",
     "text": [
      "[CV]  alpha=0.006158482110660267, l1_ratio=0.75, score=-7.303554908059758, total=   0.0s\n",
      "[CV] alpha=0.006158482110660267, l1_ratio=0.75 .......................\n",
      "[CV]  alpha=0.006158482110660267, l1_ratio=0.75, score=-10.927058033432655, total=   0.0s\n",
      "[CV] alpha=0.006158482110660267, l1_ratio=1.0 ........................\n",
      "[CV]  alpha=0.006158482110660267, l1_ratio=1.0, score=-8.708346423638556, total=   0.0s\n",
      "[CV] alpha=0.006158482110660267, l1_ratio=1.0 ........................\n"
     ]
    },
    {
     "name": "stderr",
     "output_type": "stream",
     "text": [
      "D:\\Anaconda\\lib\\site-packages\\sklearn\\linear_model\\coordinate_descent.py:492: ConvergenceWarning: Objective did not converge. You might want to increase the number of iterations. Fitting data with very small alpha may cause precision problems.\n",
      "  ConvergenceWarning)\n"
     ]
    },
    {
     "name": "stdout",
     "output_type": "stream",
     "text": [
      "[CV]  alpha=0.006158482110660267, l1_ratio=1.0, score=-10.96135559606788, total=   0.0s\n",
      "[CV] alpha=0.006158482110660267, l1_ratio=1.0 ........................\n",
      "[CV]  alpha=0.006158482110660267, l1_ratio=1.0, score=-8.915883772705737, total=   0.0s\n",
      "[CV] alpha=0.006158482110660267, l1_ratio=1.0 ........................\n"
     ]
    },
    {
     "name": "stderr",
     "output_type": "stream",
     "text": [
      "D:\\Anaconda\\lib\\site-packages\\sklearn\\linear_model\\coordinate_descent.py:492: ConvergenceWarning: Objective did not converge. You might want to increase the number of iterations. Fitting data with very small alpha may cause precision problems.\n",
      "  ConvergenceWarning)\n"
     ]
    },
    {
     "name": "stdout",
     "output_type": "stream",
     "text": [
      "[CV]  alpha=0.006158482110660267, l1_ratio=1.0, score=-7.290745436714523, total=   0.0s\n",
      "[CV] alpha=0.006158482110660267, l1_ratio=1.0 ........................\n"
     ]
    },
    {
     "name": "stderr",
     "output_type": "stream",
     "text": [
      "D:\\Anaconda\\lib\\site-packages\\sklearn\\linear_model\\coordinate_descent.py:492: ConvergenceWarning: Objective did not converge. You might want to increase the number of iterations. Fitting data with very small alpha may cause precision problems.\n",
      "  ConvergenceWarning)\n"
     ]
    },
    {
     "name": "stdout",
     "output_type": "stream",
     "text": [
      "[CV]  alpha=0.006158482110660267, l1_ratio=1.0, score=-10.947784887554654, total=   0.0s\n",
      "[CV] alpha=0.008858667904100823, l1_ratio=0.0 ........................\n"
     ]
    },
    {
     "name": "stderr",
     "output_type": "stream",
     "text": [
      "D:\\Anaconda\\lib\\site-packages\\sklearn\\linear_model\\coordinate_descent.py:492: ConvergenceWarning: Objective did not converge. You might want to increase the number of iterations. Fitting data with very small alpha may cause precision problems.\n",
      "  ConvergenceWarning)\n"
     ]
    },
    {
     "name": "stdout",
     "output_type": "stream",
     "text": [
      "[CV]  alpha=0.008858667904100823, l1_ratio=0.0, score=-8.662365257656177, total=   0.0s\n",
      "[CV] alpha=0.008858667904100823, l1_ratio=0.0 ........................\n"
     ]
    },
    {
     "name": "stderr",
     "output_type": "stream",
     "text": [
      "D:\\Anaconda\\lib\\site-packages\\sklearn\\linear_model\\coordinate_descent.py:492: ConvergenceWarning: Objective did not converge. You might want to increase the number of iterations. Fitting data with very small alpha may cause precision problems.\n",
      "  ConvergenceWarning)\n"
     ]
    },
    {
     "name": "stdout",
     "output_type": "stream",
     "text": [
      "[CV]  alpha=0.008858667904100823, l1_ratio=0.0, score=-10.989829485823002, total=   0.0s\n",
      "[CV] alpha=0.008858667904100823, l1_ratio=0.0 ........................\n"
     ]
    },
    {
     "name": "stderr",
     "output_type": "stream",
     "text": [
      "D:\\Anaconda\\lib\\site-packages\\sklearn\\linear_model\\coordinate_descent.py:492: ConvergenceWarning: Objective did not converge. You might want to increase the number of iterations. Fitting data with very small alpha may cause precision problems.\n",
      "  ConvergenceWarning)\n"
     ]
    },
    {
     "name": "stdout",
     "output_type": "stream",
     "text": [
      "[CV]  alpha=0.008858667904100823, l1_ratio=0.0, score=-8.892850333641482, total=   0.0s\n",
      "[CV] alpha=0.008858667904100823, l1_ratio=0.0 ........................\n"
     ]
    },
    {
     "name": "stderr",
     "output_type": "stream",
     "text": [
      "D:\\Anaconda\\lib\\site-packages\\sklearn\\linear_model\\coordinate_descent.py:492: ConvergenceWarning: Objective did not converge. You might want to increase the number of iterations. Fitting data with very small alpha may cause precision problems.\n",
      "  ConvergenceWarning)\n"
     ]
    },
    {
     "name": "stdout",
     "output_type": "stream",
     "text": [
      "[CV]  alpha=0.008858667904100823, l1_ratio=0.0, score=-7.365993232354808, total=   0.0s\n",
      "[CV] alpha=0.008858667904100823, l1_ratio=0.0 ........................\n"
     ]
    },
    {
     "name": "stderr",
     "output_type": "stream",
     "text": [
      "D:\\Anaconda\\lib\\site-packages\\sklearn\\linear_model\\coordinate_descent.py:492: ConvergenceWarning: Objective did not converge. You might want to increase the number of iterations. Fitting data with very small alpha may cause precision problems.\n",
      "  ConvergenceWarning)\n"
     ]
    },
    {
     "name": "stdout",
     "output_type": "stream",
     "text": [
      "[CV]  alpha=0.008858667904100823, l1_ratio=0.0, score=-10.814304052536302, total=   0.0s\n",
      "[CV] alpha=0.008858667904100823, l1_ratio=0.25 .......................\n",
      "[CV]  alpha=0.008858667904100823, l1_ratio=0.25, score=-8.669047493663316, total=   0.0s\n",
      "[CV] alpha=0.008858667904100823, l1_ratio=0.25 .......................\n",
      "[CV]  alpha=0.008858667904100823, l1_ratio=0.25, score=-10.98150667767276, total=   0.0s\n",
      "[CV] alpha=0.008858667904100823, l1_ratio=0.25 .......................\n",
      "[CV]  alpha=0.008858667904100823, l1_ratio=0.25, score=-8.894459604089025, total=   0.0s\n",
      "[CV] alpha=0.008858667904100823, l1_ratio=0.25 .......................\n",
      "[CV]  alpha=0.008858667904100823, l1_ratio=0.25, score=-7.356283138686945, total=   0.0s\n",
      "[CV] alpha=0.008858667904100823, l1_ratio=0.25 .......................\n",
      "[CV]  alpha=0.008858667904100823, l1_ratio=0.25, score=-10.832908869513805, total=   0.0s\n",
      "[CV] alpha=0.008858667904100823, l1_ratio=0.5 ........................\n",
      "[CV]  alpha=0.008858667904100823, l1_ratio=0.5, score=-8.676501503813867, total=   0.0s\n",
      "[CV] alpha=0.008858667904100823, l1_ratio=0.5 ........................\n",
      "[CV]  alpha=0.008858667904100823, l1_ratio=0.5, score=-10.973270051348191, total=   0.0s\n",
      "[CV] alpha=0.008858667904100823, l1_ratio=0.5 ........................\n",
      "[CV]  alpha=0.008858667904100823, l1_ratio=0.5, score=-8.896248922786082, total=   0.0s\n",
      "[CV] alpha=0.008858667904100823, l1_ratio=0.5 ........................\n",
      "[CV]  alpha=0.008858667904100823, l1_ratio=0.5, score=-7.345718154566774, total=   0.0s\n",
      "[CV] alpha=0.008858667904100823, l1_ratio=0.5 ........................\n",
      "[CV]  alpha=0.008858667904100823, l1_ratio=0.5, score=-10.857172495409323, total=   0.0s\n",
      "[CV] alpha=0.008858667904100823, l1_ratio=0.75 .......................\n",
      "[CV]  alpha=0.008858667904100823, l1_ratio=0.75, score=-8.686889147882603, total=   0.0s\n",
      "[CV] alpha=0.008858667904100823, l1_ratio=0.75 .......................\n",
      "[CV]  alpha=0.008858667904100823, l1_ratio=0.75, score=-10.96474146373891, total=   0.0s\n",
      "[CV] alpha=0.008858667904100823, l1_ratio=0.75 .......................\n",
      "[CV]  alpha=0.008858667904100823, l1_ratio=0.75, score=-8.898849740539676, total=   0.0s\n",
      "[CV] alpha=0.008858667904100823, l1_ratio=0.75 .......................\n",
      "[CV]  alpha=0.008858667904100823, l1_ratio=0.75, score=-7.3359305864779865, total=   0.0s\n",
      "[CV] alpha=0.008858667904100823, l1_ratio=0.75 .......................\n",
      "[CV]  alpha=0.008858667904100823, l1_ratio=0.75, score=-10.888713365827964, total=   0.0s\n",
      "[CV] alpha=0.008858667904100823, l1_ratio=1.0 ........................\n",
      "[CV]  alpha=0.008858667904100823, l1_ratio=1.0, score=-8.697796296701675, total=   0.0s\n",
      "[CV] alpha=0.008858667904100823, l1_ratio=1.0 ........................\n",
      "[CV]  alpha=0.008858667904100823, l1_ratio=1.0, score=-10.95627298349992, total=   0.0s\n",
      "[CV] alpha=0.008858667904100823, l1_ratio=1.0 ........................\n",
      "[CV]  alpha=0.008858667904100823, l1_ratio=1.0, score=-8.90953334964336, total=   0.0s\n",
      "[CV] alpha=0.008858667904100823, l1_ratio=1.0 ........................\n",
      "[CV]  alpha=0.008858667904100823, l1_ratio=1.0, score=-7.324339497894259, total=   0.0s\n",
      "[CV] alpha=0.008858667904100823, l1_ratio=1.0 ........................\n",
      "[CV]  alpha=0.008858667904100823, l1_ratio=1.0, score=-10.919770394573181, total=   0.0s\n",
      "[CV] alpha=0.012742749857031334, l1_ratio=0.0 ........................\n"
     ]
    },
    {
     "name": "stderr",
     "output_type": "stream",
     "text": [
      "D:\\Anaconda\\lib\\site-packages\\sklearn\\linear_model\\coordinate_descent.py:492: ConvergenceWarning: Objective did not converge. You might want to increase the number of iterations. Fitting data with very small alpha may cause precision problems.\n",
      "  ConvergenceWarning)\n"
     ]
    },
    {
     "name": "stdout",
     "output_type": "stream",
     "text": [
      "[CV]  alpha=0.012742749857031334, l1_ratio=0.0, score=-8.637955780436577, total=   0.0s\n",
      "[CV] alpha=0.012742749857031334, l1_ratio=0.0 ........................\n"
     ]
    },
    {
     "name": "stderr",
     "output_type": "stream",
     "text": [
      "D:\\Anaconda\\lib\\site-packages\\sklearn\\linear_model\\coordinate_descent.py:492: ConvergenceWarning: Objective did not converge. You might want to increase the number of iterations. Fitting data with very small alpha may cause precision problems.\n",
      "  ConvergenceWarning)\n"
     ]
    },
    {
     "name": "stdout",
     "output_type": "stream",
     "text": [
      "[CV]  alpha=0.012742749857031334, l1_ratio=0.0, score=-10.996478082220616, total=   0.0s\n",
      "[CV] alpha=0.012742749857031334, l1_ratio=0.0 ........................\n"
     ]
    },
    {
     "name": "stderr",
     "output_type": "stream",
     "text": [
      "D:\\Anaconda\\lib\\site-packages\\sklearn\\linear_model\\coordinate_descent.py:492: ConvergenceWarning: Objective did not converge. You might want to increase the number of iterations. Fitting data with very small alpha may cause precision problems.\n",
      "  ConvergenceWarning)\n"
     ]
    },
    {
     "name": "stdout",
     "output_type": "stream",
     "text": [
      "[CV]  alpha=0.012742749857031334, l1_ratio=0.0, score=-8.88179412014893, total=   0.0s\n",
      "[CV] alpha=0.012742749857031334, l1_ratio=0.0 ........................\n"
     ]
    },
    {
     "name": "stderr",
     "output_type": "stream",
     "text": [
      "D:\\Anaconda\\lib\\site-packages\\sklearn\\linear_model\\coordinate_descent.py:492: ConvergenceWarning: Objective did not converge. You might want to increase the number of iterations. Fitting data with very small alpha may cause precision problems.\n",
      "  ConvergenceWarning)\n"
     ]
    },
    {
     "name": "stdout",
     "output_type": "stream",
     "text": [
      "[CV]  alpha=0.012742749857031334, l1_ratio=0.0, score=-7.404834046881696, total=   0.0s\n",
      "[CV] alpha=0.012742749857031334, l1_ratio=0.0 ........................\n"
     ]
    },
    {
     "name": "stderr",
     "output_type": "stream",
     "text": [
      "D:\\Anaconda\\lib\\site-packages\\sklearn\\linear_model\\coordinate_descent.py:492: ConvergenceWarning: Objective did not converge. You might want to increase the number of iterations. Fitting data with very small alpha may cause precision problems.\n",
      "  ConvergenceWarning)\n"
     ]
    },
    {
     "name": "stdout",
     "output_type": "stream",
     "text": [
      "[CV]  alpha=0.012742749857031334, l1_ratio=0.0, score=-10.748488968897707, total=   0.0s\n",
      "[CV] alpha=0.012742749857031334, l1_ratio=0.25 .......................\n",
      "[CV]  alpha=0.012742749857031334, l1_ratio=0.25, score=-8.64645539969587, total=   0.0s\n",
      "[CV] alpha=0.012742749857031334, l1_ratio=0.25 .......................\n",
      "[CV]  alpha=0.012742749857031334, l1_ratio=0.25, score=-10.986086754950868, total=   0.0s\n",
      "[CV] alpha=0.012742749857031334, l1_ratio=0.25 .......................\n",
      "[CV]  alpha=0.012742749857031334, l1_ratio=0.25, score=-8.883365019338449, total=   0.0s\n",
      "[CV] alpha=0.012742749857031334, l1_ratio=0.25 .......................\n",
      "[CV]  alpha=0.012742749857031334, l1_ratio=0.25, score=-7.397457161141371, total=   0.0s\n",
      "[CV] alpha=0.012742749857031334, l1_ratio=0.25 .......................\n",
      "[CV]  alpha=0.012742749857031334, l1_ratio=0.25, score=-10.769123578986818, total=   0.0s\n",
      "[CV] alpha=0.012742749857031334, l1_ratio=0.5 ........................\n",
      "[CV]  alpha=0.012742749857031334, l1_ratio=0.5, score=-8.655811921655413, total=   0.0s\n",
      "[CV] alpha=0.012742749857031334, l1_ratio=0.5 ........................\n",
      "[CV]  alpha=0.012742749857031334, l1_ratio=0.5, score=-10.975117007794637, total=   0.0s\n",
      "[CV] alpha=0.012742749857031334, l1_ratio=0.5 ........................\n",
      "[CV]  alpha=0.012742749857031334, l1_ratio=0.5, score=-8.885429427526407, total=   0.0s\n",
      "[CV] alpha=0.012742749857031334, l1_ratio=0.5 ........................\n",
      "[CV]  alpha=0.012742749857031334, l1_ratio=0.5, score=-7.38841648508004, total=   0.0s\n",
      "[CV] alpha=0.012742749857031334, l1_ratio=0.5 ........................\n",
      "[CV]  alpha=0.012742749857031334, l1_ratio=0.5, score=-10.79623797510899, total=   0.0s\n",
      "[CV] alpha=0.012742749857031334, l1_ratio=0.75 .......................\n",
      "[CV]  alpha=0.012742749857031334, l1_ratio=0.75, score=-8.668578749543293, total=   0.0s\n",
      "[CV] alpha=0.012742749857031334, l1_ratio=0.75 .......................\n",
      "[CV]  alpha=0.012742749857031334, l1_ratio=0.75, score=-10.963092542998309, total=   0.0s\n",
      "[CV] alpha=0.012742749857031334, l1_ratio=0.75 .......................\n",
      "[CV]  alpha=0.012742749857031334, l1_ratio=0.75, score=-8.888287134447465, total=   0.0s\n",
      "[CV] alpha=0.012742749857031334, l1_ratio=0.75 .......................\n",
      "[CV]  alpha=0.012742749857031334, l1_ratio=0.75, score=-7.381256237694386, total=   0.0s\n",
      "[CV] alpha=0.012742749857031334, l1_ratio=0.75 .......................\n",
      "[CV]  alpha=0.012742749857031334, l1_ratio=0.75, score=-10.834733534427208, total=   0.0s\n",
      "[CV] alpha=0.012742749857031334, l1_ratio=1.0 ........................\n",
      "[CV]  alpha=0.012742749857031334, l1_ratio=1.0, score=-8.683181917958514, total=   0.0s\n",
      "[CV] alpha=0.012742749857031334, l1_ratio=1.0 ........................\n",
      "[CV]  alpha=0.012742749857031334, l1_ratio=1.0, score=-10.949826879255847, total=   0.0s\n",
      "[CV] alpha=0.012742749857031334, l1_ratio=1.0 ........................\n",
      "[CV]  alpha=0.012742749857031334, l1_ratio=1.0, score=-8.9003307932388, total=   0.0s\n",
      "[CV] alpha=0.012742749857031334, l1_ratio=1.0 ........................\n",
      "[CV]  alpha=0.012742749857031334, l1_ratio=1.0, score=-7.373813394937843, total=   0.0s\n",
      "[CV] alpha=0.012742749857031334, l1_ratio=1.0 ........................\n",
      "[CV]  alpha=0.012742749857031334, l1_ratio=1.0, score=-10.880616666973115, total=   0.0s\n",
      "[CV] alpha=0.018329807108324356, l1_ratio=0.0 ........................\n"
     ]
    },
    {
     "name": "stderr",
     "output_type": "stream",
     "text": [
      "D:\\Anaconda\\lib\\site-packages\\sklearn\\linear_model\\coordinate_descent.py:492: ConvergenceWarning: Objective did not converge. You might want to increase the number of iterations. Fitting data with very small alpha may cause precision problems.\n",
      "  ConvergenceWarning)\n"
     ]
    },
    {
     "name": "stdout",
     "output_type": "stream",
     "text": [
      "[CV]  alpha=0.018329807108324356, l1_ratio=0.0, score=-8.605261244280136, total=   0.0s\n",
      "[CV] alpha=0.018329807108324356, l1_ratio=0.0 ........................\n"
     ]
    },
    {
     "name": "stderr",
     "output_type": "stream",
     "text": [
      "D:\\Anaconda\\lib\\site-packages\\sklearn\\linear_model\\coordinate_descent.py:492: ConvergenceWarning: Objective did not converge. You might want to increase the number of iterations. Fitting data with very small alpha may cause precision problems.\n",
      "  ConvergenceWarning)\n"
     ]
    },
    {
     "name": "stdout",
     "output_type": "stream",
     "text": [
      "[CV]  alpha=0.018329807108324356, l1_ratio=0.0, score=-11.00485279486225, total=   0.0s\n",
      "[CV] alpha=0.018329807108324356, l1_ratio=0.0 ........................\n"
     ]
    },
    {
     "name": "stderr",
     "output_type": "stream",
     "text": [
      "D:\\Anaconda\\lib\\site-packages\\sklearn\\linear_model\\coordinate_descent.py:492: ConvergenceWarning: Objective did not converge. You might want to increase the number of iterations. Fitting data with very small alpha may cause precision problems.\n",
      "  ConvergenceWarning)\n"
     ]
    },
    {
     "name": "stdout",
     "output_type": "stream",
     "text": [
      "[CV]  alpha=0.018329807108324356, l1_ratio=0.0, score=-8.866514076573875, total=   0.0s\n",
      "[CV] alpha=0.018329807108324356, l1_ratio=0.0 ........................\n"
     ]
    },
    {
     "name": "stderr",
     "output_type": "stream",
     "text": [
      "D:\\Anaconda\\lib\\site-packages\\sklearn\\linear_model\\coordinate_descent.py:492: ConvergenceWarning: Objective did not converge. You might want to increase the number of iterations. Fitting data with very small alpha may cause precision problems.\n",
      "  ConvergenceWarning)\n"
     ]
    },
    {
     "name": "stdout",
     "output_type": "stream",
     "text": [
      "[CV]  alpha=0.018329807108324356, l1_ratio=0.0, score=-7.449339075615582, total=   0.0s\n",
      "[CV] alpha=0.018329807108324356, l1_ratio=0.0 ........................\n"
     ]
    },
    {
     "name": "stderr",
     "output_type": "stream",
     "text": [
      "D:\\Anaconda\\lib\\site-packages\\sklearn\\linear_model\\coordinate_descent.py:492: ConvergenceWarning: Objective did not converge. You might want to increase the number of iterations. Fitting data with very small alpha may cause precision problems.\n",
      "  ConvergenceWarning)\n"
     ]
    },
    {
     "name": "stdout",
     "output_type": "stream",
     "text": [
      "[CV]  alpha=0.018329807108324356, l1_ratio=0.0, score=-10.662013770174593, total=   0.0s\n",
      "[CV] alpha=0.018329807108324356, l1_ratio=0.25 .......................\n",
      "[CV]  alpha=0.018329807108324356, l1_ratio=0.25, score=-8.616362195620741, total=   0.0s\n",
      "[CV] alpha=0.018329807108324356, l1_ratio=0.25 .......................\n",
      "[CV]  alpha=0.018329807108324356, l1_ratio=0.25, score=-10.99059550762066, total=   0.0s\n",
      "[CV] alpha=0.018329807108324356, l1_ratio=0.25 .......................\n",
      "[CV]  alpha=0.018329807108324356, l1_ratio=0.25, score=-8.867978757151619, total=   0.0s\n",
      "[CV] alpha=0.018329807108324356, l1_ratio=0.25 .......................\n",
      "[CV]  alpha=0.018329807108324356, l1_ratio=0.25, score=-7.445010975332653, total=   0.0s\n",
      "[CV] alpha=0.018329807108324356, l1_ratio=0.25 .......................\n",
      "[CV]  alpha=0.018329807108324356, l1_ratio=0.25, score=-10.688536943774324, total=   0.0s\n",
      "[CV] alpha=0.018329807108324356, l1_ratio=0.5 ........................\n",
      "[CV]  alpha=0.018329807108324356, l1_ratio=0.5, score=-8.628673923677011, total=   0.0s\n",
      "[CV] alpha=0.018329807108324356, l1_ratio=0.5 ........................\n",
      "[CV]  alpha=0.018329807108324356, l1_ratio=0.5, score=-10.976914660536643, total=   0.0s\n",
      "[CV] alpha=0.018329807108324356, l1_ratio=0.5 ........................\n",
      "[CV]  alpha=0.018329807108324356, l1_ratio=0.5, score=-8.870348332115016, total=   0.0s\n",
      "[CV] alpha=0.018329807108324356, l1_ratio=0.5 ........................\n",
      "[CV]  alpha=0.018329807108324356, l1_ratio=0.5, score=-7.4424007325902615, total=   0.0s\n",
      "[CV] alpha=0.018329807108324356, l1_ratio=0.5 ........................\n",
      "[CV]  alpha=0.018329807108324356, l1_ratio=0.5, score=-10.719101456408783, total=   0.0s\n",
      "[CV] alpha=0.018329807108324356, l1_ratio=0.75 .......................\n",
      "[CV]  alpha=0.018329807108324356, l1_ratio=0.75, score=-8.6444117954483, total=   0.0s\n",
      "[CV] alpha=0.018329807108324356, l1_ratio=0.75 .......................\n",
      "[CV]  alpha=0.018329807108324356, l1_ratio=0.75, score=-10.961364372674629, total=   0.0s\n",
      "[CV] alpha=0.018329807108324356, l1_ratio=0.75 .......................\n",
      "[CV]  alpha=0.018329807108324356, l1_ratio=0.75, score=-8.873582916046443, total=   0.0s\n",
      "[CV] alpha=0.018329807108324356, l1_ratio=0.75 .......................\n",
      "[CV]  alpha=0.018329807108324356, l1_ratio=0.75, score=-7.4441697000807405, total=   0.0s\n",
      "[CV] alpha=0.018329807108324356, l1_ratio=0.75 .......................\n",
      "[CV]  alpha=0.018329807108324356, l1_ratio=0.75, score=-10.760923724668737, total=   0.0s\n",
      "[CV] alpha=0.018329807108324356, l1_ratio=1.0 ........................\n",
      "[CV]  alpha=0.018329807108324356, l1_ratio=1.0, score=-8.662885425451863, total=   0.0s\n",
      "[CV] alpha=0.018329807108324356, l1_ratio=1.0 ........................\n",
      "[CV]  alpha=0.018329807108324356, l1_ratio=1.0, score=-10.942500607226705, total=   0.0s\n",
      "[CV] alpha=0.018329807108324356, l1_ratio=1.0 ........................\n",
      "[CV]  alpha=0.018329807108324356, l1_ratio=1.0, score=-8.887062105286438, total=   0.0s\n",
      "[CV] alpha=0.018329807108324356, l1_ratio=1.0 ........................\n",
      "[CV]  alpha=0.018329807108324356, l1_ratio=1.0, score=-7.453179325347254, total=   0.0s\n",
      "[CV] alpha=0.018329807108324356, l1_ratio=1.0 ........................\n",
      "[CV]  alpha=0.018329807108324356, l1_ratio=1.0, score=-10.823153466909393, total=   0.0s\n",
      "[CV] alpha=0.026366508987303583, l1_ratio=0.0 ........................\n"
     ]
    },
    {
     "name": "stderr",
     "output_type": "stream",
     "text": [
      "D:\\Anaconda\\lib\\site-packages\\sklearn\\linear_model\\coordinate_descent.py:492: ConvergenceWarning: Objective did not converge. You might want to increase the number of iterations. Fitting data with very small alpha may cause precision problems.\n",
      "  ConvergenceWarning)\n"
     ]
    },
    {
     "name": "stdout",
     "output_type": "stream",
     "text": [
      "[CV]  alpha=0.026366508987303583, l1_ratio=0.0, score=-8.56159261060418, total=   0.0s\n",
      "[CV] alpha=0.026366508987303583, l1_ratio=0.0 ........................\n"
     ]
    },
    {
     "name": "stderr",
     "output_type": "stream",
     "text": [
      "D:\\Anaconda\\lib\\site-packages\\sklearn\\linear_model\\coordinate_descent.py:492: ConvergenceWarning: Objective did not converge. You might want to increase the number of iterations. Fitting data with very small alpha may cause precision problems.\n",
      "  ConvergenceWarning)\n"
     ]
    },
    {
     "name": "stdout",
     "output_type": "stream",
     "text": [
      "[CV]  alpha=0.026366508987303583, l1_ratio=0.0, score=-11.015843945725294, total=   0.0s\n",
      "[CV] alpha=0.026366508987303583, l1_ratio=0.0 ........................\n"
     ]
    },
    {
     "name": "stderr",
     "output_type": "stream",
     "text": [
      "D:\\Anaconda\\lib\\site-packages\\sklearn\\linear_model\\coordinate_descent.py:492: ConvergenceWarning: Objective did not converge. You might want to increase the number of iterations. Fitting data with very small alpha may cause precision problems.\n",
      "  ConvergenceWarning)\n"
     ]
    },
    {
     "name": "stdout",
     "output_type": "stream",
     "text": [
      "[CV]  alpha=0.026366508987303583, l1_ratio=0.0, score=-8.845339176056171, total=   0.0s\n",
      "[CV] alpha=0.026366508987303583, l1_ratio=0.0 ........................\n"
     ]
    },
    {
     "name": "stderr",
     "output_type": "stream",
     "text": [
      "D:\\Anaconda\\lib\\site-packages\\sklearn\\linear_model\\coordinate_descent.py:492: ConvergenceWarning: Objective did not converge. You might want to increase the number of iterations. Fitting data with very small alpha may cause precision problems.\n",
      "  ConvergenceWarning)\n"
     ]
    },
    {
     "name": "stdout",
     "output_type": "stream",
     "text": [
      "[CV]  alpha=0.026366508987303583, l1_ratio=0.0, score=-7.496342075474879, total=   0.0s\n",
      "[CV] alpha=0.026366508987303583, l1_ratio=0.0 ........................\n"
     ]
    },
    {
     "name": "stderr",
     "output_type": "stream",
     "text": [
      "D:\\Anaconda\\lib\\site-packages\\sklearn\\linear_model\\coordinate_descent.py:492: ConvergenceWarning: Objective did not converge. You might want to increase the number of iterations. Fitting data with very small alpha may cause precision problems.\n",
      "  ConvergenceWarning)\n"
     ]
    },
    {
     "name": "stdout",
     "output_type": "stream",
     "text": [
      "[CV]  alpha=0.026366508987303583, l1_ratio=0.0, score=-10.549605027355698, total=   0.0s\n",
      "[CV] alpha=0.026366508987303583, l1_ratio=0.25 .......................\n",
      "[CV]  alpha=0.026366508987303583, l1_ratio=0.25, score=-8.575766584187551, total=   0.0s\n",
      "[CV] alpha=0.026366508987303583, l1_ratio=0.25 .......................\n",
      "[CV]  alpha=0.026366508987303583, l1_ratio=0.25, score=-10.997671279550486, total=   0.0s\n",
      "[CV] alpha=0.026366508987303583, l1_ratio=0.25 .......................\n",
      "[CV]  alpha=0.026366508987303583, l1_ratio=0.25, score=-8.846558924796364, total=   0.0s\n",
      "[CV] alpha=0.026366508987303583, l1_ratio=0.25 .......................\n",
      "[CV]  alpha=0.026366508987303583, l1_ratio=0.25, score=-7.496178213086047, total=   0.0s\n",
      "[CV] alpha=0.026366508987303583, l1_ratio=0.25 .......................\n",
      "[CV]  alpha=0.026366508987303583, l1_ratio=0.25, score=-10.580516913607594, total=   0.0s\n",
      "[CV] alpha=0.026366508987303583, l1_ratio=0.5 ........................\n",
      "[CV]  alpha=0.026366508987303583, l1_ratio=0.5, score=-8.591730210887967, total=   0.0s\n",
      "[CV] alpha=0.026366508987303583, l1_ratio=0.5 ........................\n",
      "[CV]  alpha=0.026366508987303583, l1_ratio=0.5, score=-10.979550243096622, total=   0.0s\n",
      "[CV] alpha=0.026366508987303583, l1_ratio=0.5 ........................\n",
      "[CV]  alpha=0.026366508987303583, l1_ratio=0.5, score=-8.84924321550818, total=   0.0s\n",
      "[CV] alpha=0.026366508987303583, l1_ratio=0.5 ........................\n",
      "[CV]  alpha=0.026366508987303583, l1_ratio=0.5, score=-7.488052660797355, total=   0.0s\n",
      "[CV] alpha=0.026366508987303583, l1_ratio=0.5 ........................\n",
      "[CV]  alpha=0.026366508987303583, l1_ratio=0.5, score=-10.618541421498088, total=   0.0s\n",
      "[CV] alpha=0.026366508987303583, l1_ratio=0.75 .......................\n",
      "[CV]  alpha=0.026366508987303583, l1_ratio=0.75, score=-8.61239624893394, total=   0.0s\n",
      "[CV] alpha=0.026366508987303583, l1_ratio=0.75 .......................\n",
      "[CV]  alpha=0.026366508987303583, l1_ratio=0.75, score=-10.957968110201659, total=   0.0s\n",
      "[CV] alpha=0.026366508987303583, l1_ratio=0.75 .......................\n",
      "[CV]  alpha=0.026366508987303583, l1_ratio=0.75, score=-8.852917109605825, total=   0.0s\n",
      "[CV] alpha=0.026366508987303583, l1_ratio=0.75 .......................\n",
      "[CV]  alpha=0.026366508987303583, l1_ratio=0.75, score=-7.479242677717016, total=   0.0s\n",
      "[CV] alpha=0.026366508987303583, l1_ratio=0.75 .......................\n",
      "[CV]  alpha=0.026366508987303583, l1_ratio=0.75, score=-10.665502817076478, total=   0.0s\n",
      "[CV] alpha=0.026366508987303583, l1_ratio=1.0 ........................\n",
      "[CV]  alpha=0.026366508987303583, l1_ratio=1.0, score=-8.635135857221742, total=   0.0s\n",
      "[CV] alpha=0.026366508987303583, l1_ratio=1.0 ........................\n",
      "[CV]  alpha=0.026366508987303583, l1_ratio=1.0, score=-10.93279958877297, total=   0.0s\n",
      "[CV] alpha=0.026366508987303583, l1_ratio=1.0 ........................\n",
      "[CV]  alpha=0.026366508987303583, l1_ratio=1.0, score=-8.867925918234315, total=   0.0s\n",
      "[CV] alpha=0.026366508987303583, l1_ratio=1.0 ........................\n",
      "[CV]  alpha=0.026366508987303583, l1_ratio=1.0, score=-7.470142436680752, total=   0.0s\n",
      "[CV] alpha=0.026366508987303583, l1_ratio=1.0 ........................\n",
      "[CV]  alpha=0.026366508987303583, l1_ratio=1.0, score=-10.740173077582131, total=   0.0s\n",
      "[CV] alpha=0.0379269019073225, l1_ratio=0.0 ..........................\n"
     ]
    },
    {
     "name": "stderr",
     "output_type": "stream",
     "text": [
      "D:\\Anaconda\\lib\\site-packages\\sklearn\\linear_model\\coordinate_descent.py:492: ConvergenceWarning: Objective did not converge. You might want to increase the number of iterations. Fitting data with very small alpha may cause precision problems.\n",
      "  ConvergenceWarning)\n"
     ]
    },
    {
     "name": "stdout",
     "output_type": "stream",
     "text": [
      "[CV]  alpha=0.0379269019073225, l1_ratio=0.0, score=-8.506333137023598, total=   0.0s\n",
      "[CV] alpha=0.0379269019073225, l1_ratio=0.0 ..........................\n"
     ]
    },
    {
     "name": "stderr",
     "output_type": "stream",
     "text": [
      "D:\\Anaconda\\lib\\site-packages\\sklearn\\linear_model\\coordinate_descent.py:492: ConvergenceWarning: Objective did not converge. You might want to increase the number of iterations. Fitting data with very small alpha may cause precision problems.\n",
      "  ConvergenceWarning)\n"
     ]
    },
    {
     "name": "stdout",
     "output_type": "stream",
     "text": [
      "[CV]  alpha=0.0379269019073225, l1_ratio=0.0, score=-11.028607442742015, total=   0.0s\n",
      "[CV] alpha=0.0379269019073225, l1_ratio=0.0 ..........................\n"
     ]
    },
    {
     "name": "stderr",
     "output_type": "stream",
     "text": [
      "D:\\Anaconda\\lib\\site-packages\\sklearn\\linear_model\\coordinate_descent.py:492: ConvergenceWarning: Objective did not converge. You might want to increase the number of iterations. Fitting data with very small alpha may cause precision problems.\n",
      "  ConvergenceWarning)\n"
     ]
    },
    {
     "name": "stdout",
     "output_type": "stream",
     "text": [
      "[CV]  alpha=0.0379269019073225, l1_ratio=0.0, score=-8.815907365413118, total=   0.0s\n",
      "[CV] alpha=0.0379269019073225, l1_ratio=0.0 ..........................\n"
     ]
    },
    {
     "name": "stderr",
     "output_type": "stream",
     "text": [
      "D:\\Anaconda\\lib\\site-packages\\sklearn\\linear_model\\coordinate_descent.py:492: ConvergenceWarning: Objective did not converge. You might want to increase the number of iterations. Fitting data with very small alpha may cause precision problems.\n",
      "  ConvergenceWarning)\n"
     ]
    },
    {
     "name": "stdout",
     "output_type": "stream",
     "text": [
      "[CV]  alpha=0.0379269019073225, l1_ratio=0.0, score=-7.5470816949896795, total=   0.0s\n",
      "[CV] alpha=0.0379269019073225, l1_ratio=0.0 ..........................\n"
     ]
    },
    {
     "name": "stderr",
     "output_type": "stream",
     "text": [
      "D:\\Anaconda\\lib\\site-packages\\sklearn\\linear_model\\coordinate_descent.py:492: ConvergenceWarning: Objective did not converge. You might want to increase the number of iterations. Fitting data with very small alpha may cause precision problems.\n",
      "  ConvergenceWarning)\n"
     ]
    },
    {
     "name": "stdout",
     "output_type": "stream",
     "text": [
      "[CV]  alpha=0.0379269019073225, l1_ratio=0.0, score=-10.416591226330413, total=   0.0s\n",
      "[CV] alpha=0.0379269019073225, l1_ratio=0.25 .........................\n",
      "[CV]  alpha=0.0379269019073225, l1_ratio=0.25, score=-8.523173295269405, total=   0.0s\n",
      "[CV] alpha=0.0379269019073225, l1_ratio=0.25 .........................\n",
      "[CV]  alpha=0.0379269019073225, l1_ratio=0.25, score=-11.006454093193415, total=   0.0s\n",
      "[CV] alpha=0.0379269019073225, l1_ratio=0.25 .........................\n",
      "[CV]  alpha=0.0379269019073225, l1_ratio=0.25, score=-8.816674368343094, total=   0.0s\n",
      "[CV] alpha=0.0379269019073225, l1_ratio=0.25 .........................\n",
      "[CV]  alpha=0.0379269019073225, l1_ratio=0.25, score=-7.5264483026637405, total=   0.0s\n",
      "[CV] alpha=0.0379269019073225, l1_ratio=0.25 .........................\n",
      "[CV]  alpha=0.0379269019073225, l1_ratio=0.25, score=-10.444642544644298, total=   0.0s\n",
      "[CV] alpha=0.0379269019073225, l1_ratio=0.5 ..........................\n",
      "[CV]  alpha=0.0379269019073225, l1_ratio=0.5, score=-8.542688074231673, total=   0.0s\n",
      "[CV] alpha=0.0379269019073225, l1_ratio=0.5 ..........................\n",
      "[CV]  alpha=0.0379269019073225, l1_ratio=0.5, score=-10.983471581235738, total=   0.0s\n",
      "[CV] alpha=0.0379269019073225, l1_ratio=0.5 ..........................\n",
      "[CV]  alpha=0.0379269019073225, l1_ratio=0.5, score=-8.819610355858691, total=   0.0s\n",
      "[CV] alpha=0.0379269019073225, l1_ratio=0.5 ..........................\n",
      "[CV]  alpha=0.0379269019073225, l1_ratio=0.5, score=-7.516875459898285, total=   0.0s\n",
      "[CV] alpha=0.0379269019073225, l1_ratio=0.5 ..........................\n",
      "[CV]  alpha=0.0379269019073225, l1_ratio=0.5, score=-10.482403226755833, total=   0.0s\n",
      "[CV] alpha=0.0379269019073225, l1_ratio=0.75 .........................\n",
      "[CV]  alpha=0.0379269019073225, l1_ratio=0.75, score=-8.569578878401183, total=   0.0s\n",
      "[CV] alpha=0.0379269019073225, l1_ratio=0.75 .........................\n",
      "[CV]  alpha=0.0379269019073225, l1_ratio=0.75, score=-10.956504199508066, total=   0.0s\n",
      "[CV] alpha=0.0379269019073225, l1_ratio=0.75 .........................\n",
      "[CV]  alpha=0.0379269019073225, l1_ratio=0.75, score=-8.823715304270644, total=   0.0s\n",
      "[CV] alpha=0.0379269019073225, l1_ratio=0.75 .........................\n",
      "[CV]  alpha=0.0379269019073225, l1_ratio=0.75, score=-7.506636439202444, total=   0.0s\n",
      "[CV] alpha=0.0379269019073225, l1_ratio=0.75 .........................\n",
      "[CV]  alpha=0.0379269019073225, l1_ratio=0.75, score=-10.542712254028922, total=   0.0s\n",
      "[CV] alpha=0.0379269019073225, l1_ratio=1.0 ..........................\n",
      "[CV]  alpha=0.0379269019073225, l1_ratio=1.0, score=-8.59883843463841, total=   0.0s\n",
      "[CV] alpha=0.0379269019073225, l1_ratio=1.0 ..........................\n",
      "[CV]  alpha=0.0379269019073225, l1_ratio=1.0, score=-10.92132908996252, total=   0.0s\n",
      "[CV] alpha=0.0379269019073225, l1_ratio=1.0 ..........................\n",
      "[CV]  alpha=0.0379269019073225, l1_ratio=1.0, score=-8.840164822659611, total=   0.0s\n",
      "[CV] alpha=0.0379269019073225, l1_ratio=1.0 ..........................\n",
      "[CV]  alpha=0.0379269019073225, l1_ratio=1.0, score=-7.495393437369255, total=   0.0s\n",
      "[CV] alpha=0.0379269019073225, l1_ratio=1.0 ..........................\n",
      "[CV]  alpha=0.0379269019073225, l1_ratio=1.0, score=-10.629379586033059, total=   0.0s\n",
      "[CV] alpha=0.05455594781168517, l1_ratio=0.0 .........................\n"
     ]
    },
    {
     "name": "stderr",
     "output_type": "stream",
     "text": [
      "D:\\Anaconda\\lib\\site-packages\\sklearn\\linear_model\\coordinate_descent.py:492: ConvergenceWarning: Objective did not converge. You might want to increase the number of iterations. Fitting data with very small alpha may cause precision problems.\n",
      "  ConvergenceWarning)\n"
     ]
    },
    {
     "name": "stdout",
     "output_type": "stream",
     "text": [
      "[CV]  alpha=0.05455594781168517, l1_ratio=0.0, score=-8.438429284956241, total=   0.0s\n",
      "[CV] alpha=0.05455594781168517, l1_ratio=0.0 .........................\n"
     ]
    },
    {
     "name": "stderr",
     "output_type": "stream",
     "text": [
      "D:\\Anaconda\\lib\\site-packages\\sklearn\\linear_model\\coordinate_descent.py:492: ConvergenceWarning: Objective did not converge. You might want to increase the number of iterations. Fitting data with very small alpha may cause precision problems.\n",
      "  ConvergenceWarning)\n"
     ]
    },
    {
     "name": "stdout",
     "output_type": "stream",
     "text": [
      "[CV]  alpha=0.05455594781168517, l1_ratio=0.0, score=-11.04233063390448, total=   0.0s\n",
      "[CV] alpha=0.05455594781168517, l1_ratio=0.0 .........................\n"
     ]
    },
    {
     "name": "stderr",
     "output_type": "stream",
     "text": [
      "D:\\Anaconda\\lib\\site-packages\\sklearn\\linear_model\\coordinate_descent.py:492: ConvergenceWarning: Objective did not converge. You might want to increase the number of iterations. Fitting data with very small alpha may cause precision problems.\n",
      "  ConvergenceWarning)\n"
     ]
    },
    {
     "name": "stdout",
     "output_type": "stream",
     "text": [
      "[CV]  alpha=0.05455594781168517, l1_ratio=0.0, score=-8.774993460667977, total=   0.0s\n",
      "[CV] alpha=0.05455594781168517, l1_ratio=0.0 .........................\n"
     ]
    },
    {
     "name": "stderr",
     "output_type": "stream",
     "text": [
      "D:\\Anaconda\\lib\\site-packages\\sklearn\\linear_model\\coordinate_descent.py:492: ConvergenceWarning: Objective did not converge. You might want to increase the number of iterations. Fitting data with very small alpha may cause precision problems.\n",
      "  ConvergenceWarning)\n"
     ]
    },
    {
     "name": "stdout",
     "output_type": "stream",
     "text": [
      "[CV]  alpha=0.05455594781168517, l1_ratio=0.0, score=-7.602254391181265, total=   0.0s\n",
      "[CV] alpha=0.05455594781168517, l1_ratio=0.0 .........................\n"
     ]
    },
    {
     "name": "stderr",
     "output_type": "stream",
     "text": [
      "D:\\Anaconda\\lib\\site-packages\\sklearn\\linear_model\\coordinate_descent.py:492: ConvergenceWarning: Objective did not converge. You might want to increase the number of iterations. Fitting data with very small alpha may cause precision problems.\n",
      "  ConvergenceWarning)\n"
     ]
    },
    {
     "name": "stdout",
     "output_type": "stream",
     "text": [
      "[CV]  alpha=0.05455594781168517, l1_ratio=0.0, score=-10.263682138150193, total=   0.0s\n",
      "[CV] alpha=0.05455594781168517, l1_ratio=0.25 ........................\n",
      "[CV]  alpha=0.05455594781168517, l1_ratio=0.25, score=-8.456543969509303, total=   0.0s\n",
      "[CV] alpha=0.05455594781168517, l1_ratio=0.25 ........................\n",
      "[CV]  alpha=0.05455594781168517, l1_ratio=0.25, score=-11.012815072708987, total=   0.0s\n",
      "[CV] alpha=0.05455594781168517, l1_ratio=0.25 ........................\n",
      "[CV]  alpha=0.05455594781168517, l1_ratio=0.25, score=-8.774230242716891, total=   0.0s\n",
      "[CV] alpha=0.05455594781168517, l1_ratio=0.25 ........................\n",
      "[CV]  alpha=0.05455594781168517, l1_ratio=0.25, score=-7.579650182521893, total=   0.0s\n",
      "[CV] alpha=0.05455594781168517, l1_ratio=0.25 ........................\n",
      "[CV]  alpha=0.05455594781168517, l1_ratio=0.25, score=-10.28116193983275, total=   0.0s\n",
      "[CV] alpha=0.05455594781168517, l1_ratio=0.5 .........................\n",
      "[CV]  alpha=0.05455594781168517, l1_ratio=0.5, score=-8.479901668916801, total=   0.0s\n",
      "[CV] alpha=0.05455594781168517, l1_ratio=0.5 .........................\n",
      "[CV]  alpha=0.05455594781168517, l1_ratio=0.5, score=-10.982841664964834, total=   0.0s\n",
      "[CV] alpha=0.05455594781168517, l1_ratio=0.5 .........................\n",
      "[CV]  alpha=0.05455594781168517, l1_ratio=0.5, score=-8.777419571076326, total=   0.0s\n",
      "[CV] alpha=0.05455594781168517, l1_ratio=0.5 .........................\n",
      "[CV]  alpha=0.05455594781168517, l1_ratio=0.5, score=-7.556587349667, total=   0.0s\n",
      "[CV] alpha=0.05455594781168517, l1_ratio=0.5 .........................\n",
      "[CV]  alpha=0.05455594781168517, l1_ratio=0.5, score=-10.306613613045524, total=   0.0s\n",
      "[CV] alpha=0.05455594781168517, l1_ratio=0.75 ........................\n",
      "[CV]  alpha=0.05455594781168517, l1_ratio=0.75, score=-8.513985509744826, total=   0.0s\n",
      "[CV] alpha=0.05455594781168517, l1_ratio=0.75 ........................\n",
      "[CV]  alpha=0.05455594781168517, l1_ratio=0.75, score=-10.952122308252573, total=   0.0s\n",
      "[CV] alpha=0.05455594781168517, l1_ratio=0.75 ........................\n",
      "[CV]  alpha=0.05455594781168517, l1_ratio=0.75, score=-8.782258612668628, total=   0.0s\n",
      "[CV] alpha=0.05455594781168517, l1_ratio=0.75 ........................\n",
      "[CV]  alpha=0.05455594781168517, l1_ratio=0.75, score=-7.545239916911247, total=   0.0s\n",
      "[CV] alpha=0.05455594781168517, l1_ratio=0.75 ........................\n",
      "[CV]  alpha=0.05455594781168517, l1_ratio=0.75, score=-10.376176746639274, total=   0.0s\n",
      "[CV] alpha=0.05455594781168517, l1_ratio=1.0 .........................\n",
      "[CV]  alpha=0.05455594781168517, l1_ratio=1.0, score=-8.5501091945966, total=   0.0s\n",
      "[CV] alpha=0.05455594781168517, l1_ratio=1.0 .........................\n",
      "[CV]  alpha=0.05455594781168517, l1_ratio=1.0, score=-10.920738240337574, total=   0.0s\n",
      "[CV] alpha=0.05455594781168517, l1_ratio=1.0 .........................\n",
      "[CV]  alpha=0.05455594781168517, l1_ratio=1.0, score=-8.800164986910083, total=   0.0s\n",
      "[CV] alpha=0.05455594781168517, l1_ratio=1.0 .........................\n",
      "[CV]  alpha=0.05455594781168517, l1_ratio=1.0, score=-7.533249873629015, total=   0.0s\n",
      "[CV] alpha=0.05455594781168517, l1_ratio=1.0 .........................\n",
      "[CV]  alpha=0.05455594781168517, l1_ratio=1.0, score=-10.481381542636615, total=   0.0s\n",
      "[CV] alpha=0.07847599703514611, l1_ratio=0.0 .........................\n"
     ]
    },
    {
     "name": "stderr",
     "output_type": "stream",
     "text": [
      "D:\\Anaconda\\lib\\site-packages\\sklearn\\linear_model\\coordinate_descent.py:492: ConvergenceWarning: Objective did not converge. You might want to increase the number of iterations. Fitting data with very small alpha may cause precision problems.\n",
      "  ConvergenceWarning)\n"
     ]
    },
    {
     "name": "stdout",
     "output_type": "stream",
     "text": [
      "[CV]  alpha=0.07847599703514611, l1_ratio=0.0, score=-8.358738985146474, total=   0.0s\n",
      "[CV] alpha=0.07847599703514611, l1_ratio=0.0 .........................\n"
     ]
    },
    {
     "name": "stderr",
     "output_type": "stream",
     "text": [
      "D:\\Anaconda\\lib\\site-packages\\sklearn\\linear_model\\coordinate_descent.py:492: ConvergenceWarning: Objective did not converge. You might want to increase the number of iterations. Fitting data with very small alpha may cause precision problems.\n",
      "  ConvergenceWarning)\n"
     ]
    },
    {
     "name": "stdout",
     "output_type": "stream",
     "text": [
      "[CV]  alpha=0.07847599703514611, l1_ratio=0.0, score=-11.05817210613721, total=   0.0s\n",
      "[CV] alpha=0.07847599703514611, l1_ratio=0.0 .........................\n"
     ]
    },
    {
     "name": "stderr",
     "output_type": "stream",
     "text": [
      "D:\\Anaconda\\lib\\site-packages\\sklearn\\linear_model\\coordinate_descent.py:492: ConvergenceWarning: Objective did not converge. You might want to increase the number of iterations. Fitting data with very small alpha may cause precision problems.\n",
      "  ConvergenceWarning)\n"
     ]
    },
    {
     "name": "stdout",
     "output_type": "stream",
     "text": [
      "[CV]  alpha=0.07847599703514611, l1_ratio=0.0, score=-8.718547614161455, total=   0.0s\n",
      "[CV] alpha=0.07847599703514611, l1_ratio=0.0 .........................\n"
     ]
    },
    {
     "name": "stderr",
     "output_type": "stream",
     "text": [
      "D:\\Anaconda\\lib\\site-packages\\sklearn\\linear_model\\coordinate_descent.py:492: ConvergenceWarning: Objective did not converge. You might want to increase the number of iterations. Fitting data with very small alpha may cause precision problems.\n",
      "  ConvergenceWarning)\n"
     ]
    },
    {
     "name": "stdout",
     "output_type": "stream",
     "text": [
      "[CV]  alpha=0.07847599703514611, l1_ratio=0.0, score=-7.662542226284232, total=   0.0s\n",
      "[CV] alpha=0.07847599703514611, l1_ratio=0.0 .........................\n"
     ]
    },
    {
     "name": "stderr",
     "output_type": "stream",
     "text": [
      "D:\\Anaconda\\lib\\site-packages\\sklearn\\linear_model\\coordinate_descent.py:492: ConvergenceWarning: Objective did not converge. You might want to increase the number of iterations. Fitting data with very small alpha may cause precision problems.\n",
      "  ConvergenceWarning)\n"
     ]
    },
    {
     "name": "stdout",
     "output_type": "stream",
     "text": [
      "[CV]  alpha=0.07847599703514611, l1_ratio=0.0, score=-10.102967735647855, total=   0.0s\n",
      "[CV] alpha=0.07847599703514611, l1_ratio=0.25 ........................\n",
      "[CV]  alpha=0.07847599703514611, l1_ratio=0.25, score=-8.377920711194, total=   0.0s\n",
      "[CV] alpha=0.07847599703514611, l1_ratio=0.25 ........................\n",
      "[CV]  alpha=0.07847599703514611, l1_ratio=0.25, score=-11.022182855205234, total=   0.0s\n",
      "[CV] alpha=0.07847599703514611, l1_ratio=0.25 ........................\n",
      "[CV]  alpha=0.07847599703514611, l1_ratio=0.25, score=-8.715411109614724, total=   0.0s\n",
      "[CV] alpha=0.07847599703514611, l1_ratio=0.25 ........................\n",
      "[CV]  alpha=0.07847599703514611, l1_ratio=0.25, score=-7.639885479885796, total=   0.0s\n",
      "[CV] alpha=0.07847599703514611, l1_ratio=0.25 ........................\n",
      "[CV]  alpha=0.07847599703514611, l1_ratio=0.25, score=-10.104579465893465, total=   0.0s\n",
      "[CV] alpha=0.07847599703514611, l1_ratio=0.5 .........................\n",
      "[CV]  alpha=0.07847599703514611, l1_ratio=0.5, score=-8.402460992822226, total=   0.0s\n",
      "[CV] alpha=0.07847599703514611, l1_ratio=0.5 .........................\n",
      "[CV]  alpha=0.07847599703514611, l1_ratio=0.5, score=-10.983876335202995, total=   0.0s\n",
      "[CV] alpha=0.07847599703514611, l1_ratio=0.5 .........................\n",
      "[CV]  alpha=0.07847599703514611, l1_ratio=0.5, score=-8.717742475401497, total=   0.0s\n",
      "[CV] alpha=0.07847599703514611, l1_ratio=0.5 .........................\n",
      "[CV]  alpha=0.07847599703514611, l1_ratio=0.5, score=-7.61500903866494, total=   0.0s\n",
      "[CV] alpha=0.07847599703514611, l1_ratio=0.5 .........................\n",
      "[CV]  alpha=0.07847599703514611, l1_ratio=0.5, score=-10.108259690574886, total=   0.0s\n",
      "[CV] alpha=0.07847599703514611, l1_ratio=0.75 ........................\n",
      "[CV]  alpha=0.07847599703514611, l1_ratio=0.75, score=-8.432474987051096, total=   0.0s\n",
      "[CV] alpha=0.07847599703514611, l1_ratio=0.75 ........................\n",
      "[CV]  alpha=0.07847599703514611, l1_ratio=0.75, score=-10.944300495836561, total=   0.0s\n",
      "[CV] alpha=0.07847599703514611, l1_ratio=0.75 ........................\n",
      "[CV]  alpha=0.07847599703514611, l1_ratio=0.75, score=-8.72283394155139, total=   0.0s\n",
      "[CV] alpha=0.07847599703514611, l1_ratio=0.75 ........................\n",
      "[CV]  alpha=0.07847599703514611, l1_ratio=0.75, score=-7.594607631538342, total=   0.0s\n",
      "[CV] alpha=0.07847599703514611, l1_ratio=0.75 ........................\n",
      "[CV]  alpha=0.07847599703514611, l1_ratio=0.75, score=-10.169758433004377, total=   0.0s\n",
      "[CV] alpha=0.07847599703514611, l1_ratio=1.0 .........................\n",
      "[CV]  alpha=0.07847599703514611, l1_ratio=1.0, score=-8.471576149652554, total=   0.0s\n",
      "[CV] alpha=0.07847599703514611, l1_ratio=1.0 .........................\n",
      "[CV]  alpha=0.07847599703514611, l1_ratio=1.0, score=-10.897684996883655, total=   0.0s\n",
      "[CV] alpha=0.07847599703514611, l1_ratio=1.0 .........................\n",
      "[CV]  alpha=0.07847599703514611, l1_ratio=1.0, score=-8.742576887858132, total=   0.0s\n",
      "[CV] alpha=0.07847599703514611, l1_ratio=1.0 .........................\n",
      "[CV]  alpha=0.07847599703514611, l1_ratio=1.0, score=-7.587857588704708, total=   0.0s\n",
      "[CV] alpha=0.07847599703514611, l1_ratio=1.0 .........................\n",
      "[CV]  alpha=0.07847599703514611, l1_ratio=1.0, score=-10.31058613896101, total=   0.0s\n",
      "[CV] alpha=0.11288378916846883, l1_ratio=0.0 .........................\n"
     ]
    },
    {
     "name": "stderr",
     "output_type": "stream",
     "text": [
      "D:\\Anaconda\\lib\\site-packages\\sklearn\\linear_model\\coordinate_descent.py:492: ConvergenceWarning: Objective did not converge. You might want to increase the number of iterations. Fitting data with very small alpha may cause precision problems.\n",
      "  ConvergenceWarning)\n"
     ]
    },
    {
     "name": "stdout",
     "output_type": "stream",
     "text": [
      "[CV]  alpha=0.11288378916846883, l1_ratio=0.0, score=-8.263923848035077, total=   0.0s\n",
      "[CV] alpha=0.11288378916846883, l1_ratio=0.0 .........................\n"
     ]
    },
    {
     "name": "stderr",
     "output_type": "stream",
     "text": [
      "D:\\Anaconda\\lib\\site-packages\\sklearn\\linear_model\\coordinate_descent.py:492: ConvergenceWarning: Objective did not converge. You might want to increase the number of iterations. Fitting data with very small alpha may cause precision problems.\n",
      "  ConvergenceWarning)\n"
     ]
    },
    {
     "name": "stdout",
     "output_type": "stream",
     "text": [
      "[CV]  alpha=0.11288378916846883, l1_ratio=0.0, score=-11.080091526114348, total=   0.0s\n",
      "[CV] alpha=0.11288378916846883, l1_ratio=0.0 .........................\n"
     ]
    },
    {
     "name": "stderr",
     "output_type": "stream",
     "text": [
      "D:\\Anaconda\\lib\\site-packages\\sklearn\\linear_model\\coordinate_descent.py:492: ConvergenceWarning: Objective did not converge. You might want to increase the number of iterations. Fitting data with very small alpha may cause precision problems.\n",
      "  ConvergenceWarning)\n"
     ]
    },
    {
     "name": "stdout",
     "output_type": "stream",
     "text": [
      "[CV]  alpha=0.11288378916846883, l1_ratio=0.0, score=-8.642200362762713, total=   0.0s\n",
      "[CV] alpha=0.11288378916846883, l1_ratio=0.0 .........................\n"
     ]
    },
    {
     "name": "stderr",
     "output_type": "stream",
     "text": [
      "D:\\Anaconda\\lib\\site-packages\\sklearn\\linear_model\\coordinate_descent.py:492: ConvergenceWarning: Objective did not converge. You might want to increase the number of iterations. Fitting data with very small alpha may cause precision problems.\n",
      "  ConvergenceWarning)\n"
     ]
    },
    {
     "name": "stdout",
     "output_type": "stream",
     "text": [
      "[CV]  alpha=0.11288378916846883, l1_ratio=0.0, score=-7.731016078403951, total=   0.0s\n",
      "[CV] alpha=0.11288378916846883, l1_ratio=0.0 .........................\n"
     ]
    },
    {
     "name": "stderr",
     "output_type": "stream",
     "text": [
      "D:\\Anaconda\\lib\\site-packages\\sklearn\\linear_model\\coordinate_descent.py:492: ConvergenceWarning: Objective did not converge. You might want to increase the number of iterations. Fitting data with very small alpha may cause precision problems.\n",
      "  ConvergenceWarning)\n"
     ]
    },
    {
     "name": "stdout",
     "output_type": "stream",
     "text": [
      "[CV]  alpha=0.11288378916846883, l1_ratio=0.0, score=-9.960486187646564, total=   0.0s\n",
      "[CV] alpha=0.11288378916846883, l1_ratio=0.25 ........................\n",
      "[CV]  alpha=0.11288378916846883, l1_ratio=0.25, score=-8.281875133050546, total=   0.0s\n",
      "[CV] alpha=0.11288378916846883, l1_ratio=0.25 ........................\n",
      "[CV]  alpha=0.11288378916846883, l1_ratio=0.25, score=-11.021590732166194, total=   0.0s\n",
      "[CV] alpha=0.11288378916846883, l1_ratio=0.25 ........................\n",
      "[CV]  alpha=0.11288378916846883, l1_ratio=0.25, score=-8.634314671700121, total=   0.0s\n",
      "[CV] alpha=0.11288378916846883, l1_ratio=0.25 ........................\n",
      "[CV]  alpha=0.11288378916846883, l1_ratio=0.25, score=-7.710981435837691, total=   0.0s\n",
      "[CV] alpha=0.11288378916846883, l1_ratio=0.25 ........................\n",
      "[CV]  alpha=0.11288378916846883, l1_ratio=0.25, score=-9.933207284393504, total=   0.0s\n",
      "[CV] alpha=0.11288378916846883, l1_ratio=0.5 .........................\n",
      "[CV]  alpha=0.11288378916846883, l1_ratio=0.5, score=-8.290832239272001, total=   0.0s\n",
      "[CV] alpha=0.11288378916846883, l1_ratio=0.5 .........................\n",
      "[CV]  alpha=0.11288378916846883, l1_ratio=0.5, score=-10.9909367424097, total=   0.0s\n",
      "[CV] alpha=0.11288378916846883, l1_ratio=0.5 .........................\n",
      "[CV]  alpha=0.11288378916846883, l1_ratio=0.5, score=-8.628900474585281, total=   0.0s\n",
      "[CV] alpha=0.11288378916846883, l1_ratio=0.5 .........................\n",
      "[CV]  alpha=0.11288378916846883, l1_ratio=0.5, score=-7.6864641923056825, total=   0.0s\n",
      "[CV] alpha=0.11288378916846883, l1_ratio=0.5 .........................\n",
      "[CV]  alpha=0.11288378916846883, l1_ratio=0.5, score=-9.918575021735094, total=   0.0s\n",
      "[CV] alpha=0.11288378916846883, l1_ratio=0.75 ........................\n",
      "[CV]  alpha=0.11288378916846883, l1_ratio=0.75, score=-8.32449383733529, total=   0.0s\n",
      "[CV] alpha=0.11288378916846883, l1_ratio=0.75 ........................\n",
      "[CV]  alpha=0.11288378916846883, l1_ratio=0.75, score=-10.944401196407789, total=   0.0s\n",
      "[CV] alpha=0.11288378916846883, l1_ratio=0.75 ........................\n",
      "[CV]  alpha=0.11288378916846883, l1_ratio=0.75, score=-8.636574351210328, total=   0.0s\n",
      "[CV] alpha=0.11288378916846883, l1_ratio=0.75 ........................\n",
      "[CV]  alpha=0.11288378916846883, l1_ratio=0.75, score=-7.658658612232657, total=   0.0s\n",
      "[CV] alpha=0.11288378916846883, l1_ratio=0.75 ........................\n",
      "[CV]  alpha=0.11288378916846883, l1_ratio=0.75, score=-9.960589909793182, total=   0.0s\n",
      "[CV] alpha=0.11288378916846883, l1_ratio=1.0 .........................\n",
      "[CV]  alpha=0.11288378916846883, l1_ratio=1.0, score=-8.37552069631204, total=   0.0s\n",
      "[CV] alpha=0.11288378916846883, l1_ratio=1.0 .........................\n",
      "[CV]  alpha=0.11288378916846883, l1_ratio=1.0, score=-10.909094476200458, total=   0.0s\n",
      "[CV] alpha=0.11288378916846883, l1_ratio=1.0 .........................\n",
      "[CV]  alpha=0.11288378916846883, l1_ratio=1.0, score=-8.660242094584577, total=   0.0s\n",
      "[CV] alpha=0.11288378916846883, l1_ratio=1.0 .........................\n",
      "[CV]  alpha=0.11288378916846883, l1_ratio=1.0, score=-7.65812927377652, total=   0.0s\n",
      "[CV] alpha=0.11288378916846883, l1_ratio=1.0 .........................\n",
      "[CV]  alpha=0.11288378916846883, l1_ratio=1.0, score=-10.101957327147169, total=   0.0s\n",
      "[CV] alpha=0.1623776739188721, l1_ratio=0.0 ..........................\n"
     ]
    },
    {
     "name": "stderr",
     "output_type": "stream",
     "text": [
      "D:\\Anaconda\\lib\\site-packages\\sklearn\\linear_model\\coordinate_descent.py:492: ConvergenceWarning: Objective did not converge. You might want to increase the number of iterations. Fitting data with very small alpha may cause precision problems.\n",
      "  ConvergenceWarning)\n"
     ]
    },
    {
     "name": "stdout",
     "output_type": "stream",
     "text": [
      "[CV]  alpha=0.1623776739188721, l1_ratio=0.0, score=-8.170546656664133, total=   0.0s\n",
      "[CV] alpha=0.1623776739188721, l1_ratio=0.0 ..........................\n"
     ]
    },
    {
     "name": "stderr",
     "output_type": "stream",
     "text": [
      "D:\\Anaconda\\lib\\site-packages\\sklearn\\linear_model\\coordinate_descent.py:492: ConvergenceWarning: Objective did not converge. You might want to increase the number of iterations. Fitting data with very small alpha may cause precision problems.\n",
      "  ConvergenceWarning)\n"
     ]
    },
    {
     "name": "stdout",
     "output_type": "stream",
     "text": [
      "[CV]  alpha=0.1623776739188721, l1_ratio=0.0, score=-11.111806508276132, total=   0.0s\n",
      "[CV] alpha=0.1623776739188721, l1_ratio=0.0 ..........................\n"
     ]
    },
    {
     "name": "stderr",
     "output_type": "stream",
     "text": [
      "D:\\Anaconda\\lib\\site-packages\\sklearn\\linear_model\\coordinate_descent.py:492: ConvergenceWarning: Objective did not converge. You might want to increase the number of iterations. Fitting data with very small alpha may cause precision problems.\n",
      "  ConvergenceWarning)\n"
     ]
    },
    {
     "name": "stdout",
     "output_type": "stream",
     "text": [
      "[CV]  alpha=0.1623776739188721, l1_ratio=0.0, score=-8.542451743763355, total=   0.0s\n",
      "[CV] alpha=0.1623776739188721, l1_ratio=0.0 ..........................\n"
     ]
    },
    {
     "name": "stderr",
     "output_type": "stream",
     "text": [
      "D:\\Anaconda\\lib\\site-packages\\sklearn\\linear_model\\coordinate_descent.py:492: ConvergenceWarning: Objective did not converge. You might want to increase the number of iterations. Fitting data with very small alpha may cause precision problems.\n",
      "  ConvergenceWarning)\n"
     ]
    },
    {
     "name": "stdout",
     "output_type": "stream",
     "text": [
      "[CV]  alpha=0.1623776739188721, l1_ratio=0.0, score=-7.809101073716518, total=   0.0s\n",
      "[CV] alpha=0.1623776739188721, l1_ratio=0.0 ..........................\n"
     ]
    },
    {
     "name": "stderr",
     "output_type": "stream",
     "text": [
      "D:\\Anaconda\\lib\\site-packages\\sklearn\\linear_model\\coordinate_descent.py:492: ConvergenceWarning: Objective did not converge. You might want to increase the number of iterations. Fitting data with very small alpha may cause precision problems.\n",
      "  ConvergenceWarning)\n"
     ]
    },
    {
     "name": "stdout",
     "output_type": "stream",
     "text": [
      "[CV]  alpha=0.1623776739188721, l1_ratio=0.0, score=-9.859548100704716, total=   0.0s\n",
      "[CV] alpha=0.1623776739188721, l1_ratio=0.25 .........................\n",
      "[CV]  alpha=0.1623776739188721, l1_ratio=0.25, score=-8.161803720281572, total=   0.0s\n",
      "[CV] alpha=0.1623776739188721, l1_ratio=0.25 .........................\n",
      "[CV]  alpha=0.1623776739188721, l1_ratio=0.25, score=-11.029782403402782, total=   0.0s\n",
      "[CV] alpha=0.1623776739188721, l1_ratio=0.25 .........................\n",
      "[CV]  alpha=0.1623776739188721, l1_ratio=0.25, score=-8.526604971412208, total=   0.0s\n",
      "[CV] alpha=0.1623776739188721, l1_ratio=0.25 .........................\n",
      "[CV]  alpha=0.1623776739188721, l1_ratio=0.25, score=-7.792046001787932, total=   0.0s\n",
      "[CV] alpha=0.1623776739188721, l1_ratio=0.25 .........................\n",
      "[CV]  alpha=0.1623776739188721, l1_ratio=0.25, score=-9.817787629541701, total=   0.0s\n",
      "[CV] alpha=0.1623776739188721, l1_ratio=0.5 ..........................\n",
      "[CV]  alpha=0.1623776739188721, l1_ratio=0.5, score=-8.155919378508392, total=   0.0s\n",
      "[CV] alpha=0.1623776739188721, l1_ratio=0.5 ..........................\n",
      "[CV]  alpha=0.1623776739188721, l1_ratio=0.5, score=-10.996975960102317, total=   0.0s\n",
      "[CV] alpha=0.1623776739188721, l1_ratio=0.5 ..........................\n",
      "[CV]  alpha=0.1623776739188721, l1_ratio=0.5, score=-8.502295123046919, total=   0.0s\n",
      "[CV] alpha=0.1623776739188721, l1_ratio=0.5 ..........................\n",
      "[CV]  alpha=0.1623776739188721, l1_ratio=0.5, score=-7.773885440355762, total=   0.0s\n",
      "[CV] alpha=0.1623776739188721, l1_ratio=0.5 ..........................\n",
      "[CV]  alpha=0.1623776739188721, l1_ratio=0.5, score=-9.79717799551578, total=   0.0s\n",
      "[CV] alpha=0.1623776739188721, l1_ratio=0.75 .........................\n",
      "[CV]  alpha=0.1623776739188721, l1_ratio=0.75, score=-8.191920793021376, total=   0.0s\n",
      "[CV] alpha=0.1623776739188721, l1_ratio=0.75 .........................\n",
      "[CV]  alpha=0.1623776739188721, l1_ratio=0.75, score=-10.994952282865377, total=   0.0s\n",
      "[CV] alpha=0.1623776739188721, l1_ratio=0.75 .........................\n",
      "[CV]  alpha=0.1623776739188721, l1_ratio=0.75, score=-8.500937332280948, total=   0.0s\n",
      "[CV] alpha=0.1623776739188721, l1_ratio=0.75 .........................\n",
      "[CV]  alpha=0.1623776739188721, l1_ratio=0.75, score=-7.753297222098562, total=   0.0s\n",
      "[CV] alpha=0.1623776739188721, l1_ratio=0.75 .........................\n",
      "[CV]  alpha=0.1623776739188721, l1_ratio=0.75, score=-9.824200770778543, total=   0.0s\n",
      "[CV] alpha=0.1623776739188721, l1_ratio=1.0 ..........................\n",
      "[CV]  alpha=0.1623776739188721, l1_ratio=1.0, score=-8.249671384574704, total=   0.0s\n",
      "[CV] alpha=0.1623776739188721, l1_ratio=1.0 ..........................\n",
      "[CV]  alpha=0.1623776739188721, l1_ratio=1.0, score=-11.012433881965395, total=   0.0s\n",
      "[CV] alpha=0.1623776739188721, l1_ratio=1.0 ..........................\n",
      "[CV]  alpha=0.1623776739188721, l1_ratio=1.0, score=-8.524769759863299, total=   0.0s\n",
      "[CV] alpha=0.1623776739188721, l1_ratio=1.0 ..........................\n",
      "[CV]  alpha=0.1623776739188721, l1_ratio=1.0, score=-7.75471989906023, total=   0.0s\n",
      "[CV] alpha=0.1623776739188721, l1_ratio=1.0 ..........................\n",
      "[CV]  alpha=0.1623776739188721, l1_ratio=1.0, score=-9.902152566155136, total=   0.0s\n",
      "[CV] alpha=0.23357214690901212, l1_ratio=0.0 .........................\n"
     ]
    },
    {
     "name": "stderr",
     "output_type": "stream",
     "text": [
      "D:\\Anaconda\\lib\\site-packages\\sklearn\\linear_model\\coordinate_descent.py:492: ConvergenceWarning: Objective did not converge. You might want to increase the number of iterations. Fitting data with very small alpha may cause precision problems.\n",
      "  ConvergenceWarning)\n"
     ]
    },
    {
     "name": "stdout",
     "output_type": "stream",
     "text": [
      "[CV]  alpha=0.23357214690901212, l1_ratio=0.0, score=-8.082643908711447, total=   0.0s\n",
      "[CV] alpha=0.23357214690901212, l1_ratio=0.0 .........................\n"
     ]
    },
    {
     "name": "stderr",
     "output_type": "stream",
     "text": [
      "D:\\Anaconda\\lib\\site-packages\\sklearn\\linear_model\\coordinate_descent.py:492: ConvergenceWarning: Objective did not converge. You might want to increase the number of iterations. Fitting data with very small alpha may cause precision problems.\n",
      "  ConvergenceWarning)\n"
     ]
    },
    {
     "name": "stdout",
     "output_type": "stream",
     "text": [
      "[CV]  alpha=0.23357214690901212, l1_ratio=0.0, score=-11.15571288565615, total=   0.0s\n",
      "[CV] alpha=0.23357214690901212, l1_ratio=0.0 .........................\n"
     ]
    },
    {
     "name": "stderr",
     "output_type": "stream",
     "text": [
      "D:\\Anaconda\\lib\\site-packages\\sklearn\\linear_model\\coordinate_descent.py:492: ConvergenceWarning: Objective did not converge. You might want to increase the number of iterations. Fitting data with very small alpha may cause precision problems.\n",
      "  ConvergenceWarning)\n"
     ]
    },
    {
     "name": "stdout",
     "output_type": "stream",
     "text": [
      "[CV]  alpha=0.23357214690901212, l1_ratio=0.0, score=-8.418529162742665, total=   0.0s\n",
      "[CV] alpha=0.23357214690901212, l1_ratio=0.0 .........................\n"
     ]
    },
    {
     "name": "stderr",
     "output_type": "stream",
     "text": [
      "D:\\Anaconda\\lib\\site-packages\\sklearn\\linear_model\\coordinate_descent.py:492: ConvergenceWarning: Objective did not converge. You might want to increase the number of iterations. Fitting data with very small alpha may cause precision problems.\n",
      "  ConvergenceWarning)\n"
     ]
    },
    {
     "name": "stdout",
     "output_type": "stream",
     "text": [
      "[CV]  alpha=0.23357214690901212, l1_ratio=0.0, score=-7.896260689265811, total=   0.0s\n",
      "[CV] alpha=0.23357214690901212, l1_ratio=0.0 .........................\n"
     ]
    },
    {
     "name": "stderr",
     "output_type": "stream",
     "text": [
      "D:\\Anaconda\\lib\\site-packages\\sklearn\\linear_model\\coordinate_descent.py:492: ConvergenceWarning: Objective did not converge. You might want to increase the number of iterations. Fitting data with very small alpha may cause precision problems.\n",
      "  ConvergenceWarning)\n"
     ]
    },
    {
     "name": "stdout",
     "output_type": "stream",
     "text": [
      "[CV]  alpha=0.23357214690901212, l1_ratio=0.0, score=-9.814082334981533, total=   0.0s\n",
      "[CV] alpha=0.23357214690901212, l1_ratio=0.25 ........................\n",
      "[CV]  alpha=0.23357214690901212, l1_ratio=0.25, score=-8.03955129662195, total=   0.0s\n",
      "[CV] alpha=0.23357214690901212, l1_ratio=0.25 ........................\n",
      "[CV]  alpha=0.23357214690901212, l1_ratio=0.25, score=-11.062305599780498, total=   0.0s\n",
      "[CV] alpha=0.23357214690901212, l1_ratio=0.25 ........................\n",
      "[CV]  alpha=0.23357214690901212, l1_ratio=0.25, score=-8.394001416817328, total=   0.0s\n",
      "[CV] alpha=0.23357214690901212, l1_ratio=0.25 ........................\n",
      "[CV]  alpha=0.23357214690901212, l1_ratio=0.25, score=-7.886670212513111, total=   0.0s\n",
      "[CV] alpha=0.23357214690901212, l1_ratio=0.25 ........................\n",
      "[CV]  alpha=0.23357214690901212, l1_ratio=0.25, score=-9.78335804602055, total=   0.0s\n",
      "[CV] alpha=0.23357214690901212, l1_ratio=0.5 .........................\n",
      "[CV]  alpha=0.23357214690901212, l1_ratio=0.5, score=-8.021608190072884, total=   0.0s\n",
      "[CV] alpha=0.23357214690901212, l1_ratio=0.5 .........................\n",
      "[CV]  alpha=0.23357214690901212, l1_ratio=0.5, score=-11.045605542905186, total=   0.0s\n",
      "[CV] alpha=0.23357214690901212, l1_ratio=0.5 .........................\n",
      "[CV]  alpha=0.23357214690901212, l1_ratio=0.5, score=-8.35477127318177, total=   0.0s\n",
      "[CV] alpha=0.23357214690901212, l1_ratio=0.5 .........................\n",
      "[CV]  alpha=0.23357214690901212, l1_ratio=0.5, score=-7.877600816217474, total=   0.0s\n",
      "[CV] alpha=0.23357214690901212, l1_ratio=0.5 .........................\n",
      "[CV]  alpha=0.23357214690901212, l1_ratio=0.5, score=-9.785358092878166, total=   0.0s\n",
      "[CV] alpha=0.23357214690901212, l1_ratio=0.75 ........................\n",
      "[CV]  alpha=0.23357214690901212, l1_ratio=0.75, score=-8.042785910561378, total=   0.0s\n",
      "[CV] alpha=0.23357214690901212, l1_ratio=0.75 ........................\n",
      "[CV]  alpha=0.23357214690901212, l1_ratio=0.75, score=-11.091557201167962, total=   0.0s\n",
      "[CV] alpha=0.23357214690901212, l1_ratio=0.75 ........................\n",
      "[CV]  alpha=0.23357214690901212, l1_ratio=0.75, score=-8.315153694172496, total=   0.0s\n",
      "[CV] alpha=0.23357214690901212, l1_ratio=0.75 ........................\n",
      "[CV]  alpha=0.23357214690901212, l1_ratio=0.75, score=-7.875930593062341, total=   0.0s\n",
      "[CV] alpha=0.23357214690901212, l1_ratio=0.75 ........................\n",
      "[CV]  alpha=0.23357214690901212, l1_ratio=0.75, score=-9.813246015649165, total=   0.0s\n",
      "[CV] alpha=0.23357214690901212, l1_ratio=1.0 .........................\n",
      "[CV]  alpha=0.23357214690901212, l1_ratio=1.0, score=-8.085152269502556, total=   0.0s\n",
      "[CV] alpha=0.23357214690901212, l1_ratio=1.0 .........................\n",
      "[CV]  alpha=0.23357214690901212, l1_ratio=1.0, score=-11.121583231288893, total=   0.0s\n",
      "[CV] alpha=0.23357214690901212, l1_ratio=1.0 .........................\n",
      "[CV]  alpha=0.23357214690901212, l1_ratio=1.0, score=-8.320393331955128, total=   0.0s\n",
      "[CV] alpha=0.23357214690901212, l1_ratio=1.0 .........................\n",
      "[CV]  alpha=0.23357214690901212, l1_ratio=1.0, score=-7.9017342620342275, total=   0.0s\n",
      "[CV] alpha=0.23357214690901212, l1_ratio=1.0 .........................\n",
      "[CV]  alpha=0.23357214690901212, l1_ratio=1.0, score=-9.83625934490721, total=   0.0s\n",
      "[CV] alpha=0.3359818286283781, l1_ratio=0.0 ..........................\n"
     ]
    },
    {
     "name": "stderr",
     "output_type": "stream",
     "text": [
      "D:\\Anaconda\\lib\\site-packages\\sklearn\\linear_model\\coordinate_descent.py:492: ConvergenceWarning: Objective did not converge. You might want to increase the number of iterations. Fitting data with very small alpha may cause precision problems.\n",
      "  ConvergenceWarning)\n"
     ]
    },
    {
     "name": "stdout",
     "output_type": "stream",
     "text": [
      "[CV]  alpha=0.3359818286283781, l1_ratio=0.0, score=-7.998233774618096, total=   0.0s\n",
      "[CV] alpha=0.3359818286283781, l1_ratio=0.0 ..........................\n"
     ]
    },
    {
     "name": "stderr",
     "output_type": "stream",
     "text": [
      "D:\\Anaconda\\lib\\site-packages\\sklearn\\linear_model\\coordinate_descent.py:492: ConvergenceWarning: Objective did not converge. You might want to increase the number of iterations. Fitting data with very small alpha may cause precision problems.\n",
      "  ConvergenceWarning)\n"
     ]
    },
    {
     "name": "stdout",
     "output_type": "stream",
     "text": [
      "[CV]  alpha=0.3359818286283781, l1_ratio=0.0, score=-11.221582486008597, total=   0.0s\n",
      "[CV] alpha=0.3359818286283781, l1_ratio=0.0 ..........................\n"
     ]
    },
    {
     "name": "stderr",
     "output_type": "stream",
     "text": [
      "D:\\Anaconda\\lib\\site-packages\\sklearn\\linear_model\\coordinate_descent.py:492: ConvergenceWarning: Objective did not converge. You might want to increase the number of iterations. Fitting data with very small alpha may cause precision problems.\n",
      "  ConvergenceWarning)\n"
     ]
    },
    {
     "name": "stdout",
     "output_type": "stream",
     "text": [
      "[CV]  alpha=0.3359818286283781, l1_ratio=0.0, score=-8.274487431628256, total=   0.0s\n",
      "[CV] alpha=0.3359818286283781, l1_ratio=0.0 ..........................\n"
     ]
    },
    {
     "name": "stderr",
     "output_type": "stream",
     "text": [
      "D:\\Anaconda\\lib\\site-packages\\sklearn\\linear_model\\coordinate_descent.py:492: ConvergenceWarning: Objective did not converge. You might want to increase the number of iterations. Fitting data with very small alpha may cause precision problems.\n",
      "  ConvergenceWarning)\n"
     ]
    },
    {
     "name": "stdout",
     "output_type": "stream",
     "text": [
      "[CV]  alpha=0.3359818286283781, l1_ratio=0.0, score=-7.989313782145395, total=   0.0s\n",
      "[CV] alpha=0.3359818286283781, l1_ratio=0.0 ..........................\n"
     ]
    },
    {
     "name": "stderr",
     "output_type": "stream",
     "text": [
      "D:\\Anaconda\\lib\\site-packages\\sklearn\\linear_model\\coordinate_descent.py:492: ConvergenceWarning: Objective did not converge. You might want to increase the number of iterations. Fitting data with very small alpha may cause precision problems.\n",
      "  ConvergenceWarning)\n"
     ]
    },
    {
     "name": "stdout",
     "output_type": "stream",
     "text": [
      "[CV]  alpha=0.3359818286283781, l1_ratio=0.0, score=-9.805811407503127, total=   0.0s\n",
      "[CV] alpha=0.3359818286283781, l1_ratio=0.25 .........................\n",
      "[CV]  alpha=0.3359818286283781, l1_ratio=0.25, score=-7.92594234413204, total=   0.0s\n",
      "[CV] alpha=0.3359818286283781, l1_ratio=0.25 .........................\n",
      "[CV]  alpha=0.3359818286283781, l1_ratio=0.25, score=-11.119971773585867, total=   0.0s\n",
      "[CV] alpha=0.3359818286283781, l1_ratio=0.25 .........................\n",
      "[CV]  alpha=0.3359818286283781, l1_ratio=0.25, score=-8.216260280088939, total=   0.0s\n",
      "[CV] alpha=0.3359818286283781, l1_ratio=0.25 .........................\n",
      "[CV]  alpha=0.3359818286283781, l1_ratio=0.25, score=-7.994211544871813, total=   0.0s\n",
      "[CV] alpha=0.3359818286283781, l1_ratio=0.25 .........................\n",
      "[CV]  alpha=0.3359818286283781, l1_ratio=0.25, score=-9.789087179352682, total=   0.0s\n",
      "[CV] alpha=0.3359818286283781, l1_ratio=0.5 ..........................\n",
      "[CV]  alpha=0.3359818286283781, l1_ratio=0.5, score=-7.893306156504039, total=   0.0s\n",
      "[CV] alpha=0.3359818286283781, l1_ratio=0.5 ..........................\n",
      "[CV]  alpha=0.3359818286283781, l1_ratio=0.5, score=-11.151047784987252, total=   0.0s\n",
      "[CV] alpha=0.3359818286283781, l1_ratio=0.5 ..........................\n",
      "[CV]  alpha=0.3359818286283781, l1_ratio=0.5, score=-8.14206893617436, total=   0.0s\n",
      "[CV] alpha=0.3359818286283781, l1_ratio=0.5 ..........................\n",
      "[CV]  alpha=0.3359818286283781, l1_ratio=0.5, score=-8.003377379736838, total=   0.0s\n",
      "[CV] alpha=0.3359818286283781, l1_ratio=0.5 ..........................\n",
      "[CV]  alpha=0.3359818286283781, l1_ratio=0.5, score=-9.8182172422039, total=   0.0s\n",
      "[CV] alpha=0.3359818286283781, l1_ratio=0.75 .........................\n",
      "[CV]  alpha=0.3359818286283781, l1_ratio=0.75, score=-7.8747802666623175, total=   0.0s\n",
      "[CV] alpha=0.3359818286283781, l1_ratio=0.75 .........................\n",
      "[CV]  alpha=0.3359818286283781, l1_ratio=0.75, score=-11.19309866952729, total=   0.0s\n",
      "[CV] alpha=0.3359818286283781, l1_ratio=0.75 .........................\n",
      "[CV]  alpha=0.3359818286283781, l1_ratio=0.75, score=-8.054146414909358, total=   0.0s\n",
      "[CV] alpha=0.3359818286283781, l1_ratio=0.75 .........................\n",
      "[CV]  alpha=0.3359818286283781, l1_ratio=0.75, score=-8.049872207066471, total=   0.0s\n",
      "[CV] alpha=0.3359818286283781, l1_ratio=0.75 .........................\n",
      "[CV]  alpha=0.3359818286283781, l1_ratio=0.75, score=-9.866643723613834, total=   0.0s\n",
      "[CV] alpha=0.3359818286283781, l1_ratio=1.0 ..........................\n",
      "[CV]  alpha=0.3359818286283781, l1_ratio=1.0, score=-7.873830938870995, total=   0.0s\n",
      "[CV] alpha=0.3359818286283781, l1_ratio=1.0 ..........................\n",
      "[CV]  alpha=0.3359818286283781, l1_ratio=1.0, score=-11.261194263189568, total=   0.0s\n",
      "[CV] alpha=0.3359818286283781, l1_ratio=1.0 ..........................\n",
      "[CV]  alpha=0.3359818286283781, l1_ratio=1.0, score=-7.965246375345504, total=   0.0s\n",
      "[CV] alpha=0.3359818286283781, l1_ratio=1.0 ..........................\n",
      "[CV]  alpha=0.3359818286283781, l1_ratio=1.0, score=-8.14648158462266, total=   0.0s\n",
      "[CV] alpha=0.3359818286283781, l1_ratio=1.0 ..........................\n",
      "[CV]  alpha=0.3359818286283781, l1_ratio=1.0, score=-9.933316364473615, total=   0.0s\n",
      "[CV] alpha=0.4832930238571752, l1_ratio=0.0 ..........................\n"
     ]
    },
    {
     "name": "stderr",
     "output_type": "stream",
     "text": [
      "D:\\Anaconda\\lib\\site-packages\\sklearn\\linear_model\\coordinate_descent.py:492: ConvergenceWarning: Objective did not converge. You might want to increase the number of iterations. Fitting data with very small alpha may cause precision problems.\n",
      "  ConvergenceWarning)\n"
     ]
    },
    {
     "name": "stdout",
     "output_type": "stream",
     "text": [
      "[CV]  alpha=0.4832930238571752, l1_ratio=0.0, score=-7.918887418413243, total=   0.0s\n",
      "[CV] alpha=0.4832930238571752, l1_ratio=0.0 ..........................\n"
     ]
    },
    {
     "name": "stderr",
     "output_type": "stream",
     "text": [
      "D:\\Anaconda\\lib\\site-packages\\sklearn\\linear_model\\coordinate_descent.py:492: ConvergenceWarning: Objective did not converge. You might want to increase the number of iterations. Fitting data with very small alpha may cause precision problems.\n",
      "  ConvergenceWarning)\n"
     ]
    },
    {
     "name": "stdout",
     "output_type": "stream",
     "text": [
      "[CV]  alpha=0.4832930238571752, l1_ratio=0.0, score=-11.312526715614387, total=   0.0s\n",
      "[CV] alpha=0.4832930238571752, l1_ratio=0.0 ..........................\n"
     ]
    },
    {
     "name": "stderr",
     "output_type": "stream",
     "text": [
      "D:\\Anaconda\\lib\\site-packages\\sklearn\\linear_model\\coordinate_descent.py:492: ConvergenceWarning: Objective did not converge. You might want to increase the number of iterations. Fitting data with very small alpha may cause precision problems.\n",
      "  ConvergenceWarning)\n"
     ]
    },
    {
     "name": "stdout",
     "output_type": "stream",
     "text": [
      "[CV]  alpha=0.4832930238571752, l1_ratio=0.0, score=-8.120682479579468, total=   0.0s\n",
      "[CV] alpha=0.4832930238571752, l1_ratio=0.0 ..........................\n"
     ]
    },
    {
     "name": "stderr",
     "output_type": "stream",
     "text": [
      "D:\\Anaconda\\lib\\site-packages\\sklearn\\linear_model\\coordinate_descent.py:492: ConvergenceWarning: Objective did not converge. You might want to increase the number of iterations. Fitting data with very small alpha may cause precision problems.\n",
      "  ConvergenceWarning)\n"
     ]
    },
    {
     "name": "stdout",
     "output_type": "stream",
     "text": [
      "[CV]  alpha=0.4832930238571752, l1_ratio=0.0, score=-8.085135193622126, total=   0.0s\n",
      "[CV] alpha=0.4832930238571752, l1_ratio=0.0 ..........................\n"
     ]
    },
    {
     "name": "stderr",
     "output_type": "stream",
     "text": [
      "D:\\Anaconda\\lib\\site-packages\\sklearn\\linear_model\\coordinate_descent.py:492: ConvergenceWarning: Objective did not converge. You might want to increase the number of iterations. Fitting data with very small alpha may cause precision problems.\n",
      "  ConvergenceWarning)\n"
     ]
    },
    {
     "name": "stdout",
     "output_type": "stream",
     "text": [
      "[CV]  alpha=0.4832930238571752, l1_ratio=0.0, score=-9.805854211876566, total=   0.0s\n",
      "[CV] alpha=0.4832930238571752, l1_ratio=0.25 .........................\n",
      "[CV]  alpha=0.4832930238571752, l1_ratio=0.25, score=-7.829177086358167, total=   0.0s\n",
      "[CV] alpha=0.4832930238571752, l1_ratio=0.25 .........................\n",
      "[CV]  alpha=0.4832930238571752, l1_ratio=0.25, score=-11.245140672863261, total=   0.0s\n",
      "[CV] alpha=0.4832930238571752, l1_ratio=0.25 .........................\n",
      "[CV]  alpha=0.4832930238571752, l1_ratio=0.25, score=-8.008776098728896, total=   0.0s\n",
      "[CV] alpha=0.4832930238571752, l1_ratio=0.25 .........................\n",
      "[CV]  alpha=0.4832930238571752, l1_ratio=0.25, score=-8.085880734236351, total=   0.0s\n",
      "[CV] alpha=0.4832930238571752, l1_ratio=0.25 .........................\n",
      "[CV]  alpha=0.4832930238571752, l1_ratio=0.25, score=-9.759323878666772, total=   0.0s\n",
      "[CV] alpha=0.4832930238571752, l1_ratio=0.5 ..........................\n",
      "[CV]  alpha=0.4832930238571752, l1_ratio=0.5, score=-7.7617149271317025, total=   0.0s\n",
      "[CV] alpha=0.4832930238571752, l1_ratio=0.5 ..........................\n",
      "[CV]  alpha=0.4832930238571752, l1_ratio=0.5, score=-11.276471801502645, total=   0.0s\n",
      "[CV] alpha=0.4832930238571752, l1_ratio=0.5 ..........................\n",
      "[CV]  alpha=0.4832930238571752, l1_ratio=0.5, score=-7.880431869729663, total=   0.0s\n",
      "[CV] alpha=0.4832930238571752, l1_ratio=0.5 ..........................\n",
      "[CV]  alpha=0.4832930238571752, l1_ratio=0.5, score=-8.120334658332988, total=   0.0s\n",
      "[CV] alpha=0.4832930238571752, l1_ratio=0.5 ..........................\n",
      "[CV]  alpha=0.4832930238571752, l1_ratio=0.5, score=-9.81777532518097, total=   0.0s\n",
      "[CV] alpha=0.4832930238571752, l1_ratio=0.75 .........................\n",
      "[CV]  alpha=0.4832930238571752, l1_ratio=0.75, score=-7.682325604758923, total=   0.0s\n",
      "[CV] alpha=0.4832930238571752, l1_ratio=0.75 .........................\n",
      "[CV]  alpha=0.4832930238571752, l1_ratio=0.75, score=-11.33754102503927, total=   0.0s\n",
      "[CV] alpha=0.4832930238571752, l1_ratio=0.75 .........................\n",
      "[CV]  alpha=0.4832930238571752, l1_ratio=0.75, score=-7.713693491219583, total=   0.0s\n",
      "[CV] alpha=0.4832930238571752, l1_ratio=0.75 .........................\n",
      "[CV]  alpha=0.4832930238571752, l1_ratio=0.75, score=-8.229457188758207, total=   0.0s\n",
      "[CV] alpha=0.4832930238571752, l1_ratio=0.75 .........................\n",
      "[CV]  alpha=0.4832930238571752, l1_ratio=0.75, score=-9.949359897984445, total=   0.0s\n",
      "[CV] alpha=0.4832930238571752, l1_ratio=1.0 ..........................\n",
      "[CV]  alpha=0.4832930238571752, l1_ratio=1.0, score=-7.597589733948512, total=   0.0s\n",
      "[CV] alpha=0.4832930238571752, l1_ratio=1.0 ..........................\n",
      "[CV]  alpha=0.4832930238571752, l1_ratio=1.0, score=-11.307803220241045, total=   0.0s\n",
      "[CV] alpha=0.4832930238571752, l1_ratio=1.0 ..........................\n",
      "[CV]  alpha=0.4832930238571752, l1_ratio=1.0, score=-7.508123066277521, total=   0.0s\n",
      "[CV] alpha=0.4832930238571752, l1_ratio=1.0 ..........................\n",
      "[CV]  alpha=0.4832930238571752, l1_ratio=1.0, score=-8.250212802887894, total=   0.0s\n",
      "[CV] alpha=0.4832930238571752, l1_ratio=1.0 ..........................\n",
      "[CV]  alpha=0.4832930238571752, l1_ratio=1.0, score=-10.053895020306271, total=   0.0s\n",
      "[CV] alpha=0.6951927961775606, l1_ratio=0.0 ..........................\n"
     ]
    },
    {
     "name": "stderr",
     "output_type": "stream",
     "text": [
      "D:\\Anaconda\\lib\\site-packages\\sklearn\\linear_model\\coordinate_descent.py:492: ConvergenceWarning: Objective did not converge. You might want to increase the number of iterations. Fitting data with very small alpha may cause precision problems.\n",
      "  ConvergenceWarning)\n"
     ]
    },
    {
     "name": "stdout",
     "output_type": "stream",
     "text": [
      "[CV]  alpha=0.6951927961775606, l1_ratio=0.0, score=-7.859814360896311, total=   0.0s\n",
      "[CV] alpha=0.6951927961775606, l1_ratio=0.0 ..........................\n"
     ]
    },
    {
     "name": "stderr",
     "output_type": "stream",
     "text": [
      "D:\\Anaconda\\lib\\site-packages\\sklearn\\linear_model\\coordinate_descent.py:492: ConvergenceWarning: Objective did not converge. You might want to increase the number of iterations. Fitting data with very small alpha may cause precision problems.\n",
      "  ConvergenceWarning)\n"
     ]
    },
    {
     "name": "stdout",
     "output_type": "stream",
     "text": [
      "[CV]  alpha=0.6951927961775606, l1_ratio=0.0, score=-11.43437582420368, total=   0.0s\n",
      "[CV] alpha=0.6951927961775606, l1_ratio=0.0 ..........................\n"
     ]
    },
    {
     "name": "stderr",
     "output_type": "stream",
     "text": [
      "D:\\Anaconda\\lib\\site-packages\\sklearn\\linear_model\\coordinate_descent.py:492: ConvergenceWarning: Objective did not converge. You might want to increase the number of iterations. Fitting data with very small alpha may cause precision problems.\n",
      "  ConvergenceWarning)\n"
     ]
    },
    {
     "name": "stdout",
     "output_type": "stream",
     "text": [
      "[CV]  alpha=0.6951927961775606, l1_ratio=0.0, score=-7.9735336262962635, total=   0.0s\n",
      "[CV] alpha=0.6951927961775606, l1_ratio=0.0 ..........................\n"
     ]
    },
    {
     "name": "stderr",
     "output_type": "stream",
     "text": [
      "D:\\Anaconda\\lib\\site-packages\\sklearn\\linear_model\\coordinate_descent.py:492: ConvergenceWarning: Objective did not converge. You might want to increase the number of iterations. Fitting data with very small alpha may cause precision problems.\n",
      "  ConvergenceWarning)\n"
     ]
    },
    {
     "name": "stdout",
     "output_type": "stream",
     "text": [
      "[CV]  alpha=0.6951927961775606, l1_ratio=0.0, score=-8.178481787002763, total=   0.0s\n",
      "[CV] alpha=0.6951927961775606, l1_ratio=0.0 ..........................\n"
     ]
    },
    {
     "name": "stderr",
     "output_type": "stream",
     "text": [
      "D:\\Anaconda\\lib\\site-packages\\sklearn\\linear_model\\coordinate_descent.py:492: ConvergenceWarning: Objective did not converge. You might want to increase the number of iterations. Fitting data with very small alpha may cause precision problems.\n",
      "  ConvergenceWarning)\n"
     ]
    },
    {
     "name": "stdout",
     "output_type": "stream",
     "text": [
      "[CV]  alpha=0.6951927961775606, l1_ratio=0.0, score=-9.817477495147093, total=   0.0s\n",
      "[CV] alpha=0.6951927961775606, l1_ratio=0.25 .........................\n",
      "[CV]  alpha=0.6951927961775606, l1_ratio=0.25, score=-7.752341849099018, total=   0.0s\n",
      "[CV] alpha=0.6951927961775606, l1_ratio=0.25 .........................\n",
      "[CV]  alpha=0.6951927961775606, l1_ratio=0.25, score=-11.395399963404431, total=   0.0s\n",
      "[CV] alpha=0.6951927961775606, l1_ratio=0.25 .........................\n",
      "[CV]  alpha=0.6951927961775606, l1_ratio=0.25, score=-7.807604256460173, total=   0.0s\n",
      "[CV] alpha=0.6951927961775606, l1_ratio=0.25 .........................\n",
      "[CV]  alpha=0.6951927961775606, l1_ratio=0.25, score=-8.16602776154908, total=   0.0s\n",
      "[CV] alpha=0.6951927961775606, l1_ratio=0.25 .........................\n",
      "[CV]  alpha=0.6951927961775606, l1_ratio=0.25, score=-9.803298355077358, total=   0.0s\n",
      "[CV] alpha=0.6951927961775606, l1_ratio=0.5 ..........................\n",
      "[CV]  alpha=0.6951927961775606, l1_ratio=0.5, score=-7.65116515897405, total=   0.0s\n",
      "[CV] alpha=0.6951927961775606, l1_ratio=0.5 ..........................\n",
      "[CV]  alpha=0.6951927961775606, l1_ratio=0.5, score=-11.443165921242974, total=   0.0s\n",
      "[CV] alpha=0.6951927961775606, l1_ratio=0.5 ..........................\n",
      "[CV]  alpha=0.6951927961775606, l1_ratio=0.5, score=-7.591983372045964, total=   0.0s\n",
      "[CV] alpha=0.6951927961775606, l1_ratio=0.5 ..........................\n",
      "[CV]  alpha=0.6951927961775606, l1_ratio=0.5, score=-8.246795914875626, total=   0.0s\n",
      "[CV] alpha=0.6951927961775606, l1_ratio=0.5 ..........................\n",
      "[CV]  alpha=0.6951927961775606, l1_ratio=0.5, score=-9.866859131249512, total=   0.0s\n",
      "[CV] alpha=0.6951927961775606, l1_ratio=0.75 .........................\n",
      "[CV]  alpha=0.6951927961775606, l1_ratio=0.75, score=-7.519420974414839, total=   0.0s\n",
      "[CV] alpha=0.6951927961775606, l1_ratio=0.75 .........................\n",
      "[CV]  alpha=0.6951927961775606, l1_ratio=0.75, score=-11.492613108507536, total=   0.0s\n",
      "[CV] alpha=0.6951927961775606, l1_ratio=0.75 .........................\n",
      "[CV]  alpha=0.6951927961775606, l1_ratio=0.75, score=-7.292621365909937, total=   0.0s\n",
      "[CV] alpha=0.6951927961775606, l1_ratio=0.75 .........................\n",
      "[CV]  alpha=0.6951927961775606, l1_ratio=0.75, score=-8.24160831508574, total=   0.0s\n",
      "[CV] alpha=0.6951927961775606, l1_ratio=0.75 .........................\n",
      "[CV]  alpha=0.6951927961775606, l1_ratio=0.75, score=-9.902972450909841, total=   0.0s\n",
      "[CV] alpha=0.6951927961775606, l1_ratio=1.0 ..........................\n",
      "[CV]  alpha=0.6951927961775606, l1_ratio=1.0, score=-7.355659571437891, total=   0.0s\n",
      "[CV] alpha=0.6951927961775606, l1_ratio=1.0 ..........................\n",
      "[CV]  alpha=0.6951927961775606, l1_ratio=1.0, score=-11.432045649486852, total=   0.0s\n",
      "[CV] alpha=0.6951927961775606, l1_ratio=1.0 ..........................\n",
      "[CV]  alpha=0.6951927961775606, l1_ratio=1.0, score=-6.882260296494078, total=   0.0s\n",
      "[CV] alpha=0.6951927961775606, l1_ratio=1.0 ..........................\n",
      "[CV]  alpha=0.6951927961775606, l1_ratio=1.0, score=-8.252700767435206, total=   0.0s\n",
      "[CV] alpha=0.6951927961775606, l1_ratio=1.0 ..........................\n",
      "[CV]  alpha=0.6951927961775606, l1_ratio=1.0, score=-9.905754070824564, total=   0.0s\n",
      "[CV] alpha=1.0, l1_ratio=0.0 .........................................\n"
     ]
    },
    {
     "name": "stderr",
     "output_type": "stream",
     "text": [
      "D:\\Anaconda\\lib\\site-packages\\sklearn\\linear_model\\coordinate_descent.py:492: ConvergenceWarning: Objective did not converge. You might want to increase the number of iterations. Fitting data with very small alpha may cause precision problems.\n",
      "  ConvergenceWarning)\n"
     ]
    },
    {
     "name": "stdout",
     "output_type": "stream",
     "text": [
      "[CV]  alpha=1.0, l1_ratio=0.0, score=-7.8253948780163265, total=   0.0s\n",
      "[CV] alpha=1.0, l1_ratio=0.0 .........................................\n"
     ]
    },
    {
     "name": "stderr",
     "output_type": "stream",
     "text": [
      "D:\\Anaconda\\lib\\site-packages\\sklearn\\linear_model\\coordinate_descent.py:492: ConvergenceWarning: Objective did not converge. You might want to increase the number of iterations. Fitting data with very small alpha may cause precision problems.\n",
      "  ConvergenceWarning)\n"
     ]
    },
    {
     "name": "stdout",
     "output_type": "stream",
     "text": [
      "[CV]  alpha=1.0, l1_ratio=0.0, score=-11.562257225009736, total=   0.0s\n",
      "[CV] alpha=1.0, l1_ratio=0.0 .........................................\n"
     ]
    },
    {
     "name": "stderr",
     "output_type": "stream",
     "text": [
      "D:\\Anaconda\\lib\\site-packages\\sklearn\\linear_model\\coordinate_descent.py:492: ConvergenceWarning: Objective did not converge. You might want to increase the number of iterations. Fitting data with very small alpha may cause precision problems.\n",
      "  ConvergenceWarning)\n"
     ]
    },
    {
     "name": "stdout",
     "output_type": "stream",
     "text": [
      "[CV]  alpha=1.0, l1_ratio=0.0, score=-7.8541693694558425, total=   0.0s\n",
      "[CV] alpha=1.0, l1_ratio=0.0 .........................................\n"
     ]
    },
    {
     "name": "stderr",
     "output_type": "stream",
     "text": [
      "D:\\Anaconda\\lib\\site-packages\\sklearn\\linear_model\\coordinate_descent.py:492: ConvergenceWarning: Objective did not converge. You might want to increase the number of iterations. Fitting data with very small alpha may cause precision problems.\n",
      "  ConvergenceWarning)\n"
     ]
    },
    {
     "name": "stdout",
     "output_type": "stream",
     "text": [
      "[CV]  alpha=1.0, l1_ratio=0.0, score=-8.265769353446098, total=   0.0s\n",
      "[CV] alpha=1.0, l1_ratio=0.0 .........................................\n"
     ]
    },
    {
     "name": "stderr",
     "output_type": "stream",
     "text": [
      "D:\\Anaconda\\lib\\site-packages\\sklearn\\linear_model\\coordinate_descent.py:492: ConvergenceWarning: Objective did not converge. You might want to increase the number of iterations. Fitting data with very small alpha may cause precision problems.\n",
      "  ConvergenceWarning)\n"
     ]
    },
    {
     "name": "stdout",
     "output_type": "stream",
     "text": [
      "[CV]  alpha=1.0, l1_ratio=0.0, score=-9.843795824924086, total=   0.0s\n",
      "[CV] alpha=1.0, l1_ratio=0.25 ........................................\n",
      "[CV]  alpha=1.0, l1_ratio=0.25, score=-7.683536720056267, total=   0.0s\n",
      "[CV] alpha=1.0, l1_ratio=0.25 ........................................\n",
      "[CV]  alpha=1.0, l1_ratio=0.25, score=-11.550936438663259, total=   0.0s\n",
      "[CV] alpha=1.0, l1_ratio=0.25 ........................................\n",
      "[CV]  alpha=1.0, l1_ratio=0.25, score=-7.627376296917613, total=   0.0s\n",
      "[CV] alpha=1.0, l1_ratio=0.25 ........................................\n",
      "[CV]  alpha=1.0, l1_ratio=0.25, score=-8.289617634717004, total=   0.0s\n",
      "[CV] alpha=1.0, l1_ratio=0.25 ........................................\n",
      "[CV]  alpha=1.0, l1_ratio=0.25, score=-9.882538101868393, total=   0.0s\n",
      "[CV] alpha=1.0, l1_ratio=0.5 .........................................\n",
      "[CV]  alpha=1.0, l1_ratio=0.5, score=-7.557514272207416, total=   0.0s\n",
      "[CV] alpha=1.0, l1_ratio=0.5 .........................................\n",
      "[CV]  alpha=1.0, l1_ratio=0.5, score=-11.615469686041676, total=   0.0s\n",
      "[CV] alpha=1.0, l1_ratio=0.5 .........................................\n",
      "[CV]  alpha=1.0, l1_ratio=0.5, score=-7.307416416958153, total=   0.0s\n",
      "[CV] alpha=1.0, l1_ratio=0.5 .........................................\n",
      "[CV]  alpha=1.0, l1_ratio=0.5, score=-8.270770875703017, total=   0.0s\n",
      "[CV] alpha=1.0, l1_ratio=0.5 .........................................\n",
      "[CV]  alpha=1.0, l1_ratio=0.5, score=-9.846345872693286, total=   0.0s\n",
      "[CV] alpha=1.0, l1_ratio=0.75 ........................................\n",
      "[CV]  alpha=1.0, l1_ratio=0.75, score=-7.381188207725252, total=   0.0s\n",
      "[CV] alpha=1.0, l1_ratio=0.75 ........................................\n",
      "[CV]  alpha=1.0, l1_ratio=0.75, score=-11.605429407247843, total=   0.0s\n",
      "[CV] alpha=1.0, l1_ratio=0.75 ........................................\n",
      "[CV]  alpha=1.0, l1_ratio=0.75, score=-6.823239307778029, total=   0.0s\n",
      "[CV] alpha=1.0, l1_ratio=0.75 ........................................\n",
      "[CV]  alpha=1.0, l1_ratio=0.75, score=-8.258788266704068, total=   0.0s\n",
      "[CV] alpha=1.0, l1_ratio=0.75 ........................................\n",
      "[CV]  alpha=1.0, l1_ratio=0.75, score=-9.781638752137756, total=   0.0s\n",
      "[CV] alpha=1.0, l1_ratio=1.0 .........................................\n",
      "[CV]  alpha=1.0, l1_ratio=1.0, score=-7.263989246285444, total=   0.0s\n",
      "[CV] alpha=1.0, l1_ratio=1.0 .........................................\n",
      "[CV]  alpha=1.0, l1_ratio=1.0, score=-11.518531501133051, total=   0.0s\n",
      "[CV] alpha=1.0, l1_ratio=1.0 .........................................\n",
      "[CV]  alpha=1.0, l1_ratio=1.0, score=-6.465779183446388, total=   0.0s\n",
      "[CV] alpha=1.0, l1_ratio=1.0 .........................................\n",
      "[CV]  alpha=1.0, l1_ratio=1.0, score=-8.271578476494309, total=   0.0s\n",
      "[CV] alpha=1.0, l1_ratio=1.0 .........................................\n",
      "[CV]  alpha=1.0, l1_ratio=1.0, score=-9.771406369441982, total=   0.0s\n"
     ]
    },
    {
     "name": "stderr",
     "output_type": "stream",
     "text": [
      "[Parallel(n_jobs=1)]: Done 500 out of 500 | elapsed:   18.3s finished\n"
     ]
    },
    {
     "data": {
      "text/plain": [
       "GridSearchCV(cv=5, error_score='raise-deprecating',\n",
       "       estimator=ElasticNet(alpha=1.0, copy_X=True, fit_intercept=True, l1_ratio=0.5,\n",
       "      max_iter=1000, normalize=False, positive=False, precompute=False,\n",
       "      random_state=None, selection='cyclic', tol=0.0001, warm_start=False),\n",
       "       fit_params=None, iid='warn', n_jobs=None,\n",
       "       param_grid={'alpha': array([0.001  , 0.00144, 0.00207, 0.00298, 0.00428, 0.00616, 0.00886,\n",
       "       0.01274, 0.01833, 0.02637, 0.03793, 0.05456, 0.07848, 0.11288,\n",
       "       0.16238, 0.23357, 0.33598, 0.48329, 0.69519, 1.     ]), 'l1_ratio': array([0.  , 0.25, 0.5 , 0.75, 1.  ])},\n",
       "       pre_dispatch='2*n_jobs', refit=True, return_train_score='warn',\n",
       "       scoring='neg_mean_absolute_error', verbose=5)"
      ]
     },
     "execution_count": 490,
     "metadata": {},
     "output_type": "execute_result"
    }
   ],
   "source": [
    "parameters = {'alpha': np.logspace(-3, 0, 20), 'l1_ratio': np.linspace(0, 1, 5)}\n",
    "reg = ElasticNet()\n",
    "search = GridSearchCV(reg, parameters, scoring='neg_mean_absolute_error', cv=5, verbose=5)\n",
    "search.fit(X_train, y_train)"
   ]
  },
  {
   "cell_type": "code",
   "execution_count": 491,
   "metadata": {},
   "outputs": [],
   "source": [
    "best_reg = search.best_estimator_"
   ]
  },
  {
   "cell_type": "code",
   "execution_count": 492,
   "metadata": {},
   "outputs": [],
   "source": [
    "scores = cross_val_score(best_reg, X_train, y_train, cv=LeaveOneOut(), scoring='neg_mean_absolute_error')"
   ]
  },
  {
   "cell_type": "code",
   "execution_count": 493,
   "metadata": {},
   "outputs": [
    {
     "data": {
      "text/plain": [
       "(-8.264531125316646, 10.507278793453848)"
      ]
     },
     "execution_count": 493,
     "metadata": {},
     "output_type": "execute_result"
    }
   ],
   "source": [
    "scores.mean(), scores.std()"
   ]
  },
  {
   "cell_type": "code",
   "execution_count": 380,
   "metadata": {},
   "outputs": [
    {
     "data": {
      "text/plain": [
       "ElasticNet(alpha=1.0, copy_X=True, fit_intercept=True, l1_ratio=1.0,\n",
       "      max_iter=1000, normalize=False, positive=False, precompute=False,\n",
       "      random_state=None, selection='cyclic', tol=0.0001, warm_start=False)"
      ]
     },
     "execution_count": 380,
     "metadata": {},
     "output_type": "execute_result"
    }
   ],
   "source": [
    "best_reg.fit( X_train, y_train)"
   ]
  },
  {
   "cell_type": "code",
   "execution_count": 384,
   "metadata": {},
   "outputs": [
    {
     "data": {
      "text/plain": [
       "array([-0.00000000e+00, -1.52229085e+00, -0.00000000e+00, -0.00000000e+00,\n",
       "       -0.00000000e+00, -4.68106287e-01,  1.22338480e-03,  0.00000000e+00,\n",
       "       -1.99595990e+00, -0.00000000e+00,  0.00000000e+00, -0.00000000e+00,\n",
       "       -0.00000000e+00, -0.00000000e+00,  0.00000000e+00,  0.00000000e+00,\n",
       "       -0.00000000e+00, -2.01701328e+00, -0.00000000e+00, -0.00000000e+00,\n",
       "        0.00000000e+00,  3.65852434e+00, -0.00000000e+00,  0.00000000e+00,\n",
       "        0.00000000e+00, -0.00000000e+00])"
      ]
     },
     "execution_count": 384,
     "metadata": {},
     "output_type": "execute_result"
    }
   ],
   "source": [
    "best_reg.coef_"
   ]
  },
  {
   "cell_type": "code",
   "execution_count": 386,
   "metadata": {},
   "outputs": [
    {
     "data": {
      "text/plain": [
       "Index(['ANUL', 'GAS_METHOD_Not Air corrected', 'C3_UNSAT', 'WH_LAT',\n",
       "       'C2_UNSAT', 'ROV', 'MDT', 'HEAD', 'DST', 'Anul', 'WELL',\n",
       "       'SUB_TYPE_Surface', 'SUB_TYPE_Subsurface', 'SUB_TYPE_Headspace', 'SEPR',\n",
       "       'GAS_METHOD_UNKNOWN', 'GAS_METHOD_Not corrected',\n",
       "       'GAS_METHOD_Not air corrected', 'GAS_METHOD_Air corrected',\n",
       "       'SH_DEPTH_BOT_FT', 'SH_DEPTH_TOP_FT', 'WH_TD_M', 'SUB_TYPE_Mudgas',\n",
       "       'UNKN', 'WH_LONG', 'ISOT'],\n",
       "      dtype='object')"
      ]
     },
     "execution_count": 386,
     "metadata": {},
     "output_type": "execute_result"
    }
   ],
   "source": [
    "X_train_.columns[best_reg.coef_.argsort()]"
   ]
  },
  {
   "cell_type": "code",
   "execution_count": null,
   "metadata": {},
   "outputs": [],
   "source": []
  },
  {
   "cell_type": "code",
   "execution_count": null,
   "metadata": {},
   "outputs": [],
   "source": []
  },
  {
   "cell_type": "markdown",
   "metadata": {},
   "source": [
    "## lgb"
   ]
  },
  {
   "cell_type": "code",
   "execution_count": 357,
   "metadata": {},
   "outputs": [],
   "source": [
    "from hyperopt import hp, tpe\n",
    "from hyperopt.fmin import fmin"
   ]
  },
  {
   "cell_type": "code",
   "execution_count": 358,
   "metadata": {},
   "outputs": [],
   "source": [
    "def hyperopt_lgb_score(params):\n",
    "    reg = lgb.LGBMRegressor(**params)\n",
    "    current_score = cross_val_score(reg, X_train, y_train, scoring='neg_mean_absolute_error', cv=5).mean()\n",
    "    print(current_score, params)\n",
    "    return - current_score"
   ]
  },
  {
   "cell_type": "code",
   "execution_count": 388,
   "metadata": {},
   "outputs": [],
   "source": [
    "simple_space_lgb = {\n",
    "            'n_estimators': hp.choice('n_estimators', np.arange(50, 1000, dtype=int)),\n",
    "            'num_leaves': hp.choice('num_leaves', np.arange(5, 50, dtype=int)),\n",
    "            'learning_rate': hp.quniform('eta', 0.05, 0.5, 0.01),\n",
    "            'max_depth':  hp.choice('max_depth', np.arange(1, 10, dtype=int)),\n",
    "            #'eval_metric': hp.choice('eval_metric', ['binary_logloss', 'auc']),\n",
    "            'reg_lambda': hp.quniform('gamma', 0, 5, 0.5),\n",
    "            'reg_alpha': hp.quniform('alpha', 0, 5, 0.5)\n",
    "}"
   ]
  },
  {
   "cell_type": "code",
   "execution_count": 389,
   "metadata": {
    "scrolled": true
   },
   "outputs": [
    {
     "name": "stdout",
     "output_type": "stream",
     "text": [
      "-11.375004677654108                                                                                                    \n",
      "{'learning_rate': 0.49, 'max_depth': 2, 'n_estimators': 587, 'num_leaves': 17, 'reg_alpha': 2.5, 'reg_lambda': 1.5}    \n",
      "-9.837451422589636                                                                                                     \n",
      "{'learning_rate': 0.28, 'max_depth': 8, 'n_estimators': 201, 'num_leaves': 24, 'reg_alpha': 2.0, 'reg_lambda': 5.0}    \n",
      "-10.127026333313427                                                                                                    \n",
      "{'learning_rate': 0.15, 'max_depth': 1, 'n_estimators': 787, 'num_leaves': 30, 'reg_alpha': 3.5, 'reg_lambda': 4.5}    \n",
      "-9.620659420495734                                                                                                     \n",
      "{'learning_rate': 0.21, 'max_depth': 8, 'n_estimators': 401, 'num_leaves': 46, 'reg_alpha': 3.0, 'reg_lambda': 0.5}    \n",
      "-10.204301931675431                                                                                                    \n",
      "{'learning_rate': 0.3, 'max_depth': 2, 'n_estimators': 307, 'num_leaves': 35, 'reg_alpha': 4.0, 'reg_lambda': 0.5}     \n",
      "-11.46517727306043                                                                                                     \n",
      "{'learning_rate': 0.46, 'max_depth': 2, 'n_estimators': 790, 'num_leaves': 39, 'reg_alpha': 4.5, 'reg_lambda': 5.0}    \n",
      "-11.564794208333222                                                                                                    \n",
      "{'learning_rate': 0.49, 'max_depth': 2, 'n_estimators': 741, 'num_leaves': 22, 'reg_alpha': 1.0, 'reg_lambda': 1.0}    \n",
      "-9.212343655602494                                                                                                     \n",
      "{'learning_rate': 0.06, 'max_depth': 2, 'n_estimators': 315, 'num_leaves': 33, 'reg_alpha': 2.5, 'reg_lambda': 2.0}    \n",
      "-9.216923366794338                                                                                                     \n",
      "{'learning_rate': 0.17, 'max_depth': 6, 'n_estimators': 238, 'num_leaves': 21, 'reg_alpha': 0.0, 'reg_lambda': 0.0}    \n",
      "-10.15090208784454                                                                                                     \n",
      "{'learning_rate': 0.45, 'max_depth': 4, 'n_estimators': 799, 'num_leaves': 10, 'reg_alpha': 1.0, 'reg_lambda': 3.5}    \n",
      "-10.072334211188025                                                                                                    \n",
      "{'learning_rate': 0.29, 'max_depth': 8, 'n_estimators': 368, 'num_leaves': 9, 'reg_alpha': 1.0, 'reg_lambda': 3.5}     \n",
      "-9.42985562982609                                                                                                      \n",
      "{'learning_rate': 0.06, 'max_depth': 2, 'n_estimators': 492, 'num_leaves': 37, 'reg_alpha': 3.5, 'reg_lambda': 0.0}    \n",
      "-10.997046495326002                                                                                                    \n",
      "{'learning_rate': 0.39, 'max_depth': 1, 'n_estimators': 619, 'num_leaves': 40, 'reg_alpha': 5.0, 'reg_lambda': 1.0}    \n",
      "-11.082610106341061                                                                                                    \n",
      "{'learning_rate': 0.32, 'max_depth': 2, 'n_estimators': 647, 'num_leaves': 10, 'reg_alpha': 4.0, 'reg_lambda': 4.0}    \n",
      "-9.792052844471351                                                                                                     \n",
      "{'learning_rate': 0.18, 'max_depth': 9, 'n_estimators': 710, 'num_leaves': 22, 'reg_alpha': 3.0, 'reg_lambda': 2.0}    \n",
      "-9.065954942193596                                                                                                     \n",
      "{'learning_rate': 0.05, 'max_depth': 4, 'n_estimators': 645, 'num_leaves': 12, 'reg_alpha': 4.0, 'reg_lambda': 2.0}    \n",
      "-8.896978976556287                                                                                                     \n",
      "{'learning_rate': 0.2, 'max_depth': 5, 'n_estimators': 87, 'num_leaves': 17, 'reg_alpha': 3.5, 'reg_lambda': 2.0}      \n",
      "-10.045411576227352                                                                                                    \n",
      "{'learning_rate': 0.16, 'max_depth': 2, 'n_estimators': 430, 'num_leaves': 15, 'reg_alpha': 1.5, 'reg_lambda': 4.0}    \n",
      "-9.77879251459294                                                                                                      \n",
      "{'learning_rate': 0.25, 'max_depth': 9, 'n_estimators': 934, 'num_leaves': 23, 'reg_alpha': 3.0, 'reg_lambda': 5.0}    \n",
      "-11.145283656481825                                                                                                    \n",
      "{'learning_rate': 0.43, 'max_depth': 1, 'n_estimators': 612, 'num_leaves': 8, 'reg_alpha': 4.5, 'reg_lambda': 0.5}     \n",
      "-9.411255567767276                                                                                                     \n",
      "{'learning_rate': 0.11, 'max_depth': 5, 'n_estimators': 873, 'num_leaves': 12, 'reg_alpha': 5.0, 'reg_lambda': 2.5}    \n",
      "-8.946500768749031                                                                                                     \n",
      "{'learning_rate': 0.11, 'max_depth': 4, 'n_estimators': 147, 'num_leaves': 32, 'reg_alpha': 4.0, 'reg_lambda': 2.5}    \n",
      "-9.223398340068238                                                                                                     \n",
      "{'learning_rate': 0.1, 'max_depth': 7, 'n_estimators': 660, 'num_leaves': 34, 'reg_alpha': 4.5, 'reg_lambda': 3.0}     \n",
      "-9.575499955817971                                                                                                     \n",
      "{'learning_rate': 0.23, 'max_depth': 5, 'n_estimators': 240, 'num_leaves': 7, 'reg_alpha': 3.5, 'reg_lambda': 2.5}     \n",
      "-9.885228215345416                                                                                                     \n",
      "{'learning_rate': 0.35000000000000003, 'max_depth': 3, 'n_estimators': 290, 'num_leaves': 32, 'reg_alpha': 2.0, 'reg_lambda': 3.0}\n",
      "-9.000273163020433                                                                                                     \n",
      "{'learning_rate': 0.13, 'max_depth': 4, 'n_estimators': 87, 'num_leaves': 5, 'reg_alpha': 4.0, 'reg_lambda': 1.5}      \n",
      "-9.256562693997585                                                                                                     \n",
      "{'learning_rate': 0.09, 'max_depth': 5, 'n_estimators': 706, 'num_leaves': 11, 'reg_alpha': 5.0, 'reg_lambda': 3.0}    \n",
      "-8.90666518744854                                                                                                      \n",
      "{'learning_rate': 0.2, 'max_depth': 4, 'n_estimators': 58, 'num_leaves': 31, 'reg_alpha': 3.5, 'reg_lambda': 1.5}      \n",
      "-9.28894997436304                                                                                                      \n",
      "{'learning_rate': 0.21, 'max_depth': 5, 'n_estimators': 899, 'num_leaves': 31, 'reg_alpha': 2.5, 'reg_lambda': 1.5}    \n",
      "-10.15210998033954                                                                                                     \n",
      "{'learning_rate': 0.25, 'max_depth': 7, 'n_estimators': 771, 'num_leaves': 17, 'reg_alpha': 3.0, 'reg_lambda': 1.0}    \n",
      "100%|████████████████████████████████████████████████████| 30/30 [00:26<00:00,  1.33s/it, best loss: 8.896978976556287]\n",
      "best:\n",
      "{'alpha': 3.5, 'eta': 0.2, 'gamma': 2.0, 'max_depth': 4, 'n_estimators': 37, 'num_leaves': 12}\n"
     ]
    }
   ],
   "source": [
    "best = fmin(fn=hyperopt_lgb_score, space=simple_space_lgb, algo=tpe.suggest, max_evals=30)\n",
    "print('best:')\n",
    "print(best)"
   ]
  },
  {
   "cell_type": "raw",
   "metadata": {},
   "source": [
    "{'alpha': 2.0, 'eta': 0.13, 'gamma': 4.5, 'max_depth': 4, 'n_estimators': 48, 'num_leaves': 44}\n",
    "{'alpha': 3.5, 'eta': 0.2, 'gamma': 2.0, 'max_depth': 4, 'n_estimators': 37, 'num_leaves': 12}"
   ]
  },
  {
   "cell_type": "code",
   "execution_count": 399,
   "metadata": {},
   "outputs": [],
   "source": [
    "best_reg = lgb.LGBMRegressor(**{'alpha': 3.5, 'eta': 0.2, 'gamma': 2.0, 'max_depth': 2, 'n_estimators': 10, 'num_leaves': 12})"
   ]
  },
  {
   "cell_type": "code",
   "execution_count": 400,
   "metadata": {},
   "outputs": [],
   "source": [
    "scores = cross_val_score(best_reg, X_train, y_train, cv=LeaveOneOut(), scoring='neg_mean_absolute_error')"
   ]
  },
  {
   "cell_type": "code",
   "execution_count": 401,
   "metadata": {},
   "outputs": [
    {
     "data": {
      "text/plain": [
       "(-5.949690305827459, 9.078377027923043)"
      ]
     },
     "execution_count": 401,
     "metadata": {},
     "output_type": "execute_result"
    }
   ],
   "source": [
    "scores.mean(), scores.std()"
   ]
  },
  {
   "cell_type": "code",
   "execution_count": 475,
   "metadata": {},
   "outputs": [],
   "source": [
    "from sklearn import dummy"
   ]
  },
  {
   "cell_type": "code",
   "execution_count": 478,
   "metadata": {},
   "outputs": [
    {
     "data": {
      "text/plain": [
       "(-8.877417110036275, 12.838053474725315)"
      ]
     },
     "execution_count": 478,
     "metadata": {},
     "output_type": "execute_result"
    }
   ],
   "source": [
    "const = dummy.DummyRegressor('median')\n",
    "scores = cross_val_score(const, X_train, y_train, cv=LeaveOneOut(), scoring='neg_mean_absolute_error')\n",
    "scores.mean(), scores.std()"
   ]
  },
  {
   "cell_type": "code",
   "execution_count": null,
   "metadata": {},
   "outputs": [],
   "source": []
  },
  {
   "cell_type": "code",
   "execution_count": null,
   "metadata": {},
   "outputs": [],
   "source": []
  },
  {
   "cell_type": "code",
   "execution_count": 402,
   "metadata": {
    "scrolled": true
   },
   "outputs": [
    {
     "data": {
      "text/plain": [
       "LGBMRegressor(alpha=3.5, boosting_type='gbdt', class_weight=None,\n",
       "       colsample_bytree=1.0, eta=0.2, gamma=2.0, importance_type='split',\n",
       "       learning_rate=0.1, max_depth=2, min_child_samples=20,\n",
       "       min_child_weight=0.001, min_split_gain=0.0, n_estimators=500,\n",
       "       n_jobs=-1, num_leaves=12, objective=None, random_state=None,\n",
       "       reg_alpha=0.0, reg_lambda=0.0, silent=True, subsample=1.0,\n",
       "       subsample_for_bin=200000, subsample_freq=0)"
      ]
     },
     "execution_count": 402,
     "metadata": {},
     "output_type": "execute_result"
    }
   ],
   "source": [
    "best_reg.fit(X_train, y_train)"
   ]
  },
  {
   "cell_type": "code",
   "execution_count": 403,
   "metadata": {
    "scrolled": true
   },
   "outputs": [
    {
     "data": {
      "text/plain": [
       "array([  0,   0,   0,   0,   0,   0,   0,   0,   0,   0,   7,   8,  25,\n",
       "        27,  32,  33,  35,  39,  43, 100, 103, 142, 144, 148, 214, 224])"
      ]
     },
     "execution_count": 403,
     "metadata": {},
     "output_type": "execute_result"
    }
   ],
   "source": [
    "best_reg.feature_importances_[best_reg.feature_importances_.argsort()]"
   ]
  },
  {
   "cell_type": "code",
   "execution_count": 404,
   "metadata": {},
   "outputs": [
    {
     "data": {
      "text/plain": [
       "Index(['SUB_TYPE_Headspace', 'ROV', 'MDT', 'HEAD', 'DST', 'Anul',\n",
       "       'GAS_METHOD_Not Air corrected', 'GAS_METHOD_Not air corrected',\n",
       "       'GAS_METHOD_Not corrected', 'SEPR', 'ANUL', 'WELL', 'UNKN',\n",
       "       'SUB_TYPE_Surface', 'SUB_TYPE_Subsurface', 'SUB_TYPE_Mudgas',\n",
       "       'GAS_METHOD_UNKNOWN', 'ISOT', 'GAS_METHOD_Air corrected', 'C2_UNSAT',\n",
       "       'SH_DEPTH_BOT_FT', 'WH_LONG', 'SH_DEPTH_TOP_FT', 'C3_UNSAT', 'WH_TD_M',\n",
       "       'WH_LAT'],\n",
       "      dtype='object')"
      ]
     },
     "execution_count": 404,
     "metadata": {},
     "output_type": "execute_result"
    }
   ],
   "source": [
    "X_train_.columns[best_reg.feature_importances_.argsort()]"
   ]
  },
  {
   "cell_type": "code",
   "execution_count": null,
   "metadata": {},
   "outputs": [],
   "source": []
  },
  {
   "cell_type": "markdown",
   "metadata": {},
   "source": [
    "## xgb"
   ]
  },
  {
   "cell_type": "code",
   "execution_count": 408,
   "metadata": {},
   "outputs": [],
   "source": [
    "import xgboost as xgb"
   ]
  },
  {
   "cell_type": "code",
   "execution_count": 409,
   "metadata": {},
   "outputs": [],
   "source": [
    "def hyperopt_lgb_score(params):\n",
    "    reg = xgb.XGBRegressor(**params)\n",
    "    current_score = cross_val_score(reg, X_train, y_train, scoring='neg_mean_absolute_error', cv=5).mean()\n",
    "    print(current_score, params)\n",
    "    return - current_score"
   ]
  },
  {
   "cell_type": "code",
   "execution_count": 410,
   "metadata": {},
   "outputs": [],
   "source": [
    "simple_space_lgb = {\n",
    "            'n_estimators': hp.choice('n_estimators', np.arange(50, 1000, dtype=int)),\n",
    "            'num_leaves': hp.choice('num_leaves', np.arange(5, 50, dtype=int)),\n",
    "            'learning_rate': hp.quniform('eta', 0.05, 0.5, 0.01),\n",
    "            'max_depth':  hp.choice('max_depth', np.arange(1, 10, dtype=int)),\n",
    "            #'eval_metric': hp.choice('eval_metric', ['binary_logloss', 'auc']),\n",
    "            'reg_lambda': hp.quniform('gamma', 0, 5, 0.5),\n",
    "            'reg_alpha': hp.quniform('alpha', 0, 5, 0.5)\n",
    "}"
   ]
  },
  {
   "cell_type": "code",
   "execution_count": 411,
   "metadata": {
    "scrolled": true
   },
   "outputs": [
    {
     "name": "stdout",
     "output_type": "stream",
     "text": [
      "-9.41273095171561                                                                                                      \n",
      "{'learning_rate': 0.11, 'max_depth': 1, 'n_estimators': 309, 'num_leaves': 32, 'reg_alpha': 1.0, 'reg_lambda': 3.5}    \n",
      "-10.433797910466959                                                                                                    \n",
      "{'learning_rate': 0.16, 'max_depth': 8, 'n_estimators': 678, 'num_leaves': 43, 'reg_alpha': 2.5, 'reg_lambda': 0.5}    \n",
      "-9.317780497552862                                                                                                     \n",
      "{'learning_rate': 0.08, 'max_depth': 9, 'n_estimators': 334, 'num_leaves': 42, 'reg_alpha': 4.0, 'reg_lambda': 2.0}    \n",
      "-9.761194958439448                                                                                                     \n",
      "{'learning_rate': 0.42, 'max_depth': 2, 'n_estimators': 198, 'num_leaves': 44, 'reg_alpha': 2.5, 'reg_lambda': 1.5}    \n",
      "-9.128141777133482                                                                                                     \n",
      "{'learning_rate': 0.26, 'max_depth': 3, 'n_estimators': 730, 'num_leaves': 45, 'reg_alpha': 2.5, 'reg_lambda': 2.0}    \n",
      "-9.144080715890585                                                                                                     \n",
      "{'learning_rate': 0.25, 'max_depth': 5, 'n_estimators': 240, 'num_leaves': 37, 'reg_alpha': 2.5, 'reg_lambda': 2.0}    \n",
      "-9.46902910259389                                                                                                      \n",
      "{'learning_rate': 0.43, 'max_depth': 8, 'n_estimators': 525, 'num_leaves': 26, 'reg_alpha': 2.5, 'reg_lambda': 5.0}    \n",
      "-9.903914571732798                                                                                                     \n",
      "{'learning_rate': 0.49, 'max_depth': 7, 'n_estimators': 385, 'num_leaves': 37, 'reg_alpha': 1.0, 'reg_lambda': 4.0}    \n",
      "-9.447035031584674                                                                                                     \n",
      "{'learning_rate': 0.28, 'max_depth': 4, 'n_estimators': 820, 'num_leaves': 18, 'reg_alpha': 0.0, 'reg_lambda': 4.0}    \n",
      "-9.575117996793931                                                                                                     \n",
      "{'learning_rate': 0.46, 'max_depth': 7, 'n_estimators': 661, 'num_leaves': 47, 'reg_alpha': 5.0, 'reg_lambda': 4.5}    \n",
      "-9.180780983193051                                                                                                     \n",
      "{'learning_rate': 0.18, 'max_depth': 3, 'n_estimators': 923, 'num_leaves': 20, 'reg_alpha': 1.0, 'reg_lambda': 3.5}    \n",
      "-9.699848040264115                                                                                                     \n",
      "{'learning_rate': 0.21, 'max_depth': 3, 'n_estimators': 454, 'num_leaves': 25, 'reg_alpha': 2.0, 'reg_lambda': 2.0}    \n",
      "-9.196386503532484                                                                                                     \n",
      "{'learning_rate': 0.15, 'max_depth': 4, 'n_estimators': 373, 'num_leaves': 46, 'reg_alpha': 2.5, 'reg_lambda': 0.5}    \n",
      "-10.819664656235785                                                                                                    \n",
      "{'learning_rate': 0.33, 'max_depth': 1, 'n_estimators': 783, 'num_leaves': 7, 'reg_alpha': 3.0, 'reg_lambda': 2.0}     \n",
      "-9.971429210297892                                                                                                     \n",
      "{'learning_rate': 0.21, 'max_depth': 1, 'n_estimators': 384, 'num_leaves': 37, 'reg_alpha': 2.5, 'reg_lambda': 3.0}    \n",
      "-9.688941829892823                                                                                                     \n",
      "{'learning_rate': 0.45, 'max_depth': 8, 'n_estimators': 876, 'num_leaves': 23, 'reg_alpha': 1.0, 'reg_lambda': 2.0}    \n",
      "-9.30645946611197                                                                                                      \n",
      "{'learning_rate': 0.15, 'max_depth': 6, 'n_estimators': 799, 'num_leaves': 27, 'reg_alpha': 2.5, 'reg_lambda': 2.0}    \n",
      "-8.949495413436939                                                                                                     \n",
      "{'learning_rate': 0.1, 'max_depth': 3, 'n_estimators': 163, 'num_leaves': 38, 'reg_alpha': 3.5, 'reg_lambda': 1.5}     \n",
      "-9.306746125065956                                                                                                     \n",
      "{'learning_rate': 0.05, 'max_depth': 7, 'n_estimators': 498, 'num_leaves': 48, 'reg_alpha': 2.0, 'reg_lambda': 4.0}    \n",
      "-9.73383627850777                                                                                                      \n",
      "{'learning_rate': 0.12, 'max_depth': 8, 'n_estimators': 563, 'num_leaves': 34, 'reg_alpha': 2.0, 'reg_lambda': 1.0}    \n",
      "-9.590326723892588                                                                                                     \n",
      "{'learning_rate': 0.38, 'max_depth': 3, 'n_estimators': 153, 'num_leaves': 38, 'reg_alpha': 3.5, 'reg_lambda': 1.0}    \n",
      "-9.412196413502192                                                                                                     \n",
      "{'learning_rate': 0.33, 'max_depth': 3, 'n_estimators': 681, 'num_leaves': 45, 'reg_alpha': 4.5, 'reg_lambda': 0.0}    \n",
      "-8.729969009095328                                                                                                     \n",
      "{'learning_rate': 0.05, 'max_depth': 3, 'n_estimators': 206, 'num_leaves': 22, 'reg_alpha': 3.5, 'reg_lambda': 3.0}    \n",
      "-8.800056809643602                                                                                                     \n",
      "{'learning_rate': 0.06, 'max_depth': 3, 'n_estimators': 222, 'num_leaves': 22, 'reg_alpha': 3.5, 'reg_lambda': 3.0}    \n",
      "-8.81679467335815                                                                                                      \n",
      "{'learning_rate': 0.05, 'max_depth': 2, 'n_estimators': 206, 'num_leaves': 22, 'reg_alpha': 4.5, 'reg_lambda': 3.0}    \n",
      "-9.385912542126327                                                                                                     \n",
      "{'learning_rate': 0.06, 'max_depth': 6, 'n_estimators': 683, 'num_leaves': 22, 'reg_alpha': 3.5, 'reg_lambda': 3.0}    \n",
      "-9.553340151445473                                                                                                     \n",
      "{'learning_rate': 0.08, 'max_depth': 9, 'n_estimators': 741, 'num_leaves': 39, 'reg_alpha': 4.0, 'reg_lambda': 2.5}    \n",
      "-9.307494638391201                                                                                                     \n",
      "{'learning_rate': 0.13, 'max_depth': 5, 'n_estimators': 631, 'num_leaves': 5, 'reg_alpha': 5.0, 'reg_lambda': 3.5}     \n",
      "-9.158972684452902                                                                                                     \n",
      "{'learning_rate': 0.19, 'max_depth': 3, 'n_estimators': 694, 'num_leaves': 21, 'reg_alpha': 4.0, 'reg_lambda': 2.5}    \n",
      "-9.2390407919038                                                                                                       \n",
      "{'learning_rate': 0.1, 'max_depth': 3, 'n_estimators': 249, 'num_leaves': 13, 'reg_alpha': 3.0, 'reg_lambda': 5.0}     \n",
      "100%|████████████████████████████████████████████████████| 30/30 [01:14<00:00,  2.75s/it, best loss: 8.729969009095328]\n",
      "best:\n",
      "{'alpha': 3.5, 'eta': 0.05, 'gamma': 3.0, 'max_depth': 2, 'n_estimators': 156, 'num_leaves': 17}\n"
     ]
    }
   ],
   "source": [
    "best = fmin(fn=hyperopt_lgb_score, space=simple_space_lgb, algo=tpe.suggest, max_evals=30)\n",
    "print('best:')\n",
    "print(best)"
   ]
  },
  {
   "cell_type": "raw",
   "metadata": {},
   "source": [
    "{'alpha': 2.0, 'eta': 0.13, 'gamma': 4.5, 'max_depth': 4, 'n_estimators': 48, 'num_leaves': 44}\n",
    "{'alpha': 3.5, 'eta': 0.2, 'gamma': 2.0, 'max_depth': 4, 'n_estimators': 37, 'num_leaves': 12}"
   ]
  },
  {
   "cell_type": "code",
   "execution_count": 413,
   "metadata": {},
   "outputs": [],
   "source": [
    "best_reg = xgb.XGBRegressor(**{'alpha': 3.5, 'eta': 0.05, 'gamma': 3.0, 'max_depth': 2, 'n_estimators': 156, 'num_leaves': 17})"
   ]
  },
  {
   "cell_type": "code",
   "execution_count": 414,
   "metadata": {},
   "outputs": [],
   "source": [
    "scores = cross_val_score(best_reg, X_train, y_train, cv=LeaveOneOut(), scoring='neg_mean_absolute_error')"
   ]
  },
  {
   "cell_type": "code",
   "execution_count": 415,
   "metadata": {},
   "outputs": [
    {
     "data": {
      "text/plain": [
       "(-6.206317466064231, 9.165510496445666)"
      ]
     },
     "execution_count": 415,
     "metadata": {},
     "output_type": "execute_result"
    }
   ],
   "source": [
    "scores.mean(), scores.std()"
   ]
  },
  {
   "cell_type": "code",
   "execution_count": 416,
   "metadata": {},
   "outputs": [
    {
     "data": {
      "text/plain": [
       "XGBRegressor(alpha=3.5, base_score=0.5, booster='gbtree', colsample_bylevel=1,\n",
       "       colsample_bytree=1, eta=0.05, gamma=3.0, learning_rate=0.1,\n",
       "       max_delta_step=0, max_depth=2, min_child_weight=1, missing=None,\n",
       "       n_estimators=156, n_jobs=1, nthread=None, num_leaves=17,\n",
       "       objective='reg:linear', random_state=0, reg_alpha=0, reg_lambda=1,\n",
       "       scale_pos_weight=1, seed=None, silent=True, subsample=1)"
      ]
     },
     "execution_count": 416,
     "metadata": {},
     "output_type": "execute_result"
    }
   ],
   "source": [
    "best_reg.fit(X_train, y_train)"
   ]
  },
  {
   "cell_type": "code",
   "execution_count": 417,
   "metadata": {
    "scrolled": true
   },
   "outputs": [
    {
     "data": {
      "text/plain": [
       "array([0.        , 0.        , 0.        , 0.        , 0.        ,\n",
       "       0.        , 0.        , 0.        , 0.        , 0.00229885,\n",
       "       0.0091954 , 0.0091954 , 0.0183908 , 0.0183908 , 0.0183908 ,\n",
       "       0.02298851, 0.02758621, 0.02758621, 0.03908046, 0.06436782,\n",
       "       0.06666667, 0.10114942, 0.11264368, 0.11264368, 0.12183908,\n",
       "       0.22758621], dtype=float32)"
      ]
     },
     "execution_count": 417,
     "metadata": {},
     "output_type": "execute_result"
    }
   ],
   "source": [
    "best_reg.feature_importances_[best_reg.feature_importances_.argsort()]"
   ]
  },
  {
   "cell_type": "code",
   "execution_count": 418,
   "metadata": {},
   "outputs": [
    {
     "data": {
      "text/plain": [
       "Index(['SUB_TYPE_Headspace', 'ROV', 'HEAD', 'DST', 'Anul', 'WELL', 'SEPR',\n",
       "       'GAS_METHOD_Air corrected', 'GAS_METHOD_UNKNOWN', 'UNKN',\n",
       "       'SUB_TYPE_Surface', 'MDT', 'SUB_TYPE_Mudgas', 'ANUL',\n",
       "       'GAS_METHOD_Not air corrected', 'SUB_TYPE_Subsurface',\n",
       "       'GAS_METHOD_Not corrected', 'ISOT', 'C2_UNSAT',\n",
       "       'GAS_METHOD_Not Air corrected', 'SH_DEPTH_TOP_FT', 'WH_LONG', 'WH_LAT',\n",
       "       'SH_DEPTH_BOT_FT', 'C3_UNSAT', 'WH_TD_M'],\n",
       "      dtype='object')"
      ]
     },
     "execution_count": 418,
     "metadata": {},
     "output_type": "execute_result"
    }
   ],
   "source": [
    "X_train_.columns[best_reg.feature_importances_.argsort()]"
   ]
  },
  {
   "cell_type": "code",
   "execution_count": null,
   "metadata": {},
   "outputs": [],
   "source": []
  },
  {
   "cell_type": "markdown",
   "metadata": {},
   "source": [
    "## KNN"
   ]
  },
  {
   "cell_type": "code",
   "execution_count": 494,
   "metadata": {},
   "outputs": [],
   "source": [
    "from sklearn.neighbors import KNeighborsRegressor"
   ]
  },
  {
   "cell_type": "code",
   "execution_count": 504,
   "metadata": {
    "scrolled": true
   },
   "outputs": [
    {
     "name": "stdout",
     "output_type": "stream",
     "text": [
      "Fitting 10 folds for each of 39 candidates, totalling 390 fits\n"
     ]
    },
    {
     "name": "stderr",
     "output_type": "stream",
     "text": [
      "[Parallel(n_jobs=1)]: Using backend SequentialBackend with 1 concurrent workers.\n"
     ]
    },
    {
     "name": "stdout",
     "output_type": "stream",
     "text": [
      "[CV] n_neighbors=1 ...................................................\n",
      "[CV] ......... n_neighbors=1, score=-14.775140361445782, total=   0.0s\n"
     ]
    },
    {
     "name": "stderr",
     "output_type": "stream",
     "text": [
      "[Parallel(n_jobs=1)]: Done   1 out of   1 | elapsed:    0.0s remaining:    0.0s\n"
     ]
    },
    {
     "name": "stdout",
     "output_type": "stream",
     "text": [
      "[CV] n_neighbors=1 ...................................................\n",
      "[CV] ........... n_neighbors=1, score=-7.10066265060241, total=   0.0s\n"
     ]
    },
    {
     "name": "stderr",
     "output_type": "stream",
     "text": [
      "[Parallel(n_jobs=1)]: Done   2 out of   2 | elapsed:    0.0s remaining:    0.0s\n"
     ]
    },
    {
     "name": "stdout",
     "output_type": "stream",
     "text": [
      "[CV] n_neighbors=1 ...................................................\n",
      "[CV] ......... n_neighbors=1, score=-18.757513253012046, total=   0.0s\n"
     ]
    },
    {
     "name": "stderr",
     "output_type": "stream",
     "text": [
      "[Parallel(n_jobs=1)]: Done   3 out of   3 | elapsed:    0.0s remaining:    0.0s\n"
     ]
    },
    {
     "name": "stdout",
     "output_type": "stream",
     "text": [
      "[CV] n_neighbors=1 ...................................................\n",
      "[CV] .......... n_neighbors=1, score=-3.678381927710842, total=   0.0s\n"
     ]
    },
    {
     "name": "stderr",
     "output_type": "stream",
     "text": [
      "[Parallel(n_jobs=1)]: Done   4 out of   4 | elapsed:    0.0s remaining:    0.0s\n"
     ]
    },
    {
     "name": "stdout",
     "output_type": "stream",
     "text": [
      "[CV] n_neighbors=1 ...................................................\n",
      "[CV] .......... n_neighbors=1, score=-2.878181818181819, total=   0.0s\n",
      "[CV] n_neighbors=1 ...................................................\n",
      "[CV] .......... n_neighbors=1, score=-6.814424242424241, total=   0.0s\n",
      "[CV] n_neighbors=1 ...................................................\n",
      "[CV] .......... n_neighbors=1, score=-8.133359393939394, total=   0.0s\n",
      "[CV] n_neighbors=1 ...................................................\n",
      "[CV] .......... n_neighbors=1, score=-8.101946666666667, total=   0.0s\n",
      "[CV] n_neighbors=1 ...................................................\n",
      "[CV] .......... n_neighbors=1, score=-7.922181818181818, total=   0.0s\n",
      "[CV] n_neighbors=1 ...................................................\n",
      "[CV] ......... n_neighbors=1, score=-12.526242424242424, total=   0.0s\n",
      "[CV] n_neighbors=2 ...................................................\n",
      "[CV] ......... n_neighbors=2, score=-12.667208734939761, total=   0.0s\n",
      "[CV] n_neighbors=2 ...................................................\n",
      "[CV] ........... n_neighbors=2, score=-6.72839156626506, total=   0.0s\n",
      "[CV] n_neighbors=2 ...................................................\n",
      "[CV] ......... n_neighbors=2, score=-17.961368674698793, total=   0.0s\n",
      "[CV] n_neighbors=2 ...................................................\n",
      "[CV] ......... n_neighbors=2, score=-3.4151861445783145, total=   0.0s\n",
      "[CV] n_neighbors=2 ...................................................\n",
      "[CV] .......... n_neighbors=2, score=-3.006060606060607, total=   0.0s\n",
      "[CV] n_neighbors=2 ...................................................\n",
      "[CV] .......... n_neighbors=2, score=-6.607212121212122, total=   0.0s\n",
      "[CV] n_neighbors=2 ...................................................\n",
      "[CV] .......... n_neighbors=2, score=-7.699153333333333, total=   0.0s\n",
      "[CV] n_neighbors=2 ...................................................\n",
      "[CV] .......... n_neighbors=2, score=-7.839643636363637, total=   0.0s\n",
      "[CV] n_neighbors=2 ...................................................\n",
      "[CV] .......... n_neighbors=2, score=-7.682333333333333, total=   0.0s\n",
      "[CV] n_neighbors=2 ...................................................\n",
      "[CV] ......... n_neighbors=2, score=-13.345457878787878, total=   0.0s\n",
      "[CV] n_neighbors=3 ...................................................\n",
      "[CV] ......... n_neighbors=3, score=-10.850566666666667, total=   0.0s\n",
      "[CV] n_neighbors=3 ...................................................\n",
      "[CV] .......... n_neighbors=3, score=-7.332963855421688, total=   0.0s\n",
      "[CV] n_neighbors=3 ...................................................\n",
      "[CV] ......... n_neighbors=3, score=-16.679541365461848, total=   0.0s\n",
      "[CV] n_neighbors=3 ...................................................\n",
      "[CV] ......... n_neighbors=3, score=-3.6773640562248993, total=   0.0s\n",
      "[CV] n_neighbors=3 ...................................................\n",
      "[CV] .......... n_neighbors=3, score=-3.082222222222221, total=   0.0s\n",
      "[CV] n_neighbors=3 ...................................................\n",
      "[CV] .......... n_neighbors=3, score=-5.971151515151515, total=   0.0s\n",
      "[CV] n_neighbors=3 ...................................................\n",
      "[CV] .......... n_neighbors=3, score=-7.798345252525253, total=   0.0s\n",
      "[CV] n_neighbors=3 ...................................................\n",
      "[CV] .......... n_neighbors=3, score=-7.429841616161616, total=   0.0s\n",
      "[CV] n_neighbors=3 ...................................................\n",
      "[CV] .......... n_neighbors=3, score=-7.303755353535353, total=   0.0s\n",
      "[CV] n_neighbors=3 ...................................................\n",
      "[CV] ......... n_neighbors=3, score=-13.350051111111112, total=   0.0s\n",
      "[CV] n_neighbors=4 ...................................................\n",
      "[CV] ......... n_neighbors=4, score=-10.056644879518071, total=   0.0s\n",
      "[CV] n_neighbors=4 ...................................................\n",
      "[CV] .......... n_neighbors=4, score=-7.501661144578313, total=   0.0s\n",
      "[CV] n_neighbors=4 ...................................................\n",
      "[CV] ......... n_neighbors=4, score=-16.622841566265063, total=   0.0s\n",
      "[CV] n_neighbors=4 ...................................................\n",
      "[CV] ........... n_neighbors=4, score=-4.13357439759036, total=   0.0s\n",
      "[CV] n_neighbors=4 ...................................................\n",
      "[CV] ......... n_neighbors=4, score=-3.0500000000000007, total=   0.0s\n",
      "[CV] n_neighbors=4 ...................................................\n",
      "[CV] .......... n_neighbors=4, score=-5.732909090909091, total=   0.0s\n",
      "[CV] n_neighbors=4 ...................................................\n",
      "[CV] ........... n_neighbors=4, score=-7.14831090909091, total=   0.0s\n",
      "[CV] n_neighbors=4 ...................................................\n",
      "[CV] .......... n_neighbors=4, score=-7.466802424242425, total=   0.0s\n",
      "[CV] n_neighbors=4 ...................................................\n",
      "[CV] .......... n_neighbors=4, score=-7.343468030303029, total=   0.0s\n",
      "[CV] n_neighbors=4 ...................................................\n",
      "[CV] ......... n_neighbors=4, score=-13.123893181818183, total=   0.0s\n",
      "[CV] n_neighbors=5 ...................................................\n",
      "[CV] ........... n_neighbors=5, score=-9.74212313253012, total=   0.0s\n",
      "[CV] n_neighbors=5 ...................................................\n",
      "[CV] .......... n_neighbors=5, score=-7.520890361445782, total=   0.0s\n",
      "[CV] n_neighbors=5 ...................................................\n",
      "[CV] ......... n_neighbors=5, score=-16.466477108433736, total=   0.0s\n",
      "[CV] n_neighbors=5 ...................................................\n",
      "[CV] .......... n_neighbors=5, score=-4.135061204819277, total=   0.0s\n",
      "[CV] n_neighbors=5 ...................................................\n",
      "[CV] .......... n_neighbors=5, score=-3.066303030303031, total=   0.0s\n",
      "[CV] n_neighbors=5 ...................................................\n",
      "[CV] .......... n_neighbors=5, score=-5.683139393939395, total=   0.0s\n",
      "[CV] n_neighbors=5 ...................................................\n",
      "[CV] ......... n_neighbors=5, score=-7.2692503030303035, total=   0.0s\n",
      "[CV] n_neighbors=5 ...................................................\n",
      "[CV] .......... n_neighbors=5, score=-8.037271272727274, total=   0.0s\n",
      "[CV] n_neighbors=5 ...................................................\n",
      "[CV] .......... n_neighbors=5, score=-7.541744121212122, total=   0.0s\n",
      "[CV] n_neighbors=5 ...................................................\n",
      "[CV] ......... n_neighbors=5, score=-12.914167272727271, total=   0.0s\n",
      "[CV] n_neighbors=6 ...................................................\n",
      "[CV] .......... n_neighbors=6, score=-9.181106626506022, total=   0.0s\n",
      "[CV] n_neighbors=6 ...................................................\n",
      "[CV] .......... n_neighbors=6, score=-7.697223895582331, total=   0.0s\n",
      "[CV] n_neighbors=6 ...................................................\n",
      "[CV] .......... n_neighbors=6, score=-16.19021385542169, total=   0.0s\n",
      "[CV] n_neighbors=6 ...................................................\n",
      "[CV] .......... n_neighbors=6, score=-4.092654919678716, total=   0.0s\n",
      "[CV] n_neighbors=6 ...................................................\n",
      "[CV] .......... n_neighbors=6, score=-3.082121212121212, total=   0.0s\n",
      "[CV] n_neighbors=6 ...................................................\n",
      "[CV] .......... n_neighbors=6, score=-5.419555555555556, total=   0.0s\n",
      "[CV] n_neighbors=6 ...................................................\n",
      "[CV] ......... n_neighbors=6, score=-7.6217250505050504, total=   0.0s\n",
      "[CV] n_neighbors=6 ...................................................\n",
      "[CV] .......... n_neighbors=6, score=-8.116361616161615, total=   0.0s\n",
      "[CV] n_neighbors=6 ...................................................\n",
      "[CV] .......... n_neighbors=6, score=-7.545964343434342, total=   0.0s\n",
      "[CV] n_neighbors=6 ...................................................\n",
      "[CV] ......... n_neighbors=6, score=-12.643579797979797, total=   0.0s\n",
      "[CV] n_neighbors=7 ...................................................\n",
      "[CV] ........... n_neighbors=7, score=-8.94470068846816, total=   0.0s\n",
      "[CV] n_neighbors=7 ...................................................\n",
      "[CV] .......... n_neighbors=7, score=-7.692892426850259, total=   0.0s\n",
      "[CV] n_neighbors=7 ...................................................\n",
      "[CV] ......... n_neighbors=7, score=-15.977270395869192, total=   0.0s\n",
      "[CV] n_neighbors=7 ...................................................\n",
      "[CV] .......... n_neighbors=7, score=-4.159601721170396, total=   0.0s\n",
      "[CV] n_neighbors=7 ...................................................\n",
      "[CV] ......... n_neighbors=7, score=-2.9983549783549783, total=   0.0s\n",
      "[CV] n_neighbors=7 ...................................................\n",
      "[CV] .......... n_neighbors=7, score=-5.273350649350649, total=   0.0s\n",
      "[CV] n_neighbors=7 ...................................................\n",
      "[CV] ........... n_neighbors=7, score=-7.54304251082251, total=   0.0s\n",
      "[CV] n_neighbors=7 ...................................................\n",
      "[CV] .......... n_neighbors=7, score=-8.117665887445888, total=   0.0s\n",
      "[CV] n_neighbors=7 ...................................................\n",
      "[CV] .......... n_neighbors=7, score=-7.509346060606059, total=   0.0s\n",
      "[CV] n_neighbors=7 ...................................................\n",
      "[CV] ......... n_neighbors=7, score=-12.299593073593071, total=   0.0s\n",
      "[CV] n_neighbors=8 ...................................................\n",
      "[CV] .......... n_neighbors=8, score=-8.654289457831325, total=   0.0s\n",
      "[CV] n_neighbors=8 ...................................................\n",
      "[CV] .......... n_neighbors=8, score=-7.961860015060241, total=   0.0s\n",
      "[CV] n_neighbors=8 ...................................................\n",
      "[CV] .......... n_neighbors=8, score=-15.73855828313253, total=   0.0s\n",
      "[CV] n_neighbors=8 ...................................................\n",
      "[CV] .......... n_neighbors=8, score=-4.182689683734941, total=   0.0s\n",
      "[CV] n_neighbors=8 ...................................................\n",
      "[CV] ......... n_neighbors=8, score=-2.9670454545454548, total=   0.0s\n",
      "[CV] n_neighbors=8 ...................................................\n",
      "[CV] .......... n_neighbors=8, score=-5.123878787878788, total=   0.0s\n",
      "[CV] n_neighbors=8 ...................................................\n",
      "[CV] .......... n_neighbors=8, score=-7.508295757575759, total=   0.0s\n",
      "[CV] n_neighbors=8 ...................................................\n",
      "[CV] .......... n_neighbors=8, score=-8.267088863636364, total=   0.0s\n",
      "[CV] n_neighbors=8 ...................................................\n",
      "[CV] .......... n_neighbors=8, score=-7.248079318181818, total=   0.0s\n",
      "[CV] n_neighbors=8 ...................................................\n",
      "[CV] ......... n_neighbors=8, score=-12.183430303030303, total=   0.0s\n",
      "[CV] n_neighbors=9 ...................................................\n",
      "[CV] .......... n_neighbors=9, score=-8.483340428380188, total=   0.0s\n",
      "[CV] n_neighbors=9 ...................................................\n",
      "[CV] ........... n_neighbors=9, score=-8.15378734939759, total=   0.0s\n",
      "[CV] n_neighbors=9 ...................................................\n",
      "[CV] ......... n_neighbors=9, score=-15.663396385542171, total=   0.0s\n",
      "[CV] n_neighbors=9 ...................................................\n",
      "[CV] .......... n_neighbors=9, score=-4.184035408299868, total=   0.0s\n",
      "[CV] n_neighbors=9 ...................................................\n",
      "[CV] ......... n_neighbors=9, score=-2.8887542087542086, total=   0.0s\n",
      "[CV] n_neighbors=9 ...................................................\n",
      "[CV] ........... n_neighbors=9, score=-5.01152861952862, total=   0.0s\n",
      "[CV] n_neighbors=9 ...................................................\n",
      "[CV] .......... n_neighbors=9, score=-7.547630235690236, total=   0.0s\n",
      "[CV] n_neighbors=9 ...................................................\n",
      "[CV] .......... n_neighbors=9, score=-8.555912794612794, total=   0.0s\n",
      "[CV] n_neighbors=9 ...................................................\n",
      "[CV] .......... n_neighbors=9, score=-7.278865117845116, total=   0.0s\n",
      "[CV] n_neighbors=9 ...................................................\n",
      "[CV] ......... n_neighbors=9, score=-12.181166329966329, total=   0.0s\n",
      "[CV] n_neighbors=10 ..................................................\n",
      "[CV] ......... n_neighbors=10, score=-8.408735301204821, total=   0.0s\n",
      "[CV] n_neighbors=10 ..................................................\n",
      "[CV] ......... n_neighbors=10, score=-8.383446686746987, total=   0.0s\n",
      "[CV] n_neighbors=10 ..................................................\n",
      "[CV] ........ n_neighbors=10, score=-15.751110481927713, total=   0.0s\n",
      "[CV] n_neighbors=10 ..................................................\n",
      "[CV] ......... n_neighbors=10, score=-4.230803795180725, total=   0.0s\n",
      "[CV] n_neighbors=10 ..................................................\n",
      "[CV] ........ n_neighbors=10, score=-2.8563636363636373, total=   0.0s\n",
      "[CV] n_neighbors=10 ..................................................\n",
      "[CV] ......... n_neighbors=10, score=-4.951975757575758, total=   0.0s\n",
      "[CV] n_neighbors=10 ..................................................\n",
      "[CV] ......... n_neighbors=10, score=-7.431080242424242, total=   0.0s\n",
      "[CV] n_neighbors=10 ..................................................\n",
      "[CV] ......... n_neighbors=10, score=-8.416582242424242, total=   0.0s\n",
      "[CV] n_neighbors=10 ..................................................\n",
      "[CV] .......... n_neighbors=10, score=-7.18630587878788, total=   0.0s\n",
      "[CV] n_neighbors=10 ..................................................\n",
      "[CV] ......... n_neighbors=10, score=-12.04168606060606, total=   0.0s\n",
      "[CV] n_neighbors=11 ..................................................\n",
      "[CV] ......... n_neighbors=11, score=-8.338039759036144, total=   0.0s\n",
      "[CV] n_neighbors=11 ..................................................\n",
      "[CV] ......... n_neighbors=11, score=-8.673042552026288, total=   0.0s\n",
      "[CV] n_neighbors=11 ..................................................\n",
      "[CV] ........ n_neighbors=11, score=-15.784153669222345, total=   0.0s\n",
      "[CV] n_neighbors=11 ..................................................\n",
      "[CV] ......... n_neighbors=11, score=-4.165197097480835, total=   0.0s\n",
      "[CV] n_neighbors=11 ..................................................\n",
      "[CV] ........ n_neighbors=11, score=-2.8481542699724502, total=   0.0s\n",
      "[CV] n_neighbors=11 ..................................................\n",
      "[CV] .......... n_neighbors=11, score=-5.01292561983471, total=   0.0s\n",
      "[CV] n_neighbors=11 ..................................................\n",
      "[CV] ......... n_neighbors=11, score=-7.295200385674933, total=   0.0s\n",
      "[CV] n_neighbors=11 ..................................................\n",
      "[CV] ......... n_neighbors=11, score=-8.631891404958678, total=   0.0s\n",
      "[CV] n_neighbors=11 ..................................................\n",
      "[CV] .......... n_neighbors=11, score=-7.10299432506887, total=   0.0s\n",
      "[CV] n_neighbors=11 ..................................................\n",
      "[CV] ........ n_neighbors=11, score=-11.978742699724517, total=   0.0s\n",
      "[CV] n_neighbors=12 ..................................................\n",
      "[CV] ......... n_neighbors=12, score=-8.369864457831328, total=   0.0s\n",
      "[CV] n_neighbors=12 ..................................................\n",
      "[CV] ......... n_neighbors=12, score=-8.794082279116466, total=   0.0s\n",
      "[CV] n_neighbors=12 ..................................................\n",
      "[CV] ........ n_neighbors=12, score=-15.862652510040162, total=   0.0s\n",
      "[CV] n_neighbors=12 ..................................................\n",
      "[CV] ......... n_neighbors=12, score=-4.203144076305222, total=   0.0s\n",
      "[CV] n_neighbors=12 ..................................................\n",
      "[CV] ........ n_neighbors=12, score=-2.8348484848484836, total=   0.0s\n",
      "[CV] n_neighbors=12 ..................................................\n",
      "[CV] ......... n_neighbors=12, score=-4.904828282828282, total=   0.0s\n",
      "[CV] n_neighbors=12 ..................................................\n",
      "[CV] .......... n_neighbors=12, score=-7.16814393939394, total=   0.0s\n",
      "[CV] n_neighbors=12 ..................................................\n",
      "[CV] .................. n_neighbors=12, score=-8.604395, total=   0.0s\n",
      "[CV] n_neighbors=12 ..................................................\n",
      "[CV] ......... n_neighbors=12, score=-7.256244797979798, total=   0.0s\n"
     ]
    },
    {
     "name": "stdout",
     "output_type": "stream",
     "text": [
      "[CV] n_neighbors=12 ..................................................\n",
      "[CV] ......... n_neighbors=12, score=-11.99168787878788, total=   0.0s\n",
      "[CV] n_neighbors=13 ..................................................\n",
      "[CV] ......... n_neighbors=13, score=-8.407886932344764, total=   0.0s\n",
      "[CV] n_neighbors=13 ..................................................\n",
      "[CV] .......... n_neighbors=13, score=-9.13041468952734, total=   0.0s\n",
      "[CV] n_neighbors=13 ..................................................\n",
      "[CV] ......... n_neighbors=13, score=-15.75028313253012, total=   0.0s\n",
      "[CV] n_neighbors=13 ..................................................\n",
      "[CV] ........ n_neighbors=13, score=-4.5693462001853575, total=   0.0s\n",
      "[CV] n_neighbors=13 ..................................................\n",
      "[CV] ........ n_neighbors=13, score=-2.8091822843822833, total=   0.0s\n",
      "[CV] n_neighbors=13 ..................................................\n",
      "[CV] ........ n_neighbors=13, score=-4.8674731934731925, total=   0.0s\n",
      "[CV] n_neighbors=13 ..................................................\n",
      "[CV] ......... n_neighbors=13, score=-7.273012121212122, total=   0.0s\n",
      "[CV] n_neighbors=13 ..................................................\n",
      "[CV] ......... n_neighbors=13, score=-8.759634638694639, total=   0.0s\n",
      "[CV] n_neighbors=13 ..................................................\n",
      "[CV] ......... n_neighbors=13, score=-7.587549976689978, total=   0.0s\n",
      "[CV] n_neighbors=13 ..................................................\n",
      "[CV] ........ n_neighbors=13, score=-11.969304428904428, total=   0.0s\n",
      "[CV] n_neighbors=14 ..................................................\n",
      "[CV] .......... n_neighbors=14, score=-8.25695352839931, total=   0.0s\n",
      "[CV] n_neighbors=14 ..................................................\n",
      "[CV] ......... n_neighbors=14, score=-9.009283519793458, total=   0.0s\n",
      "[CV] n_neighbors=14 ..................................................\n",
      "[CV] ........ n_neighbors=14, score=-15.646835283993116, total=   0.0s\n",
      "[CV] n_neighbors=14 ..................................................\n",
      "[CV] ......... n_neighbors=14, score=-5.035370567986234, total=   0.0s\n",
      "[CV] n_neighbors=14 ..................................................\n",
      "[CV] ......... n_neighbors=14, score=-2.800531168831167, total=   0.0s\n",
      "[CV] n_neighbors=14 ..................................................\n",
      "[CV] .......... n_neighbors=14, score=-4.84572727272727, total=   0.0s\n",
      "[CV] n_neighbors=14 ..................................................\n",
      "[CV] ......... n_neighbors=14, score=-7.281600562770564, total=   0.0s\n",
      "[CV] n_neighbors=14 ..................................................\n",
      "[CV] ......... n_neighbors=14, score=-8.709476406926406, total=   0.0s\n",
      "[CV] n_neighbors=14 ..................................................\n",
      "[CV] ......... n_neighbors=14, score=-8.149491212121209, total=   0.0s\n",
      "[CV] n_neighbors=14 ..................................................\n",
      "[CV] ........ n_neighbors=14, score=-11.929576623376622, total=   0.0s\n",
      "[CV] n_neighbors=15 ..................................................\n",
      "[CV] ......... n_neighbors=15, score=-8.136257028112453, total=   0.0s\n",
      "[CV] n_neighbors=15 ..................................................\n",
      "[CV] ......... n_neighbors=15, score=-9.246634899598392, total=   0.0s\n",
      "[CV] n_neighbors=15 ..................................................\n",
      "[CV] ........ n_neighbors=15, score=-15.687545983935745, total=   0.0s\n",
      "[CV] n_neighbors=15 ..................................................\n",
      "[CV] .......... n_neighbors=15, score=-4.99722277108434, total=   0.0s\n",
      "[CV] n_neighbors=15 ..................................................\n",
      "[CV] ......... n_neighbors=15, score=-2.835416969696968, total=   0.0s\n",
      "[CV] n_neighbors=15 ..................................................\n",
      "[CV] ......... n_neighbors=15, score=-4.907365656565654, total=   0.0s\n",
      "[CV] n_neighbors=15 ..................................................\n",
      "[CV] ......... n_neighbors=15, score=-7.520171151515153, total=   0.0s\n",
      "[CV] n_neighbors=15 ..................................................\n",
      "[CV] ......... n_neighbors=15, score=-8.663866181818182, total=   0.0s\n",
      "[CV] n_neighbors=15 ..................................................\n",
      "[CV] .......... n_neighbors=15, score=-8.86832109090909, total=   0.0s\n",
      "[CV] n_neighbors=15 ..................................................\n",
      "[CV] ........ n_neighbors=15, score=-11.823314747474749, total=   0.0s\n",
      "[CV] n_neighbors=16 ..................................................\n",
      "[CV] ......... n_neighbors=16, score=-8.019006024096386, total=   0.0s\n",
      "[CV] n_neighbors=16 ..................................................\n",
      "[CV] .......... n_neighbors=16, score=-9.29671532379518, total=   0.0s\n",
      "[CV] n_neighbors=16 ..................................................\n",
      "[CV] ........ n_neighbors=16, score=-15.794490474397591, total=   0.0s\n",
      "[CV] n_neighbors=16 ..................................................\n",
      "[CV] ......... n_neighbors=16, score=-5.022098230421685, total=   0.0s\n",
      "[CV] n_neighbors=16 ..................................................\n",
      "[CV] ........ n_neighbors=16, score=-2.8177291666666666, total=   0.0s\n",
      "[CV] n_neighbors=16 ..................................................\n",
      "[CV] ........ n_neighbors=16, score=-5.0158598484848484, total=   0.0s\n",
      "[CV] n_neighbors=16 ..................................................\n",
      "[CV] ........ n_neighbors=16, score=-7.5597045075757565, total=   0.0s\n",
      "[CV] n_neighbors=16 ..................................................\n",
      "[CV] ......... n_neighbors=16, score=-8.715012159090907, total=   0.0s\n",
      "[CV] n_neighbors=16 ..................................................\n",
      "[CV] ......... n_neighbors=16, score=-9.396194962121212, total=   0.0s\n",
      "[CV] n_neighbors=16 ..................................................\n",
      "[CV] ......... n_neighbors=16, score=-11.71004696969697, total=   0.0s\n",
      "[CV] n_neighbors=17 ..................................................\n",
      "[CV] .......... n_neighbors=17, score=-7.85896881644224, total=   0.0s\n",
      "[CV] n_neighbors=17 ..................................................\n",
      "[CV] ......... n_neighbors=17, score=-9.473941141034729, total=   0.0s\n",
      "[CV] n_neighbors=17 ..................................................\n",
      "[CV] ........ n_neighbors=17, score=-15.746832778171509, total=   0.0s\n",
      "[CV] n_neighbors=17 ..................................................\n",
      "[CV] ......... n_neighbors=17, score=-5.114444117647058, total=   0.0s\n",
      "[CV] n_neighbors=17 ..................................................\n",
      "[CV] ........ n_neighbors=17, score=-2.8256285204991065, total=   0.0s\n",
      "[CV] n_neighbors=17 ..................................................\n",
      "[CV] ......... n_neighbors=17, score=-5.095144385026736, total=   0.0s\n",
      "[CV] n_neighbors=17 ..................................................\n",
      "[CV] ......... n_neighbors=17, score=-7.488929126559714, total=   0.0s\n",
      "[CV] n_neighbors=17 ..................................................\n",
      "[CV] ......... n_neighbors=17, score=-8.795620106951871, total=   0.0s\n",
      "[CV] n_neighbors=17 ..................................................\n",
      "[CV] ......... n_neighbors=17, score=-9.734970659536545, total=   0.0s\n",
      "[CV] n_neighbors=17 ..................................................\n",
      "[CV] ........ n_neighbors=17, score=-11.596924777183602, total=   0.0s\n",
      "[CV] n_neighbors=18 ..................................................\n",
      "[CV] ......... n_neighbors=18, score=-7.737068273092369, total=   0.0s\n",
      "[CV] n_neighbors=18 ..................................................\n",
      "[CV] .......... n_neighbors=18, score=-9.58054012717537, total=   0.0s\n",
      "[CV] n_neighbors=18 ..................................................\n",
      "[CV] ........ n_neighbors=18, score=-15.822811010709504, total=   0.0s\n",
      "[CV] n_neighbors=18 ..................................................\n",
      "[CV] ......... n_neighbors=18, score=-5.192294779116464, total=   0.0s\n",
      "[CV] n_neighbors=18 ..................................................\n",
      "[CV] ........ n_neighbors=18, score=-2.8079151515151506, total=   0.0s\n",
      "[CV] n_neighbors=18 ..................................................\n",
      "[CV] ......... n_neighbors=18, score=-5.058666666666666, total=   0.0s\n",
      "[CV] n_neighbors=18 ..................................................\n",
      "[CV] ......... n_neighbors=18, score=-7.378903198653199, total=   0.0s\n",
      "[CV] n_neighbors=18 ..................................................\n",
      "[CV] ......... n_neighbors=18, score=-8.891408013468014, total=   0.0s\n",
      "[CV] n_neighbors=18 ..................................................\n",
      "[CV] ......... n_neighbors=18, score=-9.924630538720539, total=   0.0s\n",
      "[CV] n_neighbors=18 ..................................................\n",
      "[CV] ........ n_neighbors=18, score=-11.439947474747475, total=   0.0s\n",
      "[CV] n_neighbors=19 ..................................................\n",
      "[CV] .......... n_neighbors=19, score=-7.57546607482562, total=   0.0s\n",
      "[CV] n_neighbors=19 ..................................................\n",
      "[CV] ......... n_neighbors=19, score=-9.555520577045023, total=   0.0s\n",
      "[CV] n_neighbors=19 ..................................................\n",
      "[CV] ........ n_neighbors=19, score=-15.850433893468612, total=   0.0s\n",
      "[CV] n_neighbors=19 ..................................................\n",
      "[CV] ......... n_neighbors=19, score=-5.268985827520605, total=   0.0s\n",
      "[CV] n_neighbors=19 ..................................................\n",
      "[CV] ......... n_neighbors=19, score=-2.816061562998404, total=   0.0s\n",
      "[CV] n_neighbors=19 ..................................................\n",
      "[CV] ......... n_neighbors=19, score=-5.119968102073366, total=   0.0s\n",
      "[CV] n_neighbors=19 ..................................................\n",
      "[CV] ........ n_neighbors=19, score=-7.3585514513556625, total=   0.0s\n",
      "[CV] n_neighbors=19 ..................................................\n",
      "[CV] ......... n_neighbors=19, score=-8.834213397129188, total=   0.0s\n",
      "[CV] n_neighbors=19 ..................................................\n",
      "[CV] ........ n_neighbors=19, score=-10.020236905901116, total=   0.0s\n",
      "[CV] n_neighbors=19 ..................................................\n",
      "[CV] ......... n_neighbors=19, score=-11.41510558213716, total=   0.0s\n",
      "[CV] n_neighbors=20 ..................................................\n",
      "[CV] ......... n_neighbors=20, score=-7.450180722891567, total=   0.0s\n",
      "[CV] n_neighbors=20 ..................................................\n",
      "[CV] ......... n_neighbors=20, score=-9.544322560240964, total=   0.0s\n",
      "[CV] n_neighbors=20 ..................................................\n",
      "[CV] ........ n_neighbors=20, score=-15.882594487951808, total=   0.0s\n",
      "[CV] n_neighbors=20 ..................................................\n",
      "[CV] ......... n_neighbors=20, score=-5.259163373493975, total=   0.0s\n",
      "[CV] n_neighbors=20 ..................................................\n",
      "[CV] ........ n_neighbors=20, score=-2.8105175757575727, total=   0.0s\n",
      "[CV] n_neighbors=20 ..................................................\n",
      "[CV] ......... n_neighbors=20, score=-5.114800000000001, total=   0.0s\n",
      "[CV] n_neighbors=20 ..................................................\n",
      "[CV] ......... n_neighbors=20, score=-7.268213666666665, total=   0.0s\n",
      "[CV] n_neighbors=20 ..................................................\n",
      "[CV] ......... n_neighbors=20, score=-8.904760636363637, total=   0.0s\n",
      "[CV] n_neighbors=20 ..................................................\n",
      "[CV] ......... n_neighbors=20, score=-10.01928566666667, total=   0.0s\n",
      "[CV] n_neighbors=20 ..................................................\n",
      "[CV] ........ n_neighbors=20, score=-11.307465454545452, total=   0.0s\n",
      "[CV] n_neighbors=21 ..................................................\n",
      "[CV] ......... n_neighbors=21, score=-7.346176133103843, total=   0.0s\n",
      "[CV] n_neighbors=21 ..................................................\n",
      "[CV] .......... n_neighbors=21, score=-9.53917380952381, total=   0.0s\n",
      "[CV] n_neighbors=21 ..................................................\n",
      "[CV] ........ n_neighbors=21, score=-15.917711101549054, total=   0.0s\n",
      "[CV] n_neighbors=21 ..................................................\n",
      "[CV] ........ n_neighbors=21, score=-5.2416392426850225, total=   0.0s\n",
      "[CV] n_neighbors=21 ..................................................\n",
      "[CV] ........ n_neighbors=21, score=-2.7940536796536772, total=   0.0s\n",
      "[CV] n_neighbors=21 ..................................................\n",
      "[CV] ......... n_neighbors=21, score=-5.180987012987013, total=   0.0s\n",
      "[CV] n_neighbors=21 ..................................................\n",
      "[CV] ......... n_neighbors=21, score=-7.253313535353534, total=   0.0s\n",
      "[CV] n_neighbors=21 ..................................................\n",
      "[CV] ......... n_neighbors=21, score=-8.978824011544011, total=   0.0s\n",
      "[CV] n_neighbors=21 ..................................................\n",
      "[CV] ......... n_neighbors=21, score=-9.999992121212122, total=   0.0s\n",
      "[CV] n_neighbors=21 ..................................................\n",
      "[CV] ........ n_neighbors=21, score=-11.250361904761904, total=   0.0s\n",
      "[CV] n_neighbors=22 ..................................................\n",
      "[CV] .......... n_neighbors=22, score=-7.25590909090909, total=   0.0s\n",
      "[CV] n_neighbors=22 ..................................................\n",
      "[CV] ......... n_neighbors=22, score=-9.561612513691129, total=   0.0s\n",
      "[CV] n_neighbors=22 ..................................................\n",
      "[CV] ........ n_neighbors=22, score=-16.085528504928806, total=   0.0s\n",
      "[CV] n_neighbors=22 ..................................................\n",
      "[CV] ......... n_neighbors=22, score=-5.170330449069001, total=   0.0s\n",
      "[CV] n_neighbors=22 ..................................................\n",
      "[CV] ........ n_neighbors=22, score=-2.7663033057851223, total=   0.0s\n",
      "[CV] n_neighbors=22 ..................................................\n",
      "[CV] ......... n_neighbors=22, score=-5.227922865013774, total=   0.0s\n",
      "[CV] n_neighbors=22 ..................................................\n",
      "[CV] ......... n_neighbors=22, score=-7.242360247933883, total=   0.0s\n",
      "[CV] n_neighbors=22 ..................................................\n",
      "[CV] ......... n_neighbors=22, score=-9.020069035812673, total=   0.0s\n",
      "[CV] n_neighbors=22 ..................................................\n",
      "[CV] ......... n_neighbors=22, score=-10.23067842975207, total=   0.0s\n",
      "[CV] n_neighbors=22 ..................................................\n",
      "[CV] ........ n_neighbors=22, score=-11.212231955922865, total=   0.0s\n",
      "[CV] n_neighbors=23 ..................................................\n",
      "[CV] ......... n_neighbors=23, score=-7.151631482451547, total=   0.0s\n",
      "[CV] n_neighbors=23 ..................................................\n",
      "[CV] ......... n_neighbors=23, score=-9.506243137768468, total=   0.0s\n",
      "[CV] n_neighbors=23 ..................................................\n",
      "[CV] ......... n_neighbors=23, score=-16.14073580408591, total=   0.0s\n",
      "[CV] n_neighbors=23 ..................................................\n",
      "[CV] ......... n_neighbors=23, score=-5.049181587218438, total=   0.0s\n",
      "[CV] n_neighbors=23 ..................................................\n",
      "[CV] ......... n_neighbors=23, score=-2.729002898550724, total=   0.0s\n",
      "[CV] n_neighbors=23 ..................................................\n",
      "[CV] ......... n_neighbors=23, score=-5.474013175230566, total=   0.0s\n",
      "[CV] n_neighbors=23 ..................................................\n",
      "[CV] ......... n_neighbors=23, score=-7.274694071146244, total=   0.0s\n",
      "[CV] n_neighbors=23 ..................................................\n",
      "[CV] .......... n_neighbors=23, score=-8.94894674571805, total=   0.0s\n",
      "[CV] n_neighbors=23 ..................................................\n",
      "[CV] ........ n_neighbors=23, score=-10.215447351778662, total=   0.0s\n",
      "[CV] n_neighbors=23 ..................................................\n",
      "[CV] ........ n_neighbors=23, score=-11.178474308300396, total=   0.0s\n",
      "[CV] n_neighbors=24 ..................................................\n",
      "[CV] ......... n_neighbors=24, score=-7.052446787148597, total=   0.0s\n",
      "[CV] n_neighbors=24 ..................................................\n",
      "[CV] ......... n_neighbors=24, score=-9.515960416666665, total=   0.0s\n",
      "[CV] n_neighbors=24 ..................................................\n",
      "[CV] ......... n_neighbors=24, score=-16.15650514558233, total=   0.0s\n",
      "[CV] n_neighbors=24 ..................................................\n",
      "[CV] ......... n_neighbors=24, score=-5.029577585341363, total=   0.0s\n"
     ]
    },
    {
     "name": "stdout",
     "output_type": "stream",
     "text": [
      "[CV] n_neighbors=24 ..................................................\n",
      "[CV] ........ n_neighbors=24, score=-2.7057593434343428, total=   0.0s\n",
      "[CV] n_neighbors=24 ..................................................\n",
      "[CV] ......... n_neighbors=24, score=-5.633527777777778, total=   0.0s\n",
      "[CV] n_neighbors=24 ..................................................\n",
      "[CV] ......... n_neighbors=24, score=-7.196325833333334, total=   0.0s\n",
      "[CV] n_neighbors=24 ..................................................\n",
      "[CV] ......... n_neighbors=24, score=-8.909451994949494, total=   0.0s\n",
      "[CV] n_neighbors=24 ..................................................\n",
      "[CV] ........ n_neighbors=24, score=-10.166215328282831, total=   0.0s\n",
      "[CV] n_neighbors=24 ..................................................\n",
      "[CV] ........ n_neighbors=24, score=-11.174964646464648, total=   0.0s\n",
      "[CV] n_neighbors=25 ..................................................\n",
      "[CV] ......... n_neighbors=25, score=-7.039340722891565, total=   0.0s\n",
      "[CV] n_neighbors=25 ..................................................\n",
      "[CV] ......... n_neighbors=25, score=-9.440300650602412, total=   0.0s\n",
      "[CV] n_neighbors=25 ..................................................\n",
      "[CV] ........ n_neighbors=25, score=-16.280930530120482, total=   0.0s\n",
      "[CV] n_neighbors=25 ..................................................\n",
      "[CV] ......... n_neighbors=25, score=-5.027408963855418, total=   0.0s\n",
      "[CV] n_neighbors=25 ..................................................\n",
      "[CV] ........ n_neighbors=25, score=-2.7147381818181824, total=   0.0s\n",
      "[CV] n_neighbors=25 ..................................................\n",
      "[CV] .......... n_neighbors=25, score=-5.82158787878788, total=   0.0s\n",
      "[CV] n_neighbors=25 ..................................................\n",
      "[CV] ......... n_neighbors=25, score=-7.181368872727273, total=   0.0s\n",
      "[CV] n_neighbors=25 ..................................................\n",
      "[CV] ......... n_neighbors=25, score=-8.910216751515152, total=   0.0s\n",
      "[CV] n_neighbors=25 ..................................................\n",
      "[CV] ........ n_neighbors=25, score=-10.020376412121214, total=   0.0s\n",
      "[CV] n_neighbors=25 ..................................................\n",
      "[CV] ......... n_neighbors=25, score=-11.16945696969697, total=   0.0s\n",
      "[CV] n_neighbors=26 ..................................................\n",
      "[CV] ......... n_neighbors=26, score=-6.997354031510657, total=   0.0s\n",
      "[CV] n_neighbors=26 ..................................................\n",
      "[CV] ......... n_neighbors=26, score=-9.485961329935122, total=   0.0s\n",
      "[CV] n_neighbors=26 ..................................................\n",
      "[CV] ........ n_neighbors=26, score=-16.382607715477295, total=   0.0s\n",
      "[CV] n_neighbors=26 ..................................................\n",
      "[CV] ......... n_neighbors=26, score=-4.955709684893417, total=   0.0s\n",
      "[CV] n_neighbors=26 ..................................................\n",
      "[CV] ......... n_neighbors=26, score=-2.705368065268067, total=   0.0s\n",
      "[CV] n_neighbors=26 ..................................................\n",
      "[CV] ......... n_neighbors=26, score=-6.017571095571097, total=   0.0s\n",
      "[CV] n_neighbors=26 ..................................................\n",
      "[CV] ......... n_neighbors=26, score=-7.125921421911423, total=   0.0s\n",
      "[CV] n_neighbors=26 ..................................................\n",
      "[CV] ......... n_neighbors=26, score=-8.942948601398601, total=   0.0s\n",
      "[CV] n_neighbors=26 ..................................................\n",
      "[CV] ......... n_neighbors=26, score=-9.885497132867135, total=   0.0s\n",
      "[CV] n_neighbors=26 ..................................................\n",
      "[CV] ........ n_neighbors=26, score=-11.136708624708627, total=   0.0s\n",
      "[CV] n_neighbors=27 ..................................................\n",
      "[CV] .......... n_neighbors=27, score=-6.91906532797858, total=   0.0s\n",
      "[CV] n_neighbors=27 ..................................................\n",
      "[CV] ......... n_neighbors=27, score=-9.490041744756805, total=   0.0s\n",
      "[CV] n_neighbors=27 ..................................................\n",
      "[CV] ........ n_neighbors=27, score=-16.568968340026775, total=   0.0s\n",
      "[CV] n_neighbors=27 ..................................................\n",
      "[CV] ......... n_neighbors=27, score=-4.895194065149483, total=   0.0s\n",
      "[CV] n_neighbors=27 ..................................................\n",
      "[CV] ......... n_neighbors=27, score=-2.710232323232326, total=   0.0s\n",
      "[CV] n_neighbors=27 ..................................................\n",
      "[CV] ........ n_neighbors=27, score=-6.1815578002244695, total=   0.0s\n",
      "[CV] n_neighbors=27 ..................................................\n",
      "[CV] ......... n_neighbors=27, score=-7.127073490460157, total=   0.0s\n",
      "[CV] n_neighbors=27 ..................................................\n",
      "[CV] ......... n_neighbors=27, score=-8.961047744107745, total=   0.0s\n",
      "[CV] n_neighbors=27 ..................................................\n",
      "[CV] .......... n_neighbors=27, score=-9.71981115600449, total=   0.0s\n",
      "[CV] n_neighbors=27 ..................................................\n",
      "[CV] ........ n_neighbors=27, score=-11.148861952861957, total=   0.0s\n",
      "[CV] n_neighbors=28 ..................................................\n",
      "[CV] ......... n_neighbors=28, score=-6.804815361445781, total=   0.0s\n",
      "[CV] n_neighbors=28 ..................................................\n",
      "[CV] ......... n_neighbors=28, score=-9.522471837349398, total=   0.0s\n",
      "[CV] n_neighbors=28 ..................................................\n",
      "[CV] ........ n_neighbors=28, score=-16.614475731497418, total=   0.0s\n",
      "[CV] n_neighbors=28 ..................................................\n",
      "[CV] ......... n_neighbors=28, score=-4.822166222030978, total=   0.0s\n",
      "[CV] n_neighbors=28 ..................................................\n",
      "[CV] ......... n_neighbors=28, score=-2.700803463203465, total=   0.0s\n",
      "[CV] n_neighbors=28 ..................................................\n",
      "[CV] ......... n_neighbors=28, score=-6.347246753246757, total=   0.0s\n",
      "[CV] n_neighbors=28 ..................................................\n",
      "[CV] ......... n_neighbors=28, score=-7.108417943722945, total=   0.0s\n",
      "[CV] n_neighbors=28 ..................................................\n",
      "[CV] ......... n_neighbors=28, score=-8.903173138528139, total=   0.0s\n",
      "[CV] n_neighbors=28 ..................................................\n",
      "[CV] ......... n_neighbors=28, score=-9.514236515151515, total=   0.0s\n",
      "[CV] n_neighbors=28 ..................................................\n",
      "[CV] ........ n_neighbors=28, score=-11.226361471861473, total=   0.0s\n",
      "[CV] n_neighbors=29 ..................................................\n",
      "[CV] ......... n_neighbors=29, score=-6.738918612380555, total=   0.0s\n",
      "[CV] n_neighbors=29 ..................................................\n",
      "[CV] ......... n_neighbors=29, score=-9.476893041130035, total=   0.0s\n",
      "[CV] n_neighbors=29 ..................................................\n",
      "[CV] ........ n_neighbors=29, score=-16.613140714582467, total=   0.0s\n",
      "[CV] n_neighbors=29 ..................................................\n",
      "[CV] ......... n_neighbors=29, score=-4.778409326963022, total=   0.0s\n",
      "[CV] n_neighbors=29 ..................................................\n",
      "[CV] ........ n_neighbors=29, score=-2.6935178683385597, total=   0.0s\n",
      "[CV] n_neighbors=29 ..................................................\n",
      "[CV] ......... n_neighbors=29, score=-6.465868338557999, total=   0.0s\n",
      "[CV] n_neighbors=29 ..................................................\n",
      "[CV] ......... n_neighbors=29, score=-7.054159226750261, total=   0.0s\n",
      "[CV] n_neighbors=29 ..................................................\n",
      "[CV] ......... n_neighbors=29, score=-8.883068568443052, total=   0.0s\n",
      "[CV] n_neighbors=29 ..................................................\n",
      "[CV] ......... n_neighbors=29, score=-9.327826269592476, total=   0.0s\n",
      "[CV] n_neighbors=29 ..................................................\n",
      "[CV] ........ n_neighbors=29, score=-11.197164054336469, total=   0.0s\n",
      "[CV] n_neighbors=30 ..................................................\n",
      "[CV] ......... n_neighbors=30, score=-6.742503554216866, total=   0.0s\n",
      "[CV] n_neighbors=30 ..................................................\n",
      "[CV] ......... n_neighbors=30, score=-9.486505522088354, total=   0.0s\n",
      "[CV] n_neighbors=30 ..................................................\n",
      "[CV] ........ n_neighbors=30, score=-16.565061767068272, total=   0.0s\n",
      "[CV] n_neighbors=30 ..................................................\n",
      "[CV] ......... n_neighbors=30, score=-4.711253755020077, total=   0.0s\n",
      "[CV] n_neighbors=30 ..................................................\n",
      "[CV] ........ n_neighbors=30, score=-2.6668557575757585, total=   0.0s\n",
      "[CV] n_neighbors=30 ..................................................\n",
      "[CV] ......... n_neighbors=30, score=-6.714806060606066, total=   0.0s\n",
      "[CV] n_neighbors=30 ..................................................\n",
      "[CV] ......... n_neighbors=30, score=-7.067840828282831, total=   0.0s\n",
      "[CV] n_neighbors=30 ..................................................\n",
      "[CV] ........... n_neighbors=30, score=-8.8552638989899, total=   0.0s\n",
      "[CV] n_neighbors=30 ..................................................\n",
      "[CV] ......... n_neighbors=30, score=-9.147789636363635, total=   0.0s\n",
      "[CV] n_neighbors=30 ..................................................\n",
      "[CV] ........ n_neighbors=30, score=-11.265021292929294, total=   0.0s\n",
      "[CV] n_neighbors=31 ..................................................\n",
      "[CV] ......... n_neighbors=31, score=-6.809306781966575, total=   0.0s\n",
      "[CV] n_neighbors=31 ..................................................\n",
      "[CV] ......... n_neighbors=31, score=-9.541029051690634, total=   0.0s\n",
      "[CV] n_neighbors=31 ..................................................\n",
      "[CV] ......... n_neighbors=31, score=-16.55575732607851, total=   0.0s\n",
      "[CV] n_neighbors=31 ..................................................\n",
      "[CV] ......... n_neighbors=31, score=-4.668239739603572, total=   0.0s\n",
      "[CV] n_neighbors=31 ..................................................\n",
      "[CV] ......... n_neighbors=31, score=-2.679574975562075, total=   0.0s\n",
      "[CV] n_neighbors=31 ..................................................\n",
      "[CV] ......... n_neighbors=31, score=-6.786199413489742, total=   0.0s\n",
      "[CV] n_neighbors=31 ..................................................\n",
      "[CV] ......... n_neighbors=31, score=-7.024040997067451, total=   0.0s\n",
      "[CV] n_neighbors=31 ..................................................\n",
      "[CV] ......... n_neighbors=31, score=-8.842154349951125, total=   0.0s\n",
      "[CV] n_neighbors=31 ..................................................\n",
      "[CV] ......... n_neighbors=31, score=-8.937772961876833, total=   0.0s\n",
      "[CV] n_neighbors=31 ..................................................\n",
      "[CV] ........ n_neighbors=31, score=-11.170986392961877, total=   0.0s\n",
      "[CV] n_neighbors=32 ..................................................\n",
      "[CV] ......... n_neighbors=32, score=-6.767477917921687, total=   0.0s\n",
      "[CV] n_neighbors=32 ..................................................\n",
      "[CV] .......... n_neighbors=32, score=-9.48225404743976, total=   0.0s\n",
      "[CV] n_neighbors=32 ..................................................\n",
      "[CV] ........ n_neighbors=32, score=-16.696678802710842, total=   0.0s\n",
      "[CV] n_neighbors=32 ..................................................\n",
      "[CV] ......... n_neighbors=32, score=-4.677219427710842, total=   0.0s\n",
      "[CV] n_neighbors=32 ..................................................\n",
      "[CV] ......... n_neighbors=32, score=-2.685412878787879, total=   0.0s\n",
      "[CV] n_neighbors=32 ..................................................\n",
      "[CV] ......... n_neighbors=32, score=-6.902138257575758, total=   0.0s\n",
      "[CV] n_neighbors=32 ..................................................\n",
      "[CV] ......... n_neighbors=32, score=-6.978785151515152, total=   0.0s\n",
      "[CV] n_neighbors=32 ..................................................\n",
      "[CV] .......... n_neighbors=32, score=-8.86114759469697, total=   0.0s\n",
      "[CV] n_neighbors=32 ..................................................\n",
      "[CV] ......... n_neighbors=32, score=-8.764054678030304, total=   0.0s\n",
      "[CV] n_neighbors=32 ..................................................\n",
      "[CV] ........ n_neighbors=32, score=-11.123656325757576, total=   0.0s\n",
      "[CV] n_neighbors=33 ..................................................\n",
      "[CV] ........ n_neighbors=33, score=-6.7713823840817815, total=   0.0s\n",
      "[CV] n_neighbors=33 ..................................................\n",
      "[CV] ......... n_neighbors=33, score=-9.504617287331142, total=   0.0s\n",
      "[CV] n_neighbors=33 ..................................................\n",
      "[CV] ......... n_neighbors=33, score=-16.68590562248996, total=   0.0s\n",
      "[CV] n_neighbors=33 ..................................................\n",
      "[CV] ......... n_neighbors=33, score=-4.641580613362541, total=   0.0s\n",
      "[CV] n_neighbors=33 ..................................................\n",
      "[CV] ......... n_neighbors=33, score=-2.668613590449955, total=   0.0s\n",
      "[CV] n_neighbors=33 ..................................................\n",
      "[CV] ......... n_neighbors=33, score=-6.983120293847567, total=   0.0s\n",
      "[CV] n_neighbors=33 ..................................................\n",
      "[CV] ......... n_neighbors=33, score=-6.966782956841139, total=   0.0s\n",
      "[CV] n_neighbors=33 ..................................................\n",
      "[CV] ......... n_neighbors=33, score=-8.874260330578513, total=   0.0s\n",
      "[CV] n_neighbors=33 ..................................................\n",
      "[CV] ......... n_neighbors=33, score=-8.606135665748393, total=   0.0s\n",
      "[CV] n_neighbors=33 ..................................................\n",
      "[CV] ........ n_neighbors=33, score=-11.132714416896235, total=   0.0s\n",
      "[CV] n_neighbors=34 ..................................................\n",
      "[CV] .......... n_neighbors=34, score=-6.75885944365698, total=   0.0s\n",
      "[CV] n_neighbors=34 ..................................................\n",
      "[CV] ......... n_neighbors=34, score=-9.452117204110559, total=   0.0s\n",
      "[CV] n_neighbors=34 ..................................................\n",
      "[CV] ........ n_neighbors=34, score=-16.673567009213322, total=   0.0s\n",
      "[CV] n_neighbors=34 ..................................................\n",
      "[CV] ......... n_neighbors=34, score=-4.603499220411055, total=   0.0s\n",
      "[CV] n_neighbors=34 ..................................................\n",
      "[CV] .......... n_neighbors=34, score=-2.66485971479501, total=   0.0s\n",
      "[CV] n_neighbors=34 ..................................................\n",
      "[CV] ......... n_neighbors=34, score=-7.109169340463458, total=   0.0s\n",
      "[CV] n_neighbors=34 ..................................................\n",
      "[CV] ........ n_neighbors=34, score=-6.9397934581105165, total=   0.0s\n",
      "[CV] n_neighbors=34 ..................................................\n",
      "[CV] ......... n_neighbors=34, score=-8.897950213903744, total=   0.0s\n",
      "[CV] n_neighbors=34 ..................................................\n",
      "[CV] ......... n_neighbors=34, score=-8.461424010695186, total=   0.0s\n",
      "[CV] n_neighbors=34 ..................................................\n",
      "[CV] ........ n_neighbors=34, score=-11.137755793226377, total=   0.0s\n",
      "[CV] n_neighbors=35 ..................................................\n",
      "[CV] ......... n_neighbors=35, score=-6.791361910499137, total=   0.0s\n",
      "[CV] n_neighbors=35 ..................................................\n",
      "[CV] ......... n_neighbors=35, score=-9.457443631669534, total=   0.0s\n",
      "[CV] n_neighbors=35 ..................................................\n",
      "[CV] ......... n_neighbors=35, score=-16.65411624784854, total=   0.0s\n",
      "[CV] n_neighbors=35 ..................................................\n",
      "[CV] ......... n_neighbors=35, score=-4.585412289156626, total=   0.0s\n",
      "[CV] n_neighbors=35 ..................................................\n",
      "[CV] ........ n_neighbors=35, score=-2.6474398268398285, total=   0.0s\n",
      "[CV] n_neighbors=35 ..................................................\n",
      "[CV] ......... n_neighbors=35, score=-7.051032034632034, total=   0.0s\n",
      "[CV] n_neighbors=35 ..................................................\n",
      "[CV] ......... n_neighbors=35, score=-6.928086164502165, total=   0.0s\n",
      "[CV] n_neighbors=35 ..................................................\n",
      "[CV] ......... n_neighbors=35, score=-8.908412623376623, total=   0.0s\n",
      "[CV] n_neighbors=35 ..................................................\n",
      "[CV] .......... n_neighbors=35, score=-8.33253122077922, total=   0.0s\n"
     ]
    },
    {
     "name": "stdout",
     "output_type": "stream",
     "text": [
      "[CV] n_neighbors=35 ..................................................\n",
      "[CV] ........ n_neighbors=35, score=-11.094706493506493, total=   0.0s\n",
      "[CV] n_neighbors=36 ..................................................\n",
      "[CV] ......... n_neighbors=36, score=-6.809199012717537, total=   0.0s\n",
      "[CV] n_neighbors=36 ..................................................\n",
      "[CV] ......... n_neighbors=36, score=-9.451821201472557, total=   0.0s\n",
      "[CV] n_neighbors=36 ..................................................\n",
      "[CV] ........ n_neighbors=36, score=-16.601507128514054, total=   0.0s\n",
      "[CV] n_neighbors=36 ..................................................\n",
      "[CV] ......... n_neighbors=36, score=-4.568688654618475, total=   0.0s\n",
      "[CV] n_neighbors=36 ..................................................\n",
      "[CV] ........ n_neighbors=36, score=-2.6334742424242443, total=   0.0s\n",
      "[CV] n_neighbors=36 ..................................................\n",
      "[CV] ......... n_neighbors=36, score=-7.194860269360271, total=   0.0s\n",
      "[CV] n_neighbors=36 ..................................................\n",
      "[CV] ......... n_neighbors=36, score=-6.909757171717172, total=   0.0s\n",
      "[CV] n_neighbors=36 ..................................................\n",
      "[CV] ......... n_neighbors=36, score=-8.912611632996635, total=   0.0s\n",
      "[CV] n_neighbors=36 ..................................................\n",
      "[CV] ......... n_neighbors=36, score=-8.246730269360267, total=   0.0s\n",
      "[CV] n_neighbors=36 ..................................................\n",
      "[CV] .......... n_neighbors=36, score=-11.0701137037037, total=   0.0s\n",
      "[CV] n_neighbors=37 ..................................................\n",
      "[CV] ......... n_neighbors=37, score=-6.900554102898077, total=   0.0s\n",
      "[CV] n_neighbors=37 ..................................................\n",
      "[CV] ......... n_neighbors=37, score=-9.382344431781178, total=   0.0s\n",
      "[CV] n_neighbors=37 ..................................................\n",
      "[CV] ......... n_neighbors=37, score=-16.59063591663953, total=   0.0s\n",
      "[CV] n_neighbors=37 ..................................................\n",
      "[CV] ......... n_neighbors=37, score=-4.521496499511561, total=   0.0s\n",
      "[CV] n_neighbors=37 ..................................................\n",
      "[CV] ........ n_neighbors=37, score=-2.6183392301392323, total=   0.0s\n",
      "[CV] n_neighbors=37 ..................................................\n",
      "[CV] ......... n_neighbors=37, score=-7.164615888615889, total=   0.0s\n",
      "[CV] n_neighbors=37 ..................................................\n",
      "[CV] ......... n_neighbors=37, score=-6.903793955773955, total=   0.0s\n",
      "[CV] n_neighbors=37 ..................................................\n",
      "[CV] ......... n_neighbors=37, score=-8.921149762489764, total=   0.0s\n",
      "[CV] n_neighbors=37 ..................................................\n",
      "[CV] ......... n_neighbors=37, score=-8.073568845208845, total=   0.0s\n",
      "[CV] n_neighbors=37 ..................................................\n",
      "[CV] ........ n_neighbors=37, score=-11.107626535626533, total=   0.0s\n",
      "[CV] n_neighbors=38 ..................................................\n",
      "[CV] ......... n_neighbors=38, score=-6.952156991122382, total=   0.0s\n",
      "[CV] n_neighbors=38 ..................................................\n",
      "[CV] .......... n_neighbors=38, score=-9.38177148065948, total=   0.0s\n",
      "[CV] n_neighbors=38 ..................................................\n",
      "[CV] .......... n_neighbors=38, score=-16.5656616994293, total=   0.0s\n",
      "[CV] n_neighbors=38 ..................................................\n",
      "[CV] ......... n_neighbors=38, score=-4.529656911857956, total=   0.0s\n",
      "[CV] n_neighbors=38 ..................................................\n",
      "[CV] ........ n_neighbors=38, score=-2.5949539074960155, total=   0.0s\n",
      "[CV] n_neighbors=38 ..................................................\n",
      "[CV] ......... n_neighbors=38, score=-7.186275917065394, total=   0.0s\n",
      "[CV] n_neighbors=38 ..................................................\n",
      "[CV] ......... n_neighbors=38, score=-6.899860956937799, total=   0.0s\n",
      "[CV] n_neighbors=38 ..................................................\n",
      "[CV] ......... n_neighbors=38, score=-8.940704880382777, total=   0.0s\n",
      "[CV] n_neighbors=38 ..................................................\n",
      "[CV] ......... n_neighbors=38, score=-8.011754035087717, total=   0.0s\n",
      "[CV] n_neighbors=38 ..................................................\n",
      "[CV] ........ n_neighbors=38, score=-11.112114146730459, total=   0.0s\n",
      "[CV] n_neighbors=39 ..................................................\n",
      "[CV] ......... n_neighbors=39, score=-6.998144315724438, total=   0.0s\n",
      "[CV] n_neighbors=39 ..................................................\n",
      "[CV] ......... n_neighbors=39, score=-9.427541010194625, total=   0.0s\n",
      "[CV] n_neighbors=39 ..................................................\n",
      "[CV] ........ n_neighbors=39, score=-16.546719215322828, total=   0.0s\n",
      "[CV] n_neighbors=39 ..................................................\n",
      "[CV] .......... n_neighbors=39, score=-4.47138004324992, total=   0.0s\n",
      "[CV] n_neighbors=39 ..................................................\n",
      "[CV] ........ n_neighbors=39, score=-2.5792463092463116, total=   0.0s\n",
      "[CV] n_neighbors=39 ..................................................\n",
      "[CV] ......... n_neighbors=39, score=-7.119656565656569, total=   0.0s\n",
      "[CV] n_neighbors=39 ..................................................\n",
      "[CV] ......... n_neighbors=39, score=-6.910974032634033, total=   0.0s\n",
      "[CV] n_neighbors=39 ..................................................\n",
      "[CV] .......... n_neighbors=39, score=-8.93165094017094, total=   0.0s\n",
      "[CV] n_neighbors=39 ..................................................\n",
      "[CV] .......... n_neighbors=39, score=-8.03139981351981, total=   0.0s\n",
      "[CV] n_neighbors=39 ..................................................\n",
      "[CV] ........ n_neighbors=39, score=-11.082294545454541, total=   0.0s\n"
     ]
    },
    {
     "name": "stderr",
     "output_type": "stream",
     "text": [
      "[Parallel(n_jobs=1)]: Done 390 out of 390 | elapsed:   22.3s finished\n",
      "D:\\Anaconda\\lib\\site-packages\\sklearn\\model_selection\\_search.py:841: DeprecationWarning: The default of the `iid` parameter will change from True to False in version 0.22 and will be removed in 0.24. This will change numeric results when test-set sizes are unequal.\n",
      "  DeprecationWarning)\n"
     ]
    },
    {
     "data": {
      "text/plain": [
       "GridSearchCV(cv=10, error_score='raise-deprecating',\n",
       "       estimator=KNeighborsRegressor(algorithm='auto', leaf_size=30, metric='minkowski',\n",
       "          metric_params=None, n_jobs=None, n_neighbors=5, p=2,\n",
       "          weights='uniform'),\n",
       "       fit_params=None, iid='warn', n_jobs=None,\n",
       "       param_grid={'n_neighbors': array([ 1,  2,  3,  4,  5,  6,  7,  8,  9, 10, 11, 12, 13, 14, 15, 16, 17,\n",
       "       18, 19, 20, 21, 22, 23, 24, 25, 26, 27, 28, 29, 30, 31, 32, 33, 34,\n",
       "       35, 36, 37, 38, 39])},\n",
       "       pre_dispatch='2*n_jobs', refit=True, return_train_score='warn',\n",
       "       scoring='neg_mean_absolute_error', verbose=5)"
      ]
     },
     "execution_count": 504,
     "metadata": {},
     "output_type": "execute_result"
    }
   ],
   "source": [
    "parameters = {'n_neighbors': np.arange(1, 40)}\n",
    "reg = KNeighborsRegressor()\n",
    "search = GridSearchCV(reg, parameters, scoring='neg_mean_absolute_error', cv=10, verbose=5)\n",
    "search.fit(X_train, y_train)"
   ]
  },
  {
   "cell_type": "code",
   "execution_count": 505,
   "metadata": {},
   "outputs": [],
   "source": [
    "best_reg = search.best_estimator_"
   ]
  },
  {
   "cell_type": "code",
   "execution_count": 519,
   "metadata": {},
   "outputs": [],
   "source": [
    "scores = cross_val_score(KNeighborsRegressor(1), X_train, y_train,\n",
    "                         cv=LeaveOneOut(), scoring='neg_mean_absolute_error')"
   ]
  },
  {
   "cell_type": "code",
   "execution_count": 520,
   "metadata": {},
   "outputs": [
    {
     "data": {
      "text/plain": [
       "(-5.266266686819831, 11.076303818262051)"
      ]
     },
     "execution_count": 520,
     "metadata": {},
     "output_type": "execute_result"
    }
   ],
   "source": [
    "scores.mean(), scores.std()"
   ]
  },
  {
   "cell_type": "code",
   "execution_count": 522,
   "metadata": {
    "scrolled": true
   },
   "outputs": [
    {
     "data": {
      "text/plain": [
       "(1654, 26)"
      ]
     },
     "execution_count": 522,
     "metadata": {},
     "output_type": "execute_result"
    }
   ],
   "source": [
    "X_train.shape"
   ]
  },
  {
   "cell_type": "code",
   "execution_count": 542,
   "metadata": {
    "scrolled": true
   },
   "outputs": [],
   "source": [
    "X_train, X_test, y_train, y_test = model_selection.train_test_split(X_train_, y_train, test_size=0.2)"
   ]
  },
  {
   "cell_type": "code",
   "execution_count": 558,
   "metadata": {},
   "outputs": [],
   "source": [
    "# reg = KNeighborsRegressor(1)\n",
    "reg = xgb.XGBRegressor(**{'alpha': 3.5, 'eta': 0.05, 'gamma': 3.0, 'max_depth': 2, 'n_estimators': 156, 'num_leaves': 17})"
   ]
  },
  {
   "cell_type": "code",
   "execution_count": 571,
   "metadata": {
    "scrolled": true
   },
   "outputs": [
    {
     "data": {
      "text/plain": [
       "XGBRegressor(alpha=3.5, base_score=0.5, booster='gbtree', colsample_bylevel=1,\n",
       "       colsample_bytree=1, eta=0.05, gamma=3.0, learning_rate=0.1,\n",
       "       max_delta_step=0, max_depth=2, min_child_weight=1, missing=None,\n",
       "       n_estimators=156, n_jobs=1, nthread=None, num_leaves=17,\n",
       "       objective='reg:linear', random_state=0, reg_alpha=0, reg_lambda=1,\n",
       "       scale_pos_weight=1, seed=None, silent=True, subsample=1)"
      ]
     },
     "execution_count": 571,
     "metadata": {},
     "output_type": "execute_result"
    }
   ],
   "source": [
    "reg.fit(X_train, y_train)"
   ]
  },
  {
   "cell_type": "code",
   "execution_count": 572,
   "metadata": {},
   "outputs": [
    {
     "data": {
      "text/plain": [
       "0.5760468923265225"
      ]
     },
     "execution_count": 572,
     "metadata": {},
     "output_type": "execute_result"
    }
   ],
   "source": [
    "reg.score(X_train, y_train)"
   ]
  },
  {
   "cell_type": "code",
   "execution_count": 573,
   "metadata": {},
   "outputs": [
    {
     "data": {
      "text/plain": [
       "5.6472952770668545"
      ]
     },
     "execution_count": 573,
     "metadata": {},
     "output_type": "execute_result"
    }
   ],
   "source": [
    "mean_absolute_error(reg.predict(X_train), y_train)"
   ]
  },
  {
   "cell_type": "code",
   "execution_count": 574,
   "metadata": {},
   "outputs": [
    {
     "data": {
      "text/plain": [
       "6.557940382472842"
      ]
     },
     "execution_count": 574,
     "metadata": {},
     "output_type": "execute_result"
    }
   ],
   "source": [
    "mean_absolute_error(reg.predict(X_test), y_test)"
   ]
  },
  {
   "cell_type": "code",
   "execution_count": null,
   "metadata": {},
   "outputs": [],
   "source": []
  }
 ],
 "metadata": {
  "kernelspec": {
   "display_name": "Python 3",
   "language": "python",
   "name": "python3"
  },
  "language_info": {
   "codemirror_mode": {
    "name": "ipython",
    "version": 3
   },
   "file_extension": ".py",
   "mimetype": "text/x-python",
   "name": "python",
   "nbconvert_exporter": "python",
   "pygments_lexer": "ipython3",
   "version": "3.7.3"
  }
 },
 "nbformat": 4,
 "nbformat_minor": 2
}
